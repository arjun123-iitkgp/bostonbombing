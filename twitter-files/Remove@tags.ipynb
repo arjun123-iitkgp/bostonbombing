{
 "cells": [
  {
   "cell_type": "code",
   "execution_count": 92,
   "metadata": {
    "collapsed": true,
    "deletable": true,
    "editable": true
   },
   "outputs": [],
   "source": [
    "import pandas as pd\n",
    "import numpy as np"
   ]
  },
  {
   "cell_type": "code",
   "execution_count": 95,
   "metadata": {
    "collapsed": true
   },
   "outputs": [],
   "source": [
    "import re"
   ]
  },
  {
   "cell_type": "code",
   "execution_count": 104,
   "metadata": {
    "collapsed": false
   },
   "outputs": [],
   "source": [
    "df = pd.read_csv('tweets_dataframe.csv',sep=\"\\t\")"
   ]
  },
  {
   "cell_type": "code",
   "execution_count": 100,
   "metadata": {
    "collapsed": false
   },
   "outputs": [],
   "source": [
    "for i in xrange(2000):\n",
    "    tweet = df.loc[i]['text']\n",
    "    at_the_rate = re.findall(r'@\\w+[\" \",:]',tweet)\n",
    "    write_tweet=\"\"\n",
    "    for each in tweet.split():\n",
    "        if each not in at_the_rate:\n",
    "            write_tweet += ' ' + each\n",
    "    #Write the @-free text into the dataframe.\n",
    "    df.replace(df.loc[i]['text'],write_tweet,inplace=True)"
   ]
  },
  {
   "cell_type": "code",
   "execution_count": 103,
   "metadata": {
    "collapsed": false
   },
   "outputs": [],
   "source": [
    "df.to_csv('tweets_dataframe.csv', sep='\\t',index_label=False) #Remove links present in tweet texts."
   ]
  },
  {
   "cell_type": "code",
   "execution_count": 106,
   "metadata": {
    "collapsed": false
   },
   "outputs": [
    {
     "data": {
      "text/html": [
       "<div>\n",
       "<table border=\"1\" class=\"dataframe\">\n",
       "  <thead>\n",
       "    <tr style=\"text-align: right;\">\n",
       "      <th></th>\n",
       "      <th>text</th>\n",
       "      <th>user.favourites_count</th>\n",
       "      <th>user.id</th>\n",
       "      <th>lang</th>\n",
       "      <th>user.followers_count</th>\n",
       "      <th>user.verified</th>\n",
       "      <th>truncated</th>\n",
       "      <th>links</th>\n",
       "    </tr>\n",
       "  </thead>\n",
       "  <tbody>\n",
       "    <tr>\n",
       "      <th>0</th>\n",
       "      <td>indirect eu costing britain £170 year! #bette...</td>\n",
       "      <td>31150.0</td>\n",
       "      <td>107794703</td>\n",
       "      <td>en</td>\n",
       "      <td>804</td>\n",
       "      <td>False</td>\n",
       "      <td>False</td>\n",
       "      <td>NaN</td>\n",
       "    </tr>\n",
       "    <tr>\n",
       "      <th>1</th>\n",
       "      <td>video: sturgeon post-election deals</td>\n",
       "      <td>0.0</td>\n",
       "      <td>557422508</td>\n",
       "      <td>en</td>\n",
       "      <td>184</td>\n",
       "      <td>False</td>\n",
       "      <td>False</td>\n",
       "      <td>http://t.co/BTJwrpbmOY</td>\n",
       "    </tr>\n",
       "    <tr>\n",
       "      <th>2</th>\n",
       "      <td>growing david minister today.. #bbcqt …</td>\n",
       "      <td>7565.0</td>\n",
       "      <td>3006692193</td>\n",
       "      <td>en</td>\n",
       "      <td>182</td>\n",
       "      <td>False</td>\n",
       "      <td>False</td>\n",
       "      <td>http://t.co</td>\n",
       "    </tr>\n",
       "    <tr>\n",
       "      <th>3</th>\n",
       "      <td>ukip lothian 16 msn addy</td>\n",
       "      <td>2130.0</td>\n",
       "      <td>455154030</td>\n",
       "      <td>en</td>\n",
       "      <td>1073</td>\n",
       "      <td>False</td>\n",
       "      <td>False</td>\n",
       "      <td>http://t.co/7eIU0c5Fm1</td>\n",
       "    </tr>\n",
       "    <tr>\n",
       "      <th>4</th>\n",
       "      <td>ukip's spokesman rakes £800k benefit migrants...</td>\n",
       "      <td>131.0</td>\n",
       "      <td>187547338</td>\n",
       "      <td>en</td>\n",
       "      <td>87</td>\n",
       "      <td>False</td>\n",
       "      <td>False</td>\n",
       "      <td>http://t.co/c1AZxcLh</td>\n",
       "    </tr>\n",
       "  </tbody>\n",
       "</table>\n",
       "</div>"
      ],
      "text/plain": [
       "                                                text  user.favourites_count  \\\n",
       "0   indirect eu costing britain £170 year! #bette...                31150.0   \n",
       "1                video: sturgeon post-election deals                    0.0   \n",
       "2            growing david minister today.. #bbcqt …                 7565.0   \n",
       "3                           ukip lothian 16 msn addy                 2130.0   \n",
       "4   ukip's spokesman rakes £800k benefit migrants...                  131.0   \n",
       "\n",
       "      user.id lang user.followers_count user.verified truncated  \\\n",
       "0   107794703   en                  804         False     False   \n",
       "1   557422508   en                  184         False     False   \n",
       "2  3006692193   en                  182         False     False   \n",
       "3   455154030   en                 1073         False     False   \n",
       "4   187547338   en                   87         False     False   \n",
       "\n",
       "                    links  \n",
       "0                     NaN  \n",
       "1  http://t.co/BTJwrpbmOY  \n",
       "2             http://t.co  \n",
       "3  http://t.co/7eIU0c5Fm1  \n",
       "4    http://t.co/c1AZxcLh  "
      ]
     },
     "execution_count": 106,
     "metadata": {},
     "output_type": "execute_result"
    }
   ],
   "source": [
    "df.head()"
   ]
  }
 ],
 "metadata": {
  "kernelspec": {
   "display_name": "Python 2",
   "language": "python",
   "name": "python2"
  },
  "language_info": {
   "codemirror_mode": {
    "name": "ipython",
    "version": 2
   },
   "file_extension": ".py",
   "mimetype": "text/x-python",
   "name": "python",
   "nbconvert_exporter": "python",
   "pygments_lexer": "ipython2",
   "version": "2.7.12"
  }
 },
 "nbformat": 4,
 "nbformat_minor": 2
}
