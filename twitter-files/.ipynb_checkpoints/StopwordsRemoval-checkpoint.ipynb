{
 "cells": [
  {
   "cell_type": "code",
   "execution_count": 5,
   "metadata": {
    "collapsed": true,
    "deletable": true,
    "editable": true
   },
   "outputs": [],
   "source": [
    "import pandas as pd"
   ]
  },
  {
   "cell_type": "code",
   "execution_count": 7,
   "metadata": {
    "collapsed": false,
    "deletable": true,
    "editable": true
   },
   "outputs": [],
   "source": [
    "df = pd.read_csv('tweets_dataframe.csv',sep='\\t')"
   ]
  },
  {
   "cell_type": "code",
   "execution_count": 81,
   "metadata": {
    "collapsed": false,
    "deletable": true,
    "editable": true
   },
   "outputs": [
    {
     "data": {
      "text/html": [
       "<div>\n",
       "<table border=\"1\" class=\"dataframe\">\n",
       "  <thead>\n",
       "    <tr style=\"text-align: right;\">\n",
       "      <th></th>\n",
       "      <th>id</th>\n",
       "      <th>text</th>\n",
       "      <th>user.favourites_count</th>\n",
       "      <th>user.id</th>\n",
       "      <th>lang</th>\n",
       "      <th>user.followers_count</th>\n",
       "      <th>user.verified</th>\n",
       "      <th>truncated</th>\n",
       "    </tr>\n",
       "  </thead>\n",
       "  <tbody>\n",
       "    <tr>\n",
       "      <th>0</th>\n",
       "      <td>593891099434983425</td>\n",
       "      <td>RT @KirkKus: Indirect cost of the UK being in ...</td>\n",
       "      <td>31150</td>\n",
       "      <td>107794703</td>\n",
       "      <td>en</td>\n",
       "      <td>804</td>\n",
       "      <td>False</td>\n",
       "      <td>False</td>\n",
       "    </tr>\n",
       "    <tr>\n",
       "      <th>1</th>\n",
       "      <td>593891099548094465</td>\n",
       "      <td>VIDEO: Sturgeon on post-election deals http://...</td>\n",
       "      <td>0</td>\n",
       "      <td>557422508</td>\n",
       "      <td>en</td>\n",
       "      <td>184</td>\n",
       "      <td>False</td>\n",
       "      <td>False</td>\n",
       "    </tr>\n",
       "    <tr>\n",
       "      <th>2</th>\n",
       "      <td>593891099388846080</td>\n",
       "      <td>RT @LabourEoin: The economy was growing 3 time...</td>\n",
       "      <td>7565</td>\n",
       "      <td>3006692193</td>\n",
       "      <td>en</td>\n",
       "      <td>182</td>\n",
       "      <td>False</td>\n",
       "      <td>False</td>\n",
       "    </tr>\n",
       "    <tr>\n",
       "      <th>3</th>\n",
       "      <td>593891100429045760</td>\n",
       "      <td>RT @GregLauder: the UKIP east lothian candidat...</td>\n",
       "      <td>2130</td>\n",
       "      <td>455154030</td>\n",
       "      <td>en</td>\n",
       "      <td>1073</td>\n",
       "      <td>False</td>\n",
       "      <td>False</td>\n",
       "    </tr>\n",
       "    <tr>\n",
       "      <th>4</th>\n",
       "      <td>593891100768784384</td>\n",
       "      <td>RT @thesundaypeople: UKIP's housing spokesman ...</td>\n",
       "      <td>131</td>\n",
       "      <td>187547338</td>\n",
       "      <td>en</td>\n",
       "      <td>87</td>\n",
       "      <td>False</td>\n",
       "      <td>False</td>\n",
       "    </tr>\n",
       "  </tbody>\n",
       "</table>\n",
       "</div>"
      ],
      "text/plain": [
       "                   id                                               text  \\\n",
       "0  593891099434983425  RT @KirkKus: Indirect cost of the UK being in ...   \n",
       "1  593891099548094465  VIDEO: Sturgeon on post-election deals http://...   \n",
       "2  593891099388846080  RT @LabourEoin: The economy was growing 3 time...   \n",
       "3  593891100429045760  RT @GregLauder: the UKIP east lothian candidat...   \n",
       "4  593891100768784384  RT @thesundaypeople: UKIP's housing spokesman ...   \n",
       "\n",
       "   user.favourites_count     user.id lang  user.followers_count user.verified  \\\n",
       "0                  31150   107794703   en                   804         False   \n",
       "1                      0   557422508   en                   184         False   \n",
       "2                   7565  3006692193   en                   182         False   \n",
       "3                   2130   455154030   en                  1073         False   \n",
       "4                    131   187547338   en                    87         False   \n",
       "\n",
       "  truncated  \n",
       "0     False  \n",
       "1     False  \n",
       "2     False  \n",
       "3     False  \n",
       "4     False  "
      ]
     },
     "execution_count": 81,
     "metadata": {},
     "output_type": "execute_result"
    }
   ],
   "source": [
    "df.head()"
   ]
  },
  {
   "cell_type": "code",
   "execution_count": 82,
   "metadata": {
    "collapsed": false,
    "deletable": true,
    "editable": true
   },
   "outputs": [
    {
     "data": {
      "text/plain": [
       "'RT @KirkKus: Indirect cost of the UK being in the EU is estimated to be costing Britain \\xc2\\xa3170 billion per year! #BetterOffOut #UKIP'"
      ]
     },
     "execution_count": 82,
     "metadata": {},
     "output_type": "execute_result"
    }
   ],
   "source": [
    "df['text'][0]"
   ]
  },
  {
   "cell_type": "code",
   "execution_count": 8,
   "metadata": {
    "collapsed": true,
    "deletable": true,
    "editable": true
   },
   "outputs": [],
   "source": [
    "from nltk.corpus import stopwords"
   ]
  },
  {
   "cell_type": "code",
   "execution_count": 9,
   "metadata": {
    "collapsed": true,
    "deletable": true,
    "editable": true
   },
   "outputs": [],
   "source": [
    "stopwords = set(stopwords.words('english'))"
   ]
  },
  {
   "cell_type": "code",
   "execution_count": 10,
   "metadata": {
    "collapsed": true,
    "deletable": true,
    "editable": true
   },
   "outputs": [],
   "source": [
    "import os"
   ]
  },
  {
   "cell_type": "code",
   "execution_count": 11,
   "metadata": {
    "collapsed": false,
    "deletable": true,
    "editable": true
   },
   "outputs": [
    {
     "data": {
      "text/plain": [
       "'/home/mradul/2projectdaddy/data_project/project/twitter-files'"
      ]
     },
     "execution_count": 11,
     "metadata": {},
     "output_type": "execute_result"
    }
   ],
   "source": [
    "os.getcwd()"
   ]
  },
  {
   "cell_type": "code",
   "execution_count": 12,
   "metadata": {
    "collapsed": true,
    "deletable": true,
    "editable": true
   },
   "outputs": [],
   "source": [
    "stopwords_path = os.getcwd() + '/stopwords'"
   ]
  },
  {
   "cell_type": "code",
   "execution_count": 13,
   "metadata": {
    "collapsed": false,
    "deletable": true,
    "editable": true
   },
   "outputs": [],
   "source": [
    "import re\n",
    "for each in os.listdir(stopwords_path):\n",
    "    each = stopwords_path + '/' + each\n",
    "    with open(each,'r') as f:\n",
    "        for line in f:\n",
    "            for word in re.findall(r'\\w+', line):\n",
    "                stopwords.add(word) #We want all stopwords, in the set we made earlier."
   ]
  },
  {
   "cell_type": "code",
   "execution_count": 14,
   "metadata": {
    "collapsed": false,
    "deletable": true,
    "editable": true
   },
   "outputs": [
    {
     "data": {
      "text/plain": [
       "38522"
      ]
     },
     "execution_count": 14,
     "metadata": {},
     "output_type": "execute_result"
    }
   ],
   "source": [
    "len(stopwords) #This is interesting. The /stopwords directory has 38517 unique stopwords(focused at twitter). \n",
    "#The nltk.corpus stopwords had only 5 words which weren't there in the directory."
   ]
  },
  {
   "cell_type": "code",
   "execution_count": 90,
   "metadata": {
    "collapsed": false,
    "deletable": true,
    "editable": true
   },
   "outputs": [
    {
     "data": {
      "text/html": [
       "<div>\n",
       "<table border=\"1\" class=\"dataframe\">\n",
       "  <thead>\n",
       "    <tr style=\"text-align: right;\">\n",
       "      <th></th>\n",
       "      <th>text</th>\n",
       "      <th>user.favourites_count</th>\n",
       "      <th>user.id</th>\n",
       "      <th>lang</th>\n",
       "      <th>user.followers_count</th>\n",
       "      <th>user.verified</th>\n",
       "      <th>truncated</th>\n",
       "    </tr>\n",
       "  </thead>\n",
       "  <tbody>\n",
       "    <tr>\n",
       "      <th>0</th>\n",
       "      <td>RT @KirkKus: Indirect cost of the UK being in ...</td>\n",
       "      <td>31150</td>\n",
       "      <td>107794703</td>\n",
       "      <td>en</td>\n",
       "      <td>804</td>\n",
       "      <td>False</td>\n",
       "      <td>False</td>\n",
       "    </tr>\n",
       "    <tr>\n",
       "      <th>1</th>\n",
       "      <td>VIDEO: Sturgeon on post-election deals http://...</td>\n",
       "      <td>0</td>\n",
       "      <td>557422508</td>\n",
       "      <td>en</td>\n",
       "      <td>184</td>\n",
       "      <td>False</td>\n",
       "      <td>False</td>\n",
       "    </tr>\n",
       "    <tr>\n",
       "      <th>2</th>\n",
       "      <td>RT @LabourEoin: The economy was growing 3 time...</td>\n",
       "      <td>7565</td>\n",
       "      <td>3006692193</td>\n",
       "      <td>en</td>\n",
       "      <td>182</td>\n",
       "      <td>False</td>\n",
       "      <td>False</td>\n",
       "    </tr>\n",
       "    <tr>\n",
       "      <th>3</th>\n",
       "      <td>RT @GregLauder: the UKIP east lothian candidat...</td>\n",
       "      <td>2130</td>\n",
       "      <td>455154030</td>\n",
       "      <td>en</td>\n",
       "      <td>1073</td>\n",
       "      <td>False</td>\n",
       "      <td>False</td>\n",
       "    </tr>\n",
       "    <tr>\n",
       "      <th>4</th>\n",
       "      <td>RT @thesundaypeople: UKIP's housing spokesman ...</td>\n",
       "      <td>131</td>\n",
       "      <td>187547338</td>\n",
       "      <td>en</td>\n",
       "      <td>87</td>\n",
       "      <td>False</td>\n",
       "      <td>False</td>\n",
       "    </tr>\n",
       "  </tbody>\n",
       "</table>\n",
       "</div>"
      ],
      "text/plain": [
       "                                                text  user.favourites_count  \\\n",
       "0  RT @KirkKus: Indirect cost of the UK being in ...                  31150   \n",
       "1  VIDEO: Sturgeon on post-election deals http://...                      0   \n",
       "2  RT @LabourEoin: The economy was growing 3 time...                   7565   \n",
       "3  RT @GregLauder: the UKIP east lothian candidat...                   2130   \n",
       "4  RT @thesundaypeople: UKIP's housing spokesman ...                    131   \n",
       "\n",
       "      user.id lang  user.followers_count user.verified truncated  \n",
       "0   107794703   en                   804         False     False  \n",
       "1   557422508   en                   184         False     False  \n",
       "2  3006692193   en                   182         False     False  \n",
       "3   455154030   en                  1073         False     False  \n",
       "4   187547338   en                    87         False     False  "
      ]
     },
     "execution_count": 90,
     "metadata": {},
     "output_type": "execute_result"
    }
   ],
   "source": [
    "df.drop('id',axis=1).head()  #axis=1 refers to the vertical columns."
   ]
  },
  {
   "cell_type": "code",
   "execution_count": 91,
   "metadata": {
    "collapsed": false,
    "deletable": true,
    "editable": true
   },
   "outputs": [
    {
     "data": {
      "text/html": [
       "<div>\n",
       "<table border=\"1\" class=\"dataframe\">\n",
       "  <thead>\n",
       "    <tr style=\"text-align: right;\">\n",
       "      <th></th>\n",
       "      <th>id</th>\n",
       "      <th>text</th>\n",
       "      <th>user.favourites_count</th>\n",
       "      <th>user.id</th>\n",
       "      <th>lang</th>\n",
       "      <th>user.followers_count</th>\n",
       "      <th>user.verified</th>\n",
       "      <th>truncated</th>\n",
       "    </tr>\n",
       "  </thead>\n",
       "  <tbody>\n",
       "    <tr>\n",
       "      <th>0</th>\n",
       "      <td>593891099434983425</td>\n",
       "      <td>RT @KirkKus: Indirect cost of the UK being in ...</td>\n",
       "      <td>31150</td>\n",
       "      <td>107794703</td>\n",
       "      <td>en</td>\n",
       "      <td>804</td>\n",
       "      <td>False</td>\n",
       "      <td>False</td>\n",
       "    </tr>\n",
       "    <tr>\n",
       "      <th>1</th>\n",
       "      <td>593891099548094465</td>\n",
       "      <td>VIDEO: Sturgeon on post-election deals http://...</td>\n",
       "      <td>0</td>\n",
       "      <td>557422508</td>\n",
       "      <td>en</td>\n",
       "      <td>184</td>\n",
       "      <td>False</td>\n",
       "      <td>False</td>\n",
       "    </tr>\n",
       "    <tr>\n",
       "      <th>2</th>\n",
       "      <td>593891099388846080</td>\n",
       "      <td>RT @LabourEoin: The economy was growing 3 time...</td>\n",
       "      <td>7565</td>\n",
       "      <td>3006692193</td>\n",
       "      <td>en</td>\n",
       "      <td>182</td>\n",
       "      <td>False</td>\n",
       "      <td>False</td>\n",
       "    </tr>\n",
       "    <tr>\n",
       "      <th>3</th>\n",
       "      <td>593891100429045760</td>\n",
       "      <td>RT @GregLauder: the UKIP east lothian candidat...</td>\n",
       "      <td>2130</td>\n",
       "      <td>455154030</td>\n",
       "      <td>en</td>\n",
       "      <td>1073</td>\n",
       "      <td>False</td>\n",
       "      <td>False</td>\n",
       "    </tr>\n",
       "    <tr>\n",
       "      <th>4</th>\n",
       "      <td>593891100768784384</td>\n",
       "      <td>RT @thesundaypeople: UKIP's housing spokesman ...</td>\n",
       "      <td>131</td>\n",
       "      <td>187547338</td>\n",
       "      <td>en</td>\n",
       "      <td>87</td>\n",
       "      <td>False</td>\n",
       "      <td>False</td>\n",
       "    </tr>\n",
       "  </tbody>\n",
       "</table>\n",
       "</div>"
      ],
      "text/plain": [
       "                   id                                               text  \\\n",
       "0  593891099434983425  RT @KirkKus: Indirect cost of the UK being in ...   \n",
       "1  593891099548094465  VIDEO: Sturgeon on post-election deals http://...   \n",
       "2  593891099388846080  RT @LabourEoin: The economy was growing 3 time...   \n",
       "3  593891100429045760  RT @GregLauder: the UKIP east lothian candidat...   \n",
       "4  593891100768784384  RT @thesundaypeople: UKIP's housing spokesman ...   \n",
       "\n",
       "   user.favourites_count     user.id lang  user.followers_count user.verified  \\\n",
       "0                  31150   107794703   en                   804         False   \n",
       "1                      0   557422508   en                   184         False   \n",
       "2                   7565  3006692193   en                   182         False   \n",
       "3                   2130   455154030   en                  1073         False   \n",
       "4                    131   187547338   en                    87         False   \n",
       "\n",
       "  truncated  \n",
       "0     False  \n",
       "1     False  \n",
       "2     False  \n",
       "3     False  \n",
       "4     False  "
      ]
     },
     "execution_count": 91,
     "metadata": {},
     "output_type": "execute_result"
    }
   ],
   "source": [
    "df.head() #Not in-plcae i.e original df no affected by drop()."
   ]
  },
  {
   "cell_type": "code",
   "execution_count": 92,
   "metadata": {
    "collapsed": true,
    "deletable": true,
    "editable": true
   },
   "outputs": [],
   "source": [
    "df.drop('id',axis=1,inplace=True)"
   ]
  },
  {
   "cell_type": "code",
   "execution_count": 93,
   "metadata": {
    "collapsed": false,
    "deletable": true,
    "editable": true
   },
   "outputs": [
    {
     "data": {
      "text/html": [
       "<div>\n",
       "<table border=\"1\" class=\"dataframe\">\n",
       "  <thead>\n",
       "    <tr style=\"text-align: right;\">\n",
       "      <th></th>\n",
       "      <th>text</th>\n",
       "      <th>user.favourites_count</th>\n",
       "      <th>user.id</th>\n",
       "      <th>lang</th>\n",
       "      <th>user.followers_count</th>\n",
       "      <th>user.verified</th>\n",
       "      <th>truncated</th>\n",
       "    </tr>\n",
       "  </thead>\n",
       "  <tbody>\n",
       "    <tr>\n",
       "      <th>0</th>\n",
       "      <td>RT @KirkKus: Indirect cost of the UK being in ...</td>\n",
       "      <td>31150</td>\n",
       "      <td>107794703</td>\n",
       "      <td>en</td>\n",
       "      <td>804</td>\n",
       "      <td>False</td>\n",
       "      <td>False</td>\n",
       "    </tr>\n",
       "    <tr>\n",
       "      <th>1</th>\n",
       "      <td>VIDEO: Sturgeon on post-election deals http://...</td>\n",
       "      <td>0</td>\n",
       "      <td>557422508</td>\n",
       "      <td>en</td>\n",
       "      <td>184</td>\n",
       "      <td>False</td>\n",
       "      <td>False</td>\n",
       "    </tr>\n",
       "    <tr>\n",
       "      <th>2</th>\n",
       "      <td>RT @LabourEoin: The economy was growing 3 time...</td>\n",
       "      <td>7565</td>\n",
       "      <td>3006692193</td>\n",
       "      <td>en</td>\n",
       "      <td>182</td>\n",
       "      <td>False</td>\n",
       "      <td>False</td>\n",
       "    </tr>\n",
       "    <tr>\n",
       "      <th>3</th>\n",
       "      <td>RT @GregLauder: the UKIP east lothian candidat...</td>\n",
       "      <td>2130</td>\n",
       "      <td>455154030</td>\n",
       "      <td>en</td>\n",
       "      <td>1073</td>\n",
       "      <td>False</td>\n",
       "      <td>False</td>\n",
       "    </tr>\n",
       "    <tr>\n",
       "      <th>4</th>\n",
       "      <td>RT @thesundaypeople: UKIP's housing spokesman ...</td>\n",
       "      <td>131</td>\n",
       "      <td>187547338</td>\n",
       "      <td>en</td>\n",
       "      <td>87</td>\n",
       "      <td>False</td>\n",
       "      <td>False</td>\n",
       "    </tr>\n",
       "  </tbody>\n",
       "</table>\n",
       "</div>"
      ],
      "text/plain": [
       "                                                text  user.favourites_count  \\\n",
       "0  RT @KirkKus: Indirect cost of the UK being in ...                  31150   \n",
       "1  VIDEO: Sturgeon on post-election deals http://...                      0   \n",
       "2  RT @LabourEoin: The economy was growing 3 time...                   7565   \n",
       "3  RT @GregLauder: the UKIP east lothian candidat...                   2130   \n",
       "4  RT @thesundaypeople: UKIP's housing spokesman ...                    131   \n",
       "\n",
       "      user.id lang  user.followers_count user.verified truncated  \n",
       "0   107794703   en                   804         False     False  \n",
       "1   557422508   en                   184         False     False  \n",
       "2  3006692193   en                   182         False     False  \n",
       "3   455154030   en                  1073         False     False  \n",
       "4   187547338   en                    87         False     False  "
      ]
     },
     "execution_count": 93,
     "metadata": {},
     "output_type": "execute_result"
    }
   ],
   "source": [
    "df.head() #Original Dataframe changed."
   ]
  },
  {
   "cell_type": "code",
   "execution_count": 94,
   "metadata": {
    "collapsed": false,
    "deletable": true,
    "editable": true
   },
   "outputs": [
    {
     "data": {
      "text/plain": [
       "text                     RT @KirkKus: Indirect cost of the UK being in ...\n",
       "user.favourites_count                                                31150\n",
       "user.id                                                          107794703\n",
       "lang                                                                    en\n",
       "user.followers_count                                                   804\n",
       "user.verified                                                        False\n",
       "truncated                                                            False\n",
       "Name: 0, dtype: object"
      ]
     },
     "execution_count": 94,
     "metadata": {},
     "output_type": "execute_result"
    }
   ],
   "source": [
    "df.loc[0]"
   ]
  },
  {
   "cell_type": "code",
   "execution_count": 95,
   "metadata": {
    "collapsed": false,
    "deletable": true,
    "editable": true
   },
   "outputs": [],
   "source": [
    "import numpy as np\n",
    "df['links'] = np.nan   #Adding new column for urls present in the tweets."
   ]
  },
  {
   "cell_type": "code",
   "execution_count": 96,
   "metadata": {
    "collapsed": false,
    "deletable": true,
    "editable": true
   },
   "outputs": [],
   "source": [
    "for i in xrange(2000):\n",
    "    tweet = df.loc[i]['text']\n",
    "    tweet = tweet.split()\n",
    "    write_tweet = \"\"\n",
    "    #urls present in the tweet.\n",
    "    urls = []\n",
    "    for each in tweet:\n",
    "        if each not in stopwords:\n",
    "            write_tweet += ' ' + each\n",
    "    #url for the tweet saved in the corresponding column.\n",
    "    urls = re.findall('http[s]?://(?:[a-zA-Z]|[0-9]|[$-_@.&+]|[!*\\(\\),]|(?:%[0-9a-fA-F][0-9a-fA-F]))+', write_tweet)\n",
    "    for url in urls:\n",
    "        #print url\n",
    "        df.loc[i,('links')] = url"
   ]
  },
  {
   "cell_type": "code",
   "execution_count": 97,
   "metadata": {
    "collapsed": false,
    "deletable": true,
    "editable": true
   },
   "outputs": [
    {
     "data": {
      "text/html": [
       "<div>\n",
       "<table border=\"1\" class=\"dataframe\">\n",
       "  <thead>\n",
       "    <tr style=\"text-align: right;\">\n",
       "      <th></th>\n",
       "      <th>text</th>\n",
       "      <th>user.favourites_count</th>\n",
       "      <th>user.id</th>\n",
       "      <th>lang</th>\n",
       "      <th>user.followers_count</th>\n",
       "      <th>user.verified</th>\n",
       "      <th>truncated</th>\n",
       "      <th>links</th>\n",
       "    </tr>\n",
       "  </thead>\n",
       "  <tbody>\n",
       "    <tr>\n",
       "      <th>0</th>\n",
       "      <td>RT @KirkKus: Indirect cost of the UK being in ...</td>\n",
       "      <td>31150</td>\n",
       "      <td>107794703</td>\n",
       "      <td>en</td>\n",
       "      <td>804</td>\n",
       "      <td>False</td>\n",
       "      <td>False</td>\n",
       "      <td>NaN</td>\n",
       "    </tr>\n",
       "    <tr>\n",
       "      <th>1</th>\n",
       "      <td>VIDEO: Sturgeon on post-election deals http://...</td>\n",
       "      <td>0</td>\n",
       "      <td>557422508</td>\n",
       "      <td>en</td>\n",
       "      <td>184</td>\n",
       "      <td>False</td>\n",
       "      <td>False</td>\n",
       "      <td>http://t.co/BTJwrpbmOY</td>\n",
       "    </tr>\n",
       "    <tr>\n",
       "      <th>2</th>\n",
       "      <td>RT @LabourEoin: The economy was growing 3 time...</td>\n",
       "      <td>7565</td>\n",
       "      <td>3006692193</td>\n",
       "      <td>en</td>\n",
       "      <td>182</td>\n",
       "      <td>False</td>\n",
       "      <td>False</td>\n",
       "      <td>http://t.co</td>\n",
       "    </tr>\n",
       "    <tr>\n",
       "      <th>3</th>\n",
       "      <td>RT @GregLauder: the UKIP east lothian candidat...</td>\n",
       "      <td>2130</td>\n",
       "      <td>455154030</td>\n",
       "      <td>en</td>\n",
       "      <td>1073</td>\n",
       "      <td>False</td>\n",
       "      <td>False</td>\n",
       "      <td>http://t.co/7eIU0c5Fm1</td>\n",
       "    </tr>\n",
       "    <tr>\n",
       "      <th>4</th>\n",
       "      <td>RT @thesundaypeople: UKIP's housing spokesman ...</td>\n",
       "      <td>131</td>\n",
       "      <td>187547338</td>\n",
       "      <td>en</td>\n",
       "      <td>87</td>\n",
       "      <td>False</td>\n",
       "      <td>False</td>\n",
       "      <td>http://t.co/c1AZxcLh</td>\n",
       "    </tr>\n",
       "  </tbody>\n",
       "</table>\n",
       "</div>"
      ],
      "text/plain": [
       "                                                text  user.favourites_count  \\\n",
       "0  RT @KirkKus: Indirect cost of the UK being in ...                  31150   \n",
       "1  VIDEO: Sturgeon on post-election deals http://...                      0   \n",
       "2  RT @LabourEoin: The economy was growing 3 time...                   7565   \n",
       "3  RT @GregLauder: the UKIP east lothian candidat...                   2130   \n",
       "4  RT @thesundaypeople: UKIP's housing spokesman ...                    131   \n",
       "\n",
       "      user.id lang  user.followers_count user.verified truncated  \\\n",
       "0   107794703   en                   804         False     False   \n",
       "1   557422508   en                   184         False     False   \n",
       "2  3006692193   en                   182         False     False   \n",
       "3   455154030   en                  1073         False     False   \n",
       "4   187547338   en                    87         False     False   \n",
       "\n",
       "                    links  \n",
       "0                     NaN  \n",
       "1  http://t.co/BTJwrpbmOY  \n",
       "2             http://t.co  \n",
       "3  http://t.co/7eIU0c5Fm1  \n",
       "4    http://t.co/c1AZxcLh  "
      ]
     },
     "execution_count": 97,
     "metadata": {},
     "output_type": "execute_result"
    }
   ],
   "source": [
    "df.head()"
   ]
  },
  {
   "cell_type": "code",
   "execution_count": 98,
   "metadata": {
    "collapsed": false,
    "deletable": true,
    "editable": true
   },
   "outputs": [],
   "source": [
    "from collections import Counter"
   ]
  },
  {
   "cell_type": "code",
   "execution_count": 99,
   "metadata": {
    "collapsed": false,
    "deletable": true,
    "editable": true
   },
   "outputs": [
    {
     "data": {
      "text/plain": [
       "[('RT', 13500),\n",
       " ('the', 10444),\n",
       " ('to', 7472),\n",
       " ('a', 5778),\n",
       " ('of', 5525),\n",
       " ('in', 5042),\n",
       " ('Miliband', 4609),\n",
       " ('is', 4323),\n",
       " ('with', 3581),\n",
       " ('Tories', 3403),\n",
       " ('and', 3338),\n",
       " ('on', 3215),\n",
       " ('SNP', 2864),\n",
       " ('for', 2584),\n",
       " ('Ed', 2538),\n",
       " ('I', 2291),\n",
       " ('that', 2137),\n",
       " ('Labour', 2086),\n",
       " ('Cameron', 2028),\n",
       " ('#bbcqt', 2025),\n",
       " ('will', 1977),\n",
       " ('-', 1968),\n",
       " ('it', 1939),\n",
       " ('than', 1918),\n",
       " ('you', 1883),\n",
       " ('The', 1849),\n",
       " ('not', 1700),\n",
       " ('David', 1661),\n",
       " ('out', 1621),\n",
       " ('he', 1608),\n",
       " ('have', 1522),\n",
       " ('rather', 1519),\n",
       " ('be', 1416),\n",
       " ('Farage', 1370),\n",
       " ('are', 1362),\n",
       " ('Tory', 1339),\n",
       " ('UKIP', 1252),\n",
       " ('would', 1226),\n",
       " ('was', 1183),\n",
       " ('if', 1171),\n",
       " ('who', 1160),\n",
       " ('let', 1127),\n",
       " ('as', 1122),\n",
       " ('#AskNigelFarage', 1104),\n",
       " ('we', 1080),\n",
       " ('deal', 1055),\n",
       " ('&amp;', 1055),\n",
       " ('If', 1054),\n",
       " ('has', 1045),\n",
       " ('vote', 1030),\n",
       " ('work', 1013),\n",
       " ('do', 1007),\n",
       " ('by', 999),\n",
       " ('just', 989),\n",
       " ('they', 949),\n",
       " ('but', 927),\n",
       " ('his', 917),\n",
       " ('support', 914),\n",
       " ('all', 913),\n",
       " ('from', 879),\n",
       " ('about', 867),\n",
       " ('#UKIP', 866),\n",
       " ('Nigel', 864),\n",
       " ('going', 792),\n",
       " ('Clegg', 784),\n",
       " ('no', 772),\n",
       " ('claiming', 772),\n",
       " ('says', 767),\n",
       " ('\\xe2\\x80\\xa6', 760),\n",
       " ('come', 750),\n",
       " ('man', 745),\n",
       " ('people', 738),\n",
       " ('an', 716),\n",
       " ('http:/\\xe2\\x80\\xa6', 702),\n",
       " ('more', 681),\n",
       " ('this', 666),\n",
       " ('need', 665),\n",
       " ('SNP,', 663),\n",
       " ('leader', 663),\n",
       " ('w/', 653),\n",
       " ('MPs', 646),\n",
       " ('at', 637),\n",
       " ('wrote', 636),\n",
       " ('like', 635),\n",
       " ('\"preoccupied', 634),\n",
       " ('so', 623),\n",
       " ('inequality\".', 622),\n",
       " ('@Tommy_Colc:', 622),\n",
       " ('up', 620),\n",
       " (\"I'm\", 614),\n",
       " ('want', 613),\n",
       " ('#GE2015', 611),\n",
       " ('over', 605),\n",
       " ('what', 604),\n",
       " ('get', 601),\n",
       " ('or', 588),\n",
       " ('Scotland', 583),\n",
       " ('can', 578),\n",
       " ('#SNP', 549),\n",
       " ('Times', 509)]"
      ]
     },
     "execution_count": 99,
     "metadata": {},
     "output_type": "execute_result"
    }
   ],
   "source": [
    "Counter(\" \".join(df[\"text\"]).split()).most_common(100)"
   ]
  },
  {
   "cell_type": "code",
   "execution_count": 100,
   "metadata": {
    "collapsed": false,
    "deletable": true,
    "editable": true
   },
   "outputs": [],
   "source": [
    "#Adding new stopwords after analyzing the 100 most frequently used words/punctuations used in the dataset.\n",
    "for each in ['rt','lolz','.',';',\"'\",'\"',\"i've\",'the','to','a','of','in','on','is','and','i','-']:\n",
    "    stopwords.add(each) "
   ]
  },
  {
   "cell_type": "code",
   "execution_count": 15,
   "metadata": {
    "collapsed": true,
    "deletable": true,
    "editable": true
   },
   "outputs": [],
   "source": [
    "#Convert whole text to lower case run the Stopwrods removal again. Should have done it earlier. I added it later.\n",
    "for i in xrange(2000):\n",
    "    tweet = df.loc[i]['text'].lower()\n",
    "    #Write the lowercase text into the dataframe.\n",
    "    df.replace(df.loc[i]['text'],tweet,inplace=True)"
   ]
  },
  {
   "cell_type": "code",
   "execution_count": 16,
   "metadata": {
    "collapsed": false,
    "deletable": true,
    "editable": true
   },
   "outputs": [],
   "source": [
    "for i in xrange(2000):\n",
    "    tweet = df.loc[i]['text']\n",
    "    tweet = tweet.split()\n",
    "    write_tweet = \"\"\n",
    "    for each in tweet:\n",
    "        if each not in stopwords:\n",
    "            write_tweet += ' ' + each\n",
    "    #Write the stopword-free text into the dataframe.\n",
    "    df.replace(df.loc[i]['text'],write_tweet,inplace=True)\n",
    "    "
   ]
  },
  {
   "cell_type": "code",
   "execution_count": 17,
   "metadata": {
    "collapsed": false,
    "deletable": true,
    "editable": true
   },
   "outputs": [
    {
     "data": {
      "text/html": [
       "<div>\n",
       "<table border=\"1\" class=\"dataframe\">\n",
       "  <thead>\n",
       "    <tr style=\"text-align: right;\">\n",
       "      <th></th>\n",
       "      <th>text</th>\n",
       "      <th>user.favourites_count</th>\n",
       "      <th>user.id</th>\n",
       "      <th>lang</th>\n",
       "      <th>user.followers_count</th>\n",
       "      <th>user.verified</th>\n",
       "      <th>truncated</th>\n",
       "      <th>links</th>\n",
       "    </tr>\n",
       "  </thead>\n",
       "  <tbody>\n",
       "    <tr>\n",
       "      <th>0</th>\n",
       "      <td>@kirkkus: indirect eu costing britain £170 ye...</td>\n",
       "      <td>31150.0</td>\n",
       "      <td>107794703</td>\n",
       "      <td>en</td>\n",
       "      <td>804</td>\n",
       "      <td>False</td>\n",
       "      <td>False</td>\n",
       "      <td>NaN</td>\n",
       "    </tr>\n",
       "    <tr>\n",
       "      <th>1</th>\n",
       "      <td>video: sturgeon post-election deals</td>\n",
       "      <td>0.0</td>\n",
       "      <td>557422508</td>\n",
       "      <td>en</td>\n",
       "      <td>184</td>\n",
       "      <td>False</td>\n",
       "      <td>False</td>\n",
       "      <td>http://t.co/BTJwrpbmOY</td>\n",
       "    </tr>\n",
       "    <tr>\n",
       "      <th>2</th>\n",
       "      <td>@laboureoin: growing david minister today.. #...</td>\n",
       "      <td>7565.0</td>\n",
       "      <td>3006692193</td>\n",
       "      <td>en</td>\n",
       "      <td>182</td>\n",
       "      <td>False</td>\n",
       "      <td>False</td>\n",
       "      <td>http://t.co</td>\n",
       "    </tr>\n",
       "    <tr>\n",
       "      <th>3</th>\n",
       "      <td>@greglauder: ukip lothian 16 msn addy</td>\n",
       "      <td>2130.0</td>\n",
       "      <td>455154030</td>\n",
       "      <td>en</td>\n",
       "      <td>1073</td>\n",
       "      <td>False</td>\n",
       "      <td>False</td>\n",
       "      <td>http://t.co/7eIU0c5Fm1</td>\n",
       "    </tr>\n",
       "    <tr>\n",
       "      <th>4</th>\n",
       "      <td>@thesundaypeople: ukip's spokesman rakes £800...</td>\n",
       "      <td>131.0</td>\n",
       "      <td>187547338</td>\n",
       "      <td>en</td>\n",
       "      <td>87</td>\n",
       "      <td>False</td>\n",
       "      <td>False</td>\n",
       "      <td>http://t.co/c1AZxcLh</td>\n",
       "    </tr>\n",
       "  </tbody>\n",
       "</table>\n",
       "</div>"
      ],
      "text/plain": [
       "                                                text  user.favourites_count  \\\n",
       "0   @kirkkus: indirect eu costing britain £170 ye...                31150.0   \n",
       "1                video: sturgeon post-election deals                    0.0   \n",
       "2   @laboureoin: growing david minister today.. #...                 7565.0   \n",
       "3              @greglauder: ukip lothian 16 msn addy                 2130.0   \n",
       "4   @thesundaypeople: ukip's spokesman rakes £800...                  131.0   \n",
       "\n",
       "      user.id lang user.followers_count user.verified truncated  \\\n",
       "0   107794703   en                  804         False     False   \n",
       "1   557422508   en                  184         False     False   \n",
       "2  3006692193   en                  182         False     False   \n",
       "3   455154030   en                 1073         False     False   \n",
       "4   187547338   en                   87         False     False   \n",
       "\n",
       "                    links  \n",
       "0                     NaN  \n",
       "1  http://t.co/BTJwrpbmOY  \n",
       "2             http://t.co  \n",
       "3  http://t.co/7eIU0c5Fm1  \n",
       "4    http://t.co/c1AZxcLh  "
      ]
     },
     "execution_count": 17,
     "metadata": {},
     "output_type": "execute_result"
    }
   ],
   "source": [
    "df.head()"
   ]
  },
  {
   "cell_type": "code",
   "execution_count": 18,
   "metadata": {
    "collapsed": false,
    "deletable": true,
    "editable": true
   },
   "outputs": [],
   "source": [
    "df.to_csv('tweets_dataframe.csv', sep='\\t',index_label=False)"
   ]
  },
  {
   "cell_type": "code",
   "execution_count": 19,
   "metadata": {
    "collapsed": false,
    "deletable": true,
    "editable": true
   },
   "outputs": [],
   "source": [
    "data = pd.read_csv('tweets_dataframe.csv', sep='\\t') #index_label=False to avoid Unnamed columns."
   ]
  },
  {
   "cell_type": "code",
   "execution_count": 20,
   "metadata": {
    "collapsed": false,
    "deletable": true,
    "editable": true
   },
   "outputs": [
    {
     "data": {
      "text/html": [
       "<div>\n",
       "<table border=\"1\" class=\"dataframe\">\n",
       "  <thead>\n",
       "    <tr style=\"text-align: right;\">\n",
       "      <th></th>\n",
       "      <th>text</th>\n",
       "      <th>user.favourites_count</th>\n",
       "      <th>user.id</th>\n",
       "      <th>lang</th>\n",
       "      <th>user.followers_count</th>\n",
       "      <th>user.verified</th>\n",
       "      <th>truncated</th>\n",
       "      <th>links</th>\n",
       "    </tr>\n",
       "  </thead>\n",
       "  <tbody>\n",
       "    <tr>\n",
       "      <th>0</th>\n",
       "      <td>@kirkkus: indirect eu costing britain £170 ye...</td>\n",
       "      <td>31150.0</td>\n",
       "      <td>107794703</td>\n",
       "      <td>en</td>\n",
       "      <td>804</td>\n",
       "      <td>False</td>\n",
       "      <td>False</td>\n",
       "      <td>NaN</td>\n",
       "    </tr>\n",
       "    <tr>\n",
       "      <th>1</th>\n",
       "      <td>video: sturgeon post-election deals</td>\n",
       "      <td>0.0</td>\n",
       "      <td>557422508</td>\n",
       "      <td>en</td>\n",
       "      <td>184</td>\n",
       "      <td>False</td>\n",
       "      <td>False</td>\n",
       "      <td>http://t.co/BTJwrpbmOY</td>\n",
       "    </tr>\n",
       "    <tr>\n",
       "      <th>2</th>\n",
       "      <td>@laboureoin: growing david minister today.. #...</td>\n",
       "      <td>7565.0</td>\n",
       "      <td>3006692193</td>\n",
       "      <td>en</td>\n",
       "      <td>182</td>\n",
       "      <td>False</td>\n",
       "      <td>False</td>\n",
       "      <td>http://t.co</td>\n",
       "    </tr>\n",
       "    <tr>\n",
       "      <th>3</th>\n",
       "      <td>@greglauder: ukip lothian 16 msn addy</td>\n",
       "      <td>2130.0</td>\n",
       "      <td>455154030</td>\n",
       "      <td>en</td>\n",
       "      <td>1073</td>\n",
       "      <td>False</td>\n",
       "      <td>False</td>\n",
       "      <td>http://t.co/7eIU0c5Fm1</td>\n",
       "    </tr>\n",
       "    <tr>\n",
       "      <th>4</th>\n",
       "      <td>@thesundaypeople: ukip's spokesman rakes £800...</td>\n",
       "      <td>131.0</td>\n",
       "      <td>187547338</td>\n",
       "      <td>en</td>\n",
       "      <td>87</td>\n",
       "      <td>False</td>\n",
       "      <td>False</td>\n",
       "      <td>http://t.co/c1AZxcLh</td>\n",
       "    </tr>\n",
       "  </tbody>\n",
       "</table>\n",
       "</div>"
      ],
      "text/plain": [
       "                                                text  user.favourites_count  \\\n",
       "0   @kirkkus: indirect eu costing britain £170 ye...                31150.0   \n",
       "1                video: sturgeon post-election deals                    0.0   \n",
       "2   @laboureoin: growing david minister today.. #...                 7565.0   \n",
       "3              @greglauder: ukip lothian 16 msn addy                 2130.0   \n",
       "4   @thesundaypeople: ukip's spokesman rakes £800...                  131.0   \n",
       "\n",
       "      user.id lang user.followers_count user.verified truncated  \\\n",
       "0   107794703   en                  804         False     False   \n",
       "1   557422508   en                  184         False     False   \n",
       "2  3006692193   en                  182         False     False   \n",
       "3   455154030   en                 1073         False     False   \n",
       "4   187547338   en                   87         False     False   \n",
       "\n",
       "                    links  \n",
       "0                     NaN  \n",
       "1  http://t.co/BTJwrpbmOY  \n",
       "2             http://t.co  \n",
       "3  http://t.co/7eIU0c5Fm1  \n",
       "4    http://t.co/c1AZxcLh  "
      ]
     },
     "execution_count": 20,
     "metadata": {},
     "output_type": "execute_result"
    }
   ],
   "source": [
    "data.head()"
   ]
  },
  {
   "cell_type": "code",
   "execution_count": 111,
   "metadata": {
    "collapsed": true,
    "deletable": true,
    "editable": true
   },
   "outputs": [],
   "source": [
    "data['text'] = data['text'].replace(to_replace=r'\\b'+data['links']+r'\\b', value='',regex=True)"
   ]
  },
  {
   "cell_type": "code",
   "execution_count": 113,
   "metadata": {
    "collapsed": false,
    "deletable": true,
    "editable": true
   },
   "outputs": [],
   "source": [
    "data.to_csv('tweets_dataframe.csv', sep='\\t',index_label=False) #Remove links present in tweet texts."
   ]
  }
 ],
 "metadata": {
  "kernelspec": {
   "display_name": "Python 2",
   "language": "python",
   "name": "python2"
  },
  "language_info": {
   "codemirror_mode": {
    "name": "ipython",
    "version": 2
   },
   "file_extension": ".py",
   "mimetype": "text/x-python",
   "name": "python",
   "nbconvert_exporter": "python",
   "pygments_lexer": "ipython2",
   "version": "2.7.12"
  }
 },
 "nbformat": 4,
 "nbformat_minor": 2
}
