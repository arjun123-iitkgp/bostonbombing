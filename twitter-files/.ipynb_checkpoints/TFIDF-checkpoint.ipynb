{
 "cells": [
  {
   "cell_type": "code",
   "execution_count": 92,
   "metadata": {
    "collapsed": true
   },
   "outputs": [],
   "source": [
    "import pandas as pd\n",
    "import numpy as np\n",
    "import re"
   ]
  },
  {
   "cell_type": "code",
   "execution_count": 93,
   "metadata": {
    "collapsed": true
   },
   "outputs": [],
   "source": [
    "df = pd.read_csv('wordmatrix.csv',index_col=0)"
   ]
  },
  {
   "cell_type": "code",
   "execution_count": 94,
   "metadata": {
    "collapsed": false
   },
   "outputs": [
    {
     "data": {
      "text/html": [
       "<div>\n",
       "<table border=\"1\" class=\"dataframe\">\n",
       "  <thead>\n",
       "    <tr style=\"text-align: right;\">\n",
       "      <th></th>\n",
       "      <th>0</th>\n",
       "      <th>1</th>\n",
       "      <th>2</th>\n",
       "      <th>3</th>\n",
       "      <th>4</th>\n",
       "      <th>5</th>\n",
       "      <th>6</th>\n",
       "      <th>7</th>\n",
       "      <th>8</th>\n",
       "      <th>9</th>\n",
       "      <th>...</th>\n",
       "      <th>1990</th>\n",
       "      <th>1991</th>\n",
       "      <th>1992</th>\n",
       "      <th>1993</th>\n",
       "      <th>1994</th>\n",
       "      <th>1995</th>\n",
       "      <th>1996</th>\n",
       "      <th>1997</th>\n",
       "      <th>1998</th>\n",
       "      <th>1999</th>\n",
       "    </tr>\n",
       "    <tr>\n",
       "      <th>WORDS In Tweets\\Tweet No.</th>\n",
       "      <th></th>\n",
       "      <th></th>\n",
       "      <th></th>\n",
       "      <th></th>\n",
       "      <th></th>\n",
       "      <th></th>\n",
       "      <th></th>\n",
       "      <th></th>\n",
       "      <th></th>\n",
       "      <th></th>\n",
       "      <th></th>\n",
       "      <th></th>\n",
       "      <th></th>\n",
       "      <th></th>\n",
       "      <th></th>\n",
       "      <th></th>\n",
       "      <th></th>\n",
       "      <th></th>\n",
       "      <th></th>\n",
       "      <th></th>\n",
       "      <th></th>\n",
       "    </tr>\n",
       "  </thead>\n",
       "  <tbody>\n",
       "    <tr>\n",
       "      <th>miliband</th>\n",
       "      <td>0</td>\n",
       "      <td>0</td>\n",
       "      <td>0</td>\n",
       "      <td>0</td>\n",
       "      <td>0</td>\n",
       "      <td>0</td>\n",
       "      <td>0</td>\n",
       "      <td>0</td>\n",
       "      <td>1</td>\n",
       "      <td>0</td>\n",
       "      <td>...</td>\n",
       "      <td>0</td>\n",
       "      <td>0</td>\n",
       "      <td>0</td>\n",
       "      <td>0</td>\n",
       "      <td>1</td>\n",
       "      <td>0</td>\n",
       "      <td>0</td>\n",
       "      <td>0</td>\n",
       "      <td>0</td>\n",
       "      <td>1</td>\n",
       "    </tr>\n",
       "    <tr>\n",
       "      <th>snp</th>\n",
       "      <td>0</td>\n",
       "      <td>0</td>\n",
       "      <td>0</td>\n",
       "      <td>0</td>\n",
       "      <td>0</td>\n",
       "      <td>0</td>\n",
       "      <td>0</td>\n",
       "      <td>0</td>\n",
       "      <td>0</td>\n",
       "      <td>0</td>\n",
       "      <td>...</td>\n",
       "      <td>1</td>\n",
       "      <td>1</td>\n",
       "      <td>1</td>\n",
       "      <td>0</td>\n",
       "      <td>0</td>\n",
       "      <td>0</td>\n",
       "      <td>0</td>\n",
       "      <td>0</td>\n",
       "      <td>0</td>\n",
       "      <td>2</td>\n",
       "    </tr>\n",
       "    <tr>\n",
       "      <th>tori</th>\n",
       "      <td>0</td>\n",
       "      <td>0</td>\n",
       "      <td>0</td>\n",
       "      <td>0</td>\n",
       "      <td>0</td>\n",
       "      <td>0</td>\n",
       "      <td>0</td>\n",
       "      <td>1</td>\n",
       "      <td>0</td>\n",
       "      <td>0</td>\n",
       "      <td>...</td>\n",
       "      <td>0</td>\n",
       "      <td>2</td>\n",
       "      <td>0</td>\n",
       "      <td>0</td>\n",
       "      <td>1</td>\n",
       "      <td>1</td>\n",
       "      <td>1</td>\n",
       "      <td>0</td>\n",
       "      <td>1</td>\n",
       "      <td>1</td>\n",
       "    </tr>\n",
       "    <tr>\n",
       "      <th>s</th>\n",
       "      <td>0</td>\n",
       "      <td>0</td>\n",
       "      <td>0</td>\n",
       "      <td>0</td>\n",
       "      <td>1</td>\n",
       "      <td>0</td>\n",
       "      <td>0</td>\n",
       "      <td>1</td>\n",
       "      <td>1</td>\n",
       "      <td>1</td>\n",
       "      <td>...</td>\n",
       "      <td>0</td>\n",
       "      <td>1</td>\n",
       "      <td>0</td>\n",
       "      <td>0</td>\n",
       "      <td>0</td>\n",
       "      <td>1</td>\n",
       "      <td>1</td>\n",
       "      <td>0</td>\n",
       "      <td>0</td>\n",
       "      <td>0</td>\n",
       "    </tr>\n",
       "    <tr>\n",
       "      <th>t</th>\n",
       "      <td>0</td>\n",
       "      <td>0</td>\n",
       "      <td>0</td>\n",
       "      <td>0</td>\n",
       "      <td>1</td>\n",
       "      <td>0</td>\n",
       "      <td>0</td>\n",
       "      <td>0</td>\n",
       "      <td>0</td>\n",
       "      <td>0</td>\n",
       "      <td>...</td>\n",
       "      <td>0</td>\n",
       "      <td>0</td>\n",
       "      <td>0</td>\n",
       "      <td>0</td>\n",
       "      <td>0</td>\n",
       "      <td>0</td>\n",
       "      <td>0</td>\n",
       "      <td>1</td>\n",
       "      <td>0</td>\n",
       "      <td>0</td>\n",
       "    </tr>\n",
       "  </tbody>\n",
       "</table>\n",
       "<p>5 rows × 2000 columns</p>\n",
       "</div>"
      ],
      "text/plain": [
       "                           0  1  2  3  4  5  6  7  8  9  ...   1990  1991  \\\n",
       "WORDS In Tweets\\Tweet No.                                ...                \n",
       "miliband                   0  0  0  0  0  0  0  0  1  0  ...      0     0   \n",
       "snp                        0  0  0  0  0  0  0  0  0  0  ...      1     1   \n",
       "tori                       0  0  0  0  0  0  0  1  0  0  ...      0     2   \n",
       "s                          0  0  0  0  1  0  0  1  1  1  ...      0     1   \n",
       "t                          0  0  0  0  1  0  0  0  0  0  ...      0     0   \n",
       "\n",
       "                           1992  1993  1994  1995  1996  1997  1998  1999  \n",
       "WORDS In Tweets\\Tweet No.                                                  \n",
       "miliband                      0     0     1     0     0     0     0     1  \n",
       "snp                           1     0     0     0     0     0     0     2  \n",
       "tori                          0     0     1     1     1     0     1     1  \n",
       "s                             0     0     0     1     1     0     0     0  \n",
       "t                             0     0     0     0     0     1     0     0  \n",
       "\n",
       "[5 rows x 2000 columns]"
      ]
     },
     "execution_count": 94,
     "metadata": {},
     "output_type": "execute_result"
    }
   ],
   "source": [
    "df.head()"
   ]
  },
  {
   "cell_type": "code",
   "execution_count": 95,
   "metadata": {
    "collapsed": true
   },
   "outputs": [],
   "source": [
    "word_matrix = df.as_matrix()"
   ]
  },
  {
   "cell_type": "code",
   "execution_count": 96,
   "metadata": {
    "collapsed": false
   },
   "outputs": [
    {
     "data": {
      "text/plain": [
       "array([[0, 0, 0, ..., 0, 0, 1],\n",
       "       [0, 0, 0, ..., 0, 0, 2],\n",
       "       [0, 0, 0, ..., 0, 1, 1],\n",
       "       ..., \n",
       "       [0, 0, 0, ..., 0, 0, 0],\n",
       "       [0, 0, 0, ..., 0, 0, 0],\n",
       "       [0, 0, 0, ..., 0, 0, 0]])"
      ]
     },
     "execution_count": 96,
     "metadata": {},
     "output_type": "execute_result"
    }
   ],
   "source": [
    "word_matrix"
   ]
  },
  {
   "cell_type": "code",
   "execution_count": 97,
   "metadata": {
    "collapsed": false
   },
   "outputs": [
    {
     "data": {
      "text/plain": [
       "numpy.ndarray"
      ]
     },
     "execution_count": 97,
     "metadata": {},
     "output_type": "execute_result"
    }
   ],
   "source": [
    "type(_)"
   ]
  },
  {
   "cell_type": "code",
   "execution_count": 98,
   "metadata": {
    "collapsed": false
   },
   "outputs": [
    {
     "data": {
      "text/plain": [
       "(2934, 2000)"
      ]
     },
     "execution_count": 98,
     "metadata": {},
     "output_type": "execute_result"
    }
   ],
   "source": [
    "word_matrix.shape"
   ]
  },
  {
   "cell_type": "code",
   "execution_count": 99,
   "metadata": {
    "collapsed": false
   },
   "outputs": [
    {
     "data": {
      "text/plain": [
       "652"
      ]
     },
     "execution_count": 99,
     "metadata": {},
     "output_type": "execute_result"
    }
   ],
   "source": [
    "np.count_nonzero(word_matrix[0])"
   ]
  },
  {
   "cell_type": "code",
   "execution_count": 100,
   "metadata": {
    "collapsed": false
   },
   "outputs": [
    {
     "name": "stdout",
     "output_type": "stream",
     "text": [
      "[8, 12, 13, 18, 21, 22, 25, 30, 37, 51, 53, 55, 56, 57, 62, 64, 65, 69, 75, 78, 80, 86, 91, 92, 93, 98, 99, 108, 112, 114, 120, 121, 127, 142, 146, 147, 152, 154, 155, 157, 158, 160, 161, 171, 175, 182, 184, 189, 196, 198, 200, 202, 203, 207, 213, 214, 225, 226, 227, 229, 231, 232, 234, 237, 238, 240, 242, 254, 259, 262, 264, 272, 275, 277, 280, 286, 287, 289, 292, 293, 298, 304, 311, 316, 324, 325, 330, 331, 333, 336, 340, 346, 347, 350, 351, 353, 356, 360, 373, 377, 379, 385, 386, 390, 391, 392, 393, 394, 397, 401, 405, 407, 411, 413, 424, 428, 433, 434, 435, 437, 439, 440, 442, 445, 447, 448, 451, 454, 461, 467, 469, 473, 476, 479, 482, 489, 490, 493, 495, 499, 500, 502, 503, 504, 505, 507, 514, 515, 516, 517, 518, 519, 520, 523, 525, 529, 530, 533, 534, 535, 538, 539, 549, 552, 555, 556, 558, 560, 561, 562, 563, 565, 566, 567, 568, 574, 575, 578, 581, 584, 585, 591, 596, 598, 600, 601, 603, 606, 607, 610, 613, 614, 616, 617, 620, 621, 624, 628, 632, 636, 638, 640, 643, 646, 653, 658, 660, 661, 662, 663, 668, 677, 680, 681, 684, 685, 687, 688, 689, 690, 694, 696, 701, 707, 708, 709, 710, 711, 712, 714, 717, 724, 727, 729, 739, 743, 745, 747, 753, 755, 756, 760, 770, 777, 787, 788, 791, 792, 794, 798, 808, 813, 816, 817, 819, 825, 826, 830, 831, 833, 838, 841, 848, 851, 856, 857, 859, 860, 861, 862, 863, 864, 865, 869, 871, 876, 879, 882, 883, 886, 887, 890, 895, 899, 901, 903, 904, 906, 909, 913, 914, 924, 927, 929, 931, 932, 936, 939, 943, 945, 948, 950, 952, 953, 955, 960, 964, 969, 973, 977, 979, 982, 986, 987, 988, 989, 991, 993, 994, 998, 1000, 1004, 1005, 1015, 1020, 1022, 1025, 1030, 1031, 1035, 1036, 1038, 1040, 1041, 1046, 1048, 1050, 1052, 1056, 1060, 1064, 1071, 1072, 1075, 1076, 1079, 1080, 1081, 1083, 1084, 1086, 1087, 1088, 1090, 1092, 1093, 1095, 1098, 1099, 1101, 1102, 1105, 1113, 1121, 1124, 1125, 1127, 1128, 1129, 1131, 1132, 1133, 1139, 1141, 1145, 1154, 1155, 1156, 1162, 1163, 1165, 1169, 1178, 1182, 1183, 1184, 1188, 1190, 1196, 1202, 1207, 1208, 1209, 1211, 1212, 1213, 1215, 1216, 1221, 1222, 1232, 1239, 1246, 1247, 1251, 1252, 1258, 1263, 1264, 1273, 1276, 1277, 1279, 1280, 1281, 1283, 1284, 1285, 1286, 1287, 1290, 1291, 1294, 1295, 1299, 1303, 1304, 1306, 1307, 1308, 1310, 1319, 1323, 1329, 1330, 1331, 1335, 1337, 1338, 1340, 1341, 1342, 1343, 1345, 1346, 1351, 1361, 1370, 1374, 1375, 1376, 1377, 1379, 1383, 1385, 1387, 1393, 1394, 1395, 1399, 1400, 1404, 1406, 1409, 1413, 1414, 1421, 1422, 1424, 1432, 1434, 1438, 1439, 1441, 1443, 1447, 1448, 1449, 1451, 1452, 1457, 1458, 1459, 1462, 1466, 1468, 1469, 1473, 1475, 1477, 1480, 1484, 1485, 1486, 1488, 1489, 1492, 1498, 1503, 1504, 1509, 1513, 1514, 1516, 1517, 1518, 1520, 1521, 1528, 1529, 1530, 1534, 1538, 1548, 1554, 1555, 1556, 1563, 1566, 1567, 1568, 1571, 1579, 1580, 1587, 1600, 1601, 1603, 1607, 1609, 1616, 1619, 1622, 1627, 1628, 1632, 1633, 1635, 1640, 1641, 1643, 1644, 1646, 1651, 1652, 1654, 1655, 1663, 1667, 1668, 1670, 1671, 1677, 1678, 1682, 1684, 1688, 1689, 1690, 1692, 1694, 1704, 1705, 1706, 1709, 1713, 1719, 1721, 1728, 1732, 1733, 1736, 1741, 1748, 1754, 1756, 1760, 1765, 1768, 1769, 1771, 1774, 1780, 1783, 1785, 1787, 1789, 1791, 1793, 1801, 1805, 1807, 1808, 1809, 1818, 1826, 1827, 1828, 1830, 1833, 1835, 1840, 1841, 1845, 1850, 1851, 1852, 1855, 1868, 1871, 1873, 1876, 1879, 1884, 1888, 1893, 1897, 1899, 1900, 1901, 1908, 1910, 1914, 1915, 1920, 1921, 1923, 1927, 1930, 1943, 1944, 1949, 1952, 1953, 1954, 1955, 1958, 1959, 1960, 1962, 1963, 1967, 1968, 1969, 1973, 1974, 1975, 1982, 1983, 1984, 1994, 1999]\n"
     ]
    }
   ],
   "source": [
    "res = []\n",
    "for i,elem in enumerate(word_matrix[0]):\n",
    "    if elem:\n",
    "        res.append(i)\n",
    "print res"
   ]
  },
  {
   "cell_type": "code",
   "execution_count": 101,
   "metadata": {
    "collapsed": false
   },
   "outputs": [
    {
     "data": {
      "text/plain": [
       "'TFIDF[i,j] = ( Ni,j / N*,j ) * log( D / Di )'"
      ]
     },
     "execution_count": 101,
     "metadata": {},
     "output_type": "execute_result"
    }
   ],
   "source": [
    "#TFIDF Calculation:\n",
    "'''TFIDF[i,j] = ( Ni,j / N*,j ) * log( D / Di )'''\n",
    "#Ni,j = the number of times word i appears in document j (the original cell count).\n",
    "#N*,j = the number of total words in document j (just add the counts in column j).\n",
    "#D = the number of documents (the number of columns).\n",
    "#Di = the number of documents in which word i appears (the number of non-zero columns in row i).\n",
    "\n",
    "#TFIDF can be used directly from the library sckit-learn.\n",
    "#from sklearn.feature_extraction.text import TfidfVectorizer"
   ]
  },
  {
   "cell_type": "code",
   "execution_count": 102,
   "metadata": {
    "collapsed": false
   },
   "outputs": [
    {
     "name": "stdout",
     "output_type": "stream",
     "text": [
      "0\n"
     ]
    }
   ],
   "source": [
    "#By observing the formula we can say that, we need to check the range of Nj,Di(In case their value is 0.)\n",
    "#Also D/Di should not be zero, but D will never be 0.\n",
    "\n",
    "from math import log\n",
    "\n",
    "D = 2000 #Number of tweets will remain constant.\n",
    "\n",
    "trans_word_matrix = word_matrix.T\n",
    "sum_list = []\n",
    "for each in trans_word_matrix:\n",
    "    sum_list.append(sum(each))\n",
    "    \n",
    "#This tweet has Nj as 0 i.e. No. Of Words in this tweet = 0.\n",
    "print sum_list[1729]\n",
    "\n",
    "for row in xrange(2934):\n",
    "    #The no. of tweets in which the word appears i.e. non-zero elem in the row. => Can't be 0.\n",
    "    Di = np.count_nonzero(word_matrix[row])\n",
    "    \n",
    "    for col in xrange(2000):\n",
    "        #Value at the point.\n",
    "        Nij = word_matrix[row,col]\n",
    "        #Total No. of words in a tweet. => Can be 0.\n",
    "        Nj = sum_list[col]\n",
    "        #Calculating the value only if Nj is non-zero, otherwise let zero remain.\n",
    "        if Nj:\n",
    "            word_matrix[row,col] = (Nij/Nj) * log(D/Di)"
   ]
  },
  {
   "cell_type": "code",
   "execution_count": 103,
   "metadata": {
    "collapsed": false
   },
   "outputs": [
    {
     "name": "stdout",
     "output_type": "stream",
     "text": [
      "0 0 0 0 0 0 0 0 0 0\n"
     ]
    }
   ],
   "source": [
    "#Now the whole column of the tweet no. 1729 will have 0 value rather than NULL values.\n",
    "for each in xrange(10):\n",
    "    print word_matrix[each][1729],"
   ]
  },
  {
   "cell_type": "code",
   "execution_count": 104,
   "metadata": {
    "collapsed": false
   },
   "outputs": [],
   "source": [
    "#Creating a dataframe from the tfidf matrix.\n",
    "df2 = pd.DataFrame(word_matrix,index = df.index,columns=list(df.columns.values)) "
   ]
  },
  {
   "cell_type": "code",
   "execution_count": 105,
   "metadata": {
    "collapsed": false
   },
   "outputs": [],
   "source": [
    "#Saved as 'tfidf.csv'.\n",
    "df2.to_csv('tfidf.csv',sep='\\t')"
   ]
  },
  {
   "cell_type": "code",
   "execution_count": 106,
   "metadata": {
    "collapsed": false
   },
   "outputs": [],
   "source": [
    "df2 = pd.read_csv('tfidf.csv',sep='\\t',index_col=0)"
   ]
  },
  {
   "cell_type": "code",
   "execution_count": 107,
   "metadata": {
    "collapsed": false
   },
   "outputs": [
    {
     "data": {
      "text/html": [
       "<div>\n",
       "<table border=\"1\" class=\"dataframe\">\n",
       "  <thead>\n",
       "    <tr style=\"text-align: right;\">\n",
       "      <th></th>\n",
       "      <th>0</th>\n",
       "      <th>1</th>\n",
       "      <th>2</th>\n",
       "      <th>3</th>\n",
       "      <th>4</th>\n",
       "      <th>5</th>\n",
       "      <th>6</th>\n",
       "      <th>7</th>\n",
       "      <th>8</th>\n",
       "      <th>9</th>\n",
       "      <th>...</th>\n",
       "      <th>1990</th>\n",
       "      <th>1991</th>\n",
       "      <th>1992</th>\n",
       "      <th>1993</th>\n",
       "      <th>1994</th>\n",
       "      <th>1995</th>\n",
       "      <th>1996</th>\n",
       "      <th>1997</th>\n",
       "      <th>1998</th>\n",
       "      <th>1999</th>\n",
       "    </tr>\n",
       "    <tr>\n",
       "      <th>WORDS In Tweets\\Tweet No.</th>\n",
       "      <th></th>\n",
       "      <th></th>\n",
       "      <th></th>\n",
       "      <th></th>\n",
       "      <th></th>\n",
       "      <th></th>\n",
       "      <th></th>\n",
       "      <th></th>\n",
       "      <th></th>\n",
       "      <th></th>\n",
       "      <th></th>\n",
       "      <th></th>\n",
       "      <th></th>\n",
       "      <th></th>\n",
       "      <th></th>\n",
       "      <th></th>\n",
       "      <th></th>\n",
       "      <th></th>\n",
       "      <th></th>\n",
       "      <th></th>\n",
       "      <th></th>\n",
       "    </tr>\n",
       "  </thead>\n",
       "  <tbody>\n",
       "    <tr>\n",
       "      <th>miliband</th>\n",
       "      <td>0</td>\n",
       "      <td>0</td>\n",
       "      <td>0</td>\n",
       "      <td>0</td>\n",
       "      <td>0</td>\n",
       "      <td>0</td>\n",
       "      <td>0</td>\n",
       "      <td>0</td>\n",
       "      <td>0</td>\n",
       "      <td>0</td>\n",
       "      <td>...</td>\n",
       "      <td>0</td>\n",
       "      <td>0</td>\n",
       "      <td>0</td>\n",
       "      <td>0</td>\n",
       "      <td>0</td>\n",
       "      <td>0</td>\n",
       "      <td>0</td>\n",
       "      <td>0</td>\n",
       "      <td>0</td>\n",
       "      <td>0</td>\n",
       "    </tr>\n",
       "    <tr>\n",
       "      <th>snp</th>\n",
       "      <td>0</td>\n",
       "      <td>0</td>\n",
       "      <td>0</td>\n",
       "      <td>0</td>\n",
       "      <td>0</td>\n",
       "      <td>0</td>\n",
       "      <td>0</td>\n",
       "      <td>0</td>\n",
       "      <td>0</td>\n",
       "      <td>0</td>\n",
       "      <td>...</td>\n",
       "      <td>0</td>\n",
       "      <td>0</td>\n",
       "      <td>0</td>\n",
       "      <td>0</td>\n",
       "      <td>0</td>\n",
       "      <td>0</td>\n",
       "      <td>0</td>\n",
       "      <td>0</td>\n",
       "      <td>0</td>\n",
       "      <td>0</td>\n",
       "    </tr>\n",
       "    <tr>\n",
       "      <th>tori</th>\n",
       "      <td>0</td>\n",
       "      <td>0</td>\n",
       "      <td>0</td>\n",
       "      <td>0</td>\n",
       "      <td>0</td>\n",
       "      <td>0</td>\n",
       "      <td>0</td>\n",
       "      <td>0</td>\n",
       "      <td>0</td>\n",
       "      <td>0</td>\n",
       "      <td>...</td>\n",
       "      <td>0</td>\n",
       "      <td>0</td>\n",
       "      <td>0</td>\n",
       "      <td>0</td>\n",
       "      <td>0</td>\n",
       "      <td>0</td>\n",
       "      <td>0</td>\n",
       "      <td>0</td>\n",
       "      <td>0</td>\n",
       "      <td>0</td>\n",
       "    </tr>\n",
       "    <tr>\n",
       "      <th>s</th>\n",
       "      <td>0</td>\n",
       "      <td>0</td>\n",
       "      <td>0</td>\n",
       "      <td>0</td>\n",
       "      <td>0</td>\n",
       "      <td>0</td>\n",
       "      <td>0</td>\n",
       "      <td>0</td>\n",
       "      <td>0</td>\n",
       "      <td>0</td>\n",
       "      <td>...</td>\n",
       "      <td>0</td>\n",
       "      <td>0</td>\n",
       "      <td>0</td>\n",
       "      <td>0</td>\n",
       "      <td>0</td>\n",
       "      <td>0</td>\n",
       "      <td>0</td>\n",
       "      <td>0</td>\n",
       "      <td>0</td>\n",
       "      <td>0</td>\n",
       "    </tr>\n",
       "    <tr>\n",
       "      <th>t</th>\n",
       "      <td>0</td>\n",
       "      <td>0</td>\n",
       "      <td>0</td>\n",
       "      <td>0</td>\n",
       "      <td>0</td>\n",
       "      <td>0</td>\n",
       "      <td>0</td>\n",
       "      <td>0</td>\n",
       "      <td>0</td>\n",
       "      <td>0</td>\n",
       "      <td>...</td>\n",
       "      <td>0</td>\n",
       "      <td>0</td>\n",
       "      <td>0</td>\n",
       "      <td>0</td>\n",
       "      <td>0</td>\n",
       "      <td>0</td>\n",
       "      <td>0</td>\n",
       "      <td>0</td>\n",
       "      <td>0</td>\n",
       "      <td>0</td>\n",
       "    </tr>\n",
       "  </tbody>\n",
       "</table>\n",
       "<p>5 rows × 2000 columns</p>\n",
       "</div>"
      ],
      "text/plain": [
       "                           0  1  2  3  4  5  6  7  8  9  ...   1990  1991  \\\n",
       "WORDS In Tweets\\Tweet No.                                ...                \n",
       "miliband                   0  0  0  0  0  0  0  0  0  0  ...      0     0   \n",
       "snp                        0  0  0  0  0  0  0  0  0  0  ...      0     0   \n",
       "tori                       0  0  0  0  0  0  0  0  0  0  ...      0     0   \n",
       "s                          0  0  0  0  0  0  0  0  0  0  ...      0     0   \n",
       "t                          0  0  0  0  0  0  0  0  0  0  ...      0     0   \n",
       "\n",
       "                           1992  1993  1994  1995  1996  1997  1998  1999  \n",
       "WORDS In Tweets\\Tweet No.                                                  \n",
       "miliband                      0     0     0     0     0     0     0     0  \n",
       "snp                           0     0     0     0     0     0     0     0  \n",
       "tori                          0     0     0     0     0     0     0     0  \n",
       "s                             0     0     0     0     0     0     0     0  \n",
       "t                             0     0     0     0     0     0     0     0  \n",
       "\n",
       "[5 rows x 2000 columns]"
      ]
     },
     "execution_count": 107,
     "metadata": {},
     "output_type": "execute_result"
    }
   ],
   "source": [
    "df2.head()"
   ]
  },
  {
   "cell_type": "code",
   "execution_count": 108,
   "metadata": {
    "collapsed": true
   },
   "outputs": [],
   "source": [
    "tfidf = df2.as_matrix()"
   ]
  },
  {
   "cell_type": "code",
   "execution_count": 109,
   "metadata": {
    "collapsed": false
   },
   "outputs": [
    {
     "data": {
      "text/plain": [
       "3"
      ]
     },
     "execution_count": 109,
     "metadata": {},
     "output_type": "execute_result"
    }
   ],
   "source": [
    "np.count_nonzero(tfidf[0])"
   ]
  },
  {
   "cell_type": "code",
   "execution_count": 110,
   "metadata": {
    "collapsed": false
   },
   "outputs": [
    {
     "name": "stdout",
     "output_type": "stream",
     "text": [
      "[798, 1452, 1914]\n"
     ]
    }
   ],
   "source": [
    "res = []\n",
    "for i,elem in enumerate(tfidf[0]):\n",
    "    if elem:\n",
    "        res.append(i)\n",
    "print res"
   ]
  }
 ],
 "metadata": {
  "kernelspec": {
   "display_name": "Python 2",
   "language": "python",
   "name": "python2"
  },
  "language_info": {
   "codemirror_mode": {
    "name": "ipython",
    "version": 2
   },
   "file_extension": ".py",
   "mimetype": "text/x-python",
   "name": "python",
   "nbconvert_exporter": "python",
   "pygments_lexer": "ipython2",
   "version": "2.7.12"
  }
 },
 "nbformat": 4,
 "nbformat_minor": 2
}
