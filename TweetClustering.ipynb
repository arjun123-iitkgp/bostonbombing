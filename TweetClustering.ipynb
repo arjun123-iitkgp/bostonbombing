{
 "cells": [
  {
   "cell_type": "code",
   "execution_count": 211,
   "metadata": {
    "collapsed": true,
    "deletable": true,
    "editable": true
   },
   "outputs": [],
   "source": [
    "import pandas as pd\n",
    "import nltk"
   ]
  },
  {
   "cell_type": "code",
   "execution_count": 212,
   "metadata": {
    "collapsed": false,
    "deletable": true,
    "editable": true
   },
   "outputs": [],
   "source": [
    "df = pd.read_csv('boston.csv')"
   ]
  },
  {
   "cell_type": "code",
   "execution_count": 214,
   "metadata": {
    "collapsed": false,
    "deletable": true,
    "editable": true,
    "scrolled": false
   },
   "outputs": [
    {
     "data": {
      "text/html": [
       "<div>\n",
       "<table border=\"1\" class=\"dataframe\">\n",
       "  <thead>\n",
       "    <tr style=\"text-align: right;\">\n",
       "      <th></th>\n",
       "      <th>text</th>\n",
       "      <th>id</th>\n",
       "      <th>from_user</th>\n",
       "      <th>iso_language_code</th>\n",
       "    </tr>\n",
       "  </thead>\n",
       "  <tbody>\n",
       "    <tr>\n",
       "      <th>0</th>\n",
       "      <td>RT @ItsJennaMarbles: Reports of Marathon Runne...</td>\n",
       "      <td>323906397609791488</td>\n",
       "      <td>sangyashrestha</td>\n",
       "      <td>en</td>\n",
       "    </tr>\n",
       "    <tr>\n",
       "      <th>1</th>\n",
       "      <td>RT @NBCSN: Reports of Marathon Runners that cr...</td>\n",
       "      <td>323906397618196483</td>\n",
       "      <td>ChelseaGilson</td>\n",
       "      <td>en</td>\n",
       "    </tr>\n",
       "    <tr>\n",
       "      <th>2</th>\n",
       "      <td>RT @NBCSN: Reports of Marathon Runners that cr...</td>\n",
       "      <td>323906397735641088</td>\n",
       "      <td>Blakstoise</td>\n",
       "      <td>en</td>\n",
       "    </tr>\n",
       "    <tr>\n",
       "      <th>3</th>\n",
       "      <td>RT @PeterBurnsRadio: RT @NBCSN: Reports of Mar...</td>\n",
       "      <td>323906397853073410</td>\n",
       "      <td>markson</td>\n",
       "      <td>en</td>\n",
       "    </tr>\n",
       "    <tr>\n",
       "      <th>4</th>\n",
       "      <td>RT @NBCSN: Reports of Marathon Runners that cr...</td>\n",
       "      <td>323906397962121216</td>\n",
       "      <td>MarlyCakes85</td>\n",
       "      <td>en</td>\n",
       "    </tr>\n",
       "  </tbody>\n",
       "</table>\n",
       "</div>"
      ],
      "text/plain": [
       "                                                text                  id  \\\n",
       "0  RT @ItsJennaMarbles: Reports of Marathon Runne...  323906397609791488   \n",
       "1  RT @NBCSN: Reports of Marathon Runners that cr...  323906397618196483   \n",
       "2  RT @NBCSN: Reports of Marathon Runners that cr...  323906397735641088   \n",
       "3  RT @PeterBurnsRadio: RT @NBCSN: Reports of Mar...  323906397853073410   \n",
       "4  RT @NBCSN: Reports of Marathon Runners that cr...  323906397962121216   \n",
       "\n",
       "        from_user iso_language_code  \n",
       "0  sangyashrestha                en  \n",
       "1   ChelseaGilson                en  \n",
       "2      Blakstoise                en  \n",
       "3         markson                en  \n",
       "4    MarlyCakes85                en  "
      ]
     },
     "execution_count": 214,
     "metadata": {},
     "output_type": "execute_result"
    }
   ],
   "source": [
    "df.head()"
   ]
  },
  {
   "cell_type": "code",
   "execution_count": 215,
   "metadata": {
    "collapsed": true
   },
   "outputs": [],
   "source": [
    "ids = []\n",
    "for i in xrange(251):\n",
    "    ids.append(df.loc[i]['id'])"
   ]
  },
  {
   "cell_type": "code",
   "execution_count": 216,
   "metadata": {
    "collapsed": false
   },
   "outputs": [],
   "source": [
    "seed = [323906397735641088,323906483584655360,323906657333682176,323907258301939713,323909308188344320,323913403460636673,\n",
    "324067437886713856,324117950774775809,324138055772561408,324219503401644033,324320247018573824,324346553835868161,324372750330363904,\n",
    "324408472441585664,324422817565257728,324448013999304704,324785120085176320,325059351209443329,325060324992643072,\n",
    "325162944931438592,325253327048822784,325337623910559745,325409910642835456,325701934273134594,325946633986641920]\n"
   ]
  },
  {
   "cell_type": "code",
   "execution_count": 217,
   "metadata": {
    "collapsed": false,
    "deletable": true,
    "editable": true,
    "scrolled": true
   },
   "outputs": [
    {
     "data": {
      "text/plain": [
       "(251, 4)"
      ]
     },
     "execution_count": 217,
     "metadata": {},
     "output_type": "execute_result"
    }
   ],
   "source": [
    "df.shape"
   ]
  },
  {
   "cell_type": "code",
   "execution_count": 218,
   "metadata": {
    "collapsed": false,
    "deletable": true,
    "editable": true
   },
   "outputs": [
    {
     "data": {
      "text/plain": [
       "'RT @ItsJennaMarbles: Reports of Marathon Runners that crossed finish line and continued to run to Mass General Hospital to give blood to victims. #PrayforBoston'"
      ]
     },
     "execution_count": 218,
     "metadata": {},
     "output_type": "execute_result"
    }
   ],
   "source": [
    "df['text'][0]"
   ]
  },
  {
   "cell_type": "code",
   "execution_count": 219,
   "metadata": {
    "collapsed": true,
    "deletable": true,
    "editable": true
   },
   "outputs": [],
   "source": [
    "from nltk.corpus import stopwords"
   ]
  },
  {
   "cell_type": "code",
   "execution_count": 220,
   "metadata": {
    "collapsed": false,
    "deletable": true,
    "editable": true
   },
   "outputs": [],
   "source": [
    "stopwords = set(stopwords.words('english'))"
   ]
  },
  {
   "cell_type": "code",
   "execution_count": 221,
   "metadata": {
    "collapsed": false,
    "deletable": true,
    "editable": true
   },
   "outputs": [
    {
     "data": {
      "text/plain": [
       "153"
      ]
     },
     "execution_count": 221,
     "metadata": {},
     "output_type": "execute_result"
    }
   ],
   "source": [
    "len(stopwords) "
   ]
  },
  {
   "cell_type": "code",
   "execution_count": 222,
   "metadata": {
    "collapsed": false,
    "deletable": true,
    "editable": true
   },
   "outputs": [
    {
     "data": {
      "text/plain": [
       "text                 RT @ItsJennaMarbles: Reports of Marathon Runne...\n",
       "id                                                  323906397609791488\n",
       "from_user                                               sangyashrestha\n",
       "iso_language_code                                                   en\n",
       "Name: 0, dtype: object"
      ]
     },
     "execution_count": 222,
     "metadata": {},
     "output_type": "execute_result"
    }
   ],
   "source": [
    "df.loc[0]"
   ]
  },
  {
   "cell_type": "code",
   "execution_count": 223,
   "metadata": {
    "collapsed": false,
    "deletable": true,
    "editable": true
   },
   "outputs": [],
   "source": [
    "import numpy as np\n",
    "df['links'] = np.nan   #Adding new column for urls present in the tweets."
   ]
  },
  {
   "cell_type": "code",
   "execution_count": 226,
   "metadata": {
    "collapsed": false,
    "deletable": true,
    "editable": true
   },
   "outputs": [
    {
     "data": {
      "text/plain": [
       "251"
      ]
     },
     "execution_count": 226,
     "metadata": {},
     "output_type": "execute_result"
    }
   ],
   "source": [
    "import re\n",
    "tweets = []\n",
    "for i in xrange(251):\n",
    "    tweets.append(df.loc[i]['text'])\n",
    "\n",
    "len(tweets)\n"
   ]
  },
  {
   "cell_type": "code",
   "execution_count": 229,
   "metadata": {
    "collapsed": false,
    "deletable": true,
    "editable": true,
    "scrolled": false
   },
   "outputs": [
    {
     "data": {
      "text/plain": [
       "['RT Reports of Marathon Runners that crossed finish line and continued to run to Mass General Hospital to give blood to victims. #PrayforBoston',\n",
       " 'RT Reports of Marathon Runners that crossed finish line and continued to run to Mass General Hospital to give blood to victims #PrayforBoston',\n",
       " 'RT Reports of Marathon Runners that crossed finish line and continued to run to Mass General Hospital to give blood to victims #PrayforBoston',\n",
       " 'RT RT Reports of Marathon Runners that crossed finish line and continued to run to Mass General Hospital to give blood to victims #PrayforBoston',\n",
       " 'RT Reports of Marathon Runners that crossed finish line and continued to run to Mass General Hospital to give blood to victims #PrayforBoston',\n",
       " 'RT Reports of Marathon Runners that crossed finish line and continued to run to Mass General Hospital to give blood to victims #PrayforBoston',\n",
       " 'RT RT Reports of Marathon Runners that crossed finish line and continued to run to Mass General Hospital to give blood to victims...',\n",
       " 'RT Reports of Marathon Runners that crossed finish line and continued to run to Mass General Hospital to give blood to victims. #PrayforBoston',\n",
       " '@mrjakehumphrey Reports of Marathon Runners that crossed finish line and continued to run to Mass General Hospital to give blood to victims #PrayforBoston',\n",
       " 'RT @Google - Google Person Finder Locates Missing at Boston Marathon Explosion',\n",
       " \"RT #Boston police confirm another explosion at city's JFK Library following two blasts near #marathon site\",\n",
       " 'RT Reports of Marathon Runners that crossed finish line and continued to run to Mass General Hospital to give blood to victims #PrayforBoston',\n",
       " 'RT There are reports of Boston Marathon runners crossing finish line and continuing to run to Hospital to give blood to victims (via',\n",
       " 'RT Reports of Marathon Runners that crossed finish line and continued to run to Mass General Hospital to give blood to victims. #PrayforBoston',\n",
       " 'RT Reports of Marathon Runners that crossed finish line and continued to run to Mass General Hospital to give blood to victims #PrayforBoston',\n",
       " 'RT Wow. RT Reports of Marathon Runners that crossed finish line and continued to run to Mass General Hospital to give blood to victims',\n",
       " 'RT Google Person Finder Locates Missing at Boston Marathon Explosion',\n",
       " 'Resource Google Person Finder Locates Missing at Boston Marathon Explosion #Boston',\n",
       " 'RT RT Thanks to generosity of volunteer blood donors there is currently enough blood on the shelves to meet demand. #BostonMarathon',\n",
       " 'RT Thanks to generosity of volunteer blood donors there is currently enough blood on the shelves to meet demand. #BostonMarathon',\n",
       " \"RT #Boston police confirm another explosion at city's JFK Library following two blasts near #marathon site\",\n",
       " 'RT Official: Cellphone service shut down in Boston to prevent remote detonations of explosives via @washingtonpost',\n",
       " 'RT RT Cellphone service shut down in Boston to prevent remote detonations of explosives, official says: -CC',\n",
       " 'RT RT Cellphone service shut down in Boston to prevent remote detonations of explosives, official says: -CC',\n",
       " 'RT RT Cellphone service shut down in Boston to prevent remote detonations of explosives, official says: -CC',\n",
       " 'RT RT Reports of Marathon Runners that crossed finish line and continued to run to Mass General Hospital to give blood to victims.',\n",
       " '\"Reports of Boston Marathon runners crossing finish line and continuing to run to Hospital to give blood to victims\" #heartbreaking',\n",
       " \"RT #Boston police confirm another explosion at city's JFK Library following two blasts near #marathon site\",\n",
       " 'RT marathon runners that crossed finish line continued on to run to the Hospital to give blood to victims. #PrayforBoston #respect',\n",
       " 'RT There are reports of Boston Marathon runners crossing finish line and continuing to run to Hospital to give blood to victims (via',\n",
       " 'RT Marathon runners crossed the finish line and continued to run to Mass General Hospital to give blood to victims. #Heroes #PrayForBoston',\n",
       " 'RT Marathon runners crossed the finish line and continued to run to Mass General Hospital to give blood to victims. #Heroes #PrayForBoston',\n",
       " 'RT RT #Breaking: The FAA issued a Temporary flight restriction over the area of explosion. Effective immediately',\n",
       " \"RT #Boston police confirm another explosion at city's JFK Library following two blasts near #marathon site\",\n",
       " \"RT #Boston police confirm another explosion at city's JFK Library following two blasts near #marathon site\",\n",
       " 'RT Google Person Finder Locates Missing at Boston Marathon Explosion',\n",
       " 'RT Thanks to generosity of volunteer blood donors there is currently enough blood on the shelves to meet demand. #BostonMarathon',\n",
       " 'RT Google Person Finder Locates Missing at Boston Marathon Explosion',\n",
       " 'RT Google Person Finder Locates Missing at Boston Marathon Explosion',\n",
       " 'Google Person Finder Locates Missing at Boston Marathon Explosion',\n",
       " 'RT Thanks to generosity of volunteer blood donors there is currently enough blood on the shelves to meet demand. #BostonMarathon',\n",
       " 'RT Google Person Finder: Boston Marathon Explosions',\n",
       " 'RT Thanks to generosity of volunteer blood donors there is currently enough blood on the shelves to meet demand. #BostonMarathon',\n",
       " 'RT Google Person Finder Locates Missing at Boston Marathon Explosion',\n",
       " 'RT Google Person Finder Locates Missing at Boston Marathon Explosion #Boston',\n",
       " 'Google Person Finder Locates Missing at Boston Marathon Explosion',\n",
       " 'RT Google Person Finder Locates Missing at Boston Marathon Explosion',\n",
       " 'RT Thanks to generosity of volunteer blood donors there is currently enough blood on the shelves to meet demand. #BostonMarathon',\n",
       " 'RT Google Person Finder Locates Missing at Boston Marathon Explosion via @sbedrick',\n",
       " 'RT RT Thanks to generosity of volunteer blood donors there is currently enough blood on the shelves to meet demand. #BostonMarathon',\n",
       " 'RT Google Person Finder Locates Missing at Boston Marathon Explosion',\n",
       " 'RT Thanks to generosity of volunteer blood donors there is currently enough blood on the shelves to meet demand. #BostonMarathon',\n",
       " 'RT Google Person finder Boston Marathon Explosion',\n",
       " 'Google Person Finder Locates Missing at Boston Marathon Explosion',\n",
       " 'Google Person Finder Locates Missing at Boston Marathon Explosion via @mashable',\n",
       " 'RT Thanks to generosity of volunteer blood donors there is currently enough blood on the shelves to meet demand. #BostonMarathon',\n",
       " 'RT Google Person Finder: Boston Marathon Explosion',\n",
       " 'RT Google Person Finder: Boston Marathon Explosion',\n",
       " 'RT Google Person Finder: Boston Marathon Explosion',\n",
       " 'Google Person Finder Locates Missing at Boston Marathon Explosion via @mashable',\n",
       " 'RT Google Person Finder: Boston Marathon Explosion',\n",
       " 'Google Person Finder Locates Missing at Boston Marathon Explosion',\n",
       " 'RT Google Person Finder: Boston Marathon Explosion',\n",
       " 'RT Google Person Finder Locates Missing at Boston Marathon Explosion',\n",
       " 'Google Person Finder Locates Missing at Boston Marathon Explosion #Tech #Innovation #Google #Design #Help',\n",
       " 'Google Person Finder Locates Missing at Boston Marathon Explosion',\n",
       " \"RT #Boston police confirm another explosion at city's JFK Library following two blasts near #marathon site\",\n",
       " \"RT #Boston police confirm another explosion at city's JFK Library following two blasts near #marathon site\",\n",
       " 'Boston Explosion News: At Least 3 Dead, 140 Injured In Marathon Bombing (LIVE UPDATES) via',\n",
       " 'RT My heart is broken for the people of Boston, this is unreal. praying for peace, restoration, and JUSTICE. #BostonMarathon',\n",
       " 'RT My heart is broken for the people of Boston, this is unreal. praying for peace, restoration, and JUSTICE. #BostonMarathon',\n",
       " 'Boston Explosion News: At Least 3 Dead, 140 Injured In Marathon Bombing (LIVE UPDATES) via',\n",
       " 'Boston Bombing Suspect: Saudi National in Custody, Not Charged or Under Arrest: Following the dual explosion...',\n",
       " 'Boston Bombing Suspect: Saudi National in Custody, Not Charged or Under Arrest: Following the dual explosion...',\n",
       " 'At Least 3 Dead, 140 Injured In Boston Marathon Bombing via @HuffPostCrime',\n",
       " 'RT Boston Explosion News: At Least 3 Dead, 140 Injured In Marathon Bombing (LIVE UPDATES)',\n",
       " 'Boston Explosion News: At Least 3 Dead, 140 Injured In Marathon Bombing (LIVE UPDATES) via @HuffPostCrime',\n",
       " 'Boston Explosion News: At Least 3 Dead, 140 Injured In Marathon Bombing (LIVE UPDATES) via @HuffPostCrime',\n",
       " 'RT \"@HuffPostWorld: Boston Explosion News: At Least 3 Dead, 140 Injured In Marathon Bombing (LIVE UPDATES) via http://t.co/g9dwQStMGh\"',\n",
       " 'Boston Explosion News: At Least 3 Dead, 140 Injured In Marathon Bombing (LIVE UPDATES) via @HuffPostCrime',\n",
       " '(LIVE UPDATES) #BostonMarathon: At Least 3 Dead, 140 Injured In Marathon Bombing via @HuffPostCrime',\n",
       " 'RT My heart is broken for the people of Boston, this is unreal. praying for peace, restoration, and JUSTICE. #BostonMarathon',\n",
       " '\"If you are trying to defeat the human spirit, marathoners are the wrong group to target.\" Amen! #BostonMarathon',\n",
       " \"RT #Boston police confirm another explosion at city's JFK Library following two blasts near #marathon site\",\n",
       " \"RT #Boston police confirm another explosion at city's JFK Library following two blasts near #marathon site\",\n",
       " 'Boston Explosion News: At Least 3 Dead, 140 Injured In Marathon Bombing (LIVE UPDATES) via @HuffPostCrime',\n",
       " 'RT #Breaking: The FAA has issued a Temporary flight restriction over the area of explosion. Effective immediately',\n",
       " \"Boston bombing 'used pressure cooker packed with metal': Clues emerge from forensic examination of bomb... tg #US\",\n",
       " \"Boston bombing 'used pressure cooker packed with metal': Clues emerge from forensic examination of bomb site, ...\",\n",
       " \"Boston bombing 'used pressure cooker packed with metal': Clues emerge from forensic examination of bomb site, ...\",\n",
       " 'For every retweet we receive we will donate $1 to the #BostonMarathon victims #PrayForBoston @_BostonMarathon',\n",
       " 'RT For every retweet we receive we will donate $1 to the #BostonMarathon victims #PrayForBoston @_BostonMarathon',\n",
       " 'If you are trying to defeat the human spirit, #marathoners are the wrong group to target! @bostonmarathon',\n",
       " 'If you are trying to defeat the human spirit, marathoneers are the wrong group to target #bostonmarathon',\n",
       " 'RT For every retweet we receive we will donate $1 to the #BostonMarathon victims #PrayForBoston @_BostonMarathon',\n",
       " 'RT Obama Regime Cut Spending for Domestic Bombing Prevention by 45% #BostonMarathon #BostonBombings',\n",
       " 'RT For every retweet we receive we will donate $1 to the #BostonMarathon victims #PrayForBoston @_BostonMarathon',\n",
       " 'RT For every retweet we receive we will donate $1 to the #BostonMarathon victims #PrayForBoston @_BostonMarathon',\n",
       " 'RT If you are trying to defeat the human spirit, Marathoners are the WRONG GROUP to target! #bostonmarathon #tcot #tgdn',\n",
       " 'RT For every retweet we receive we will donate $1 to the #BostonMarathon victims #PrayForBoston @_BostonMarathon',\n",
       " 'RT If you are trying to defeat the human spirit, Marathoners are the WRONG GROUP to target! #bostonmarathon #tcot #tgdn',\n",
       " 'RT For every retweet we receive we will donate $1 to the #BostonMarathon victims #PrayForBoston @_BostonMarathon',\n",
       " 'RT For every retweet we receive we will donate $1 to the #BostonMarathon victims #PrayForBoston @_BostonMarathon',\n",
       " 'RT For every retweet we receive we will donate $1 to the #BostonMarathon victims #PrayForBoston @_BostonMarathon',\n",
       " 'RT For every retweet we receive we will donate $1 to the #BostonMarathon victims #PrayForBoston @_BostonMarathon',\n",
       " 'RT For every retweet we receive we will donate $1 to the #BostonMarathon victims #PrayForBoston @_BostonMarathon',\n",
       " 'RT Obama Regime Cut Spending for Domestic Bombing Prevention by 45% #BostonMarathon #BostonBombings',\n",
       " 'RT For every retweet we receive we will donate $1 to the #BostonMarathon victims #PrayForBoston @_BostonMarathon',\n",
       " 'FBI releases new details on Boston Marathon bombs #news',\n",
       " 'FBI releases new details on Boston Marathon bombs:',\n",
       " 'FBI releases new details on Boston Marathon bombs:',\n",
       " 'FBI releases new details on Boston Marathon bombs:',\n",
       " 'RT Obama Regime Cut Spending for Domestic Bombing Prevention by 45% #BostonMarathon #BostonBombings',\n",
       " '.@mikandynothem: If you are trying to defeat the human spirit, Marathoners are the WRONG GROUP to target! #bostonmarathon #tcot #tgdn',\n",
       " 'RT One of the 3 killed in Boston explosions was a grad student from China. She was studying statistics at Boston U.',\n",
       " 'RT One of the 3 killed in Boston explosions was a grad student from China. She was studying statistics at Boston U.',\n",
       " 'RT One of the 3 killed in Boston explosions was a grad student from China. She was studying statistics at Boston U.',\n",
       " 'RT One of the 3 killed in Boston explosions was a grad student from China. She was studying statistics at Boston U.',\n",
       " 'RT One of the 3 killed in Boston explosions was a grad student from China. She was studying statistics at Boston U.',\n",
       " 'RT One of the 3 killed in Boston explosions was a grad student from China. She was studying statistics at Boston U.',\n",
       " \"Boston marathon bombs 'used pressure cooker packed with metal': Clues emerge from forensic examinatio of bomb... #Playboy\",\n",
       " \"Boston marathon bombs 'used pressure cooker packed with metal': Clues emerge from forensic examination of bomb...\",\n",
       " \"RT Boston marathon bombs 'used pressure cooker packed with metal' Clues emerge from forensic examination of bomb site, #BostonMarathon\",\n",
       " \"RT Boston marathon bombs 'used pressure cooker packed with metal' Clues emerge from forensic examination of bomb site, #BostonMarathon\",\n",
       " \"RT Boston marathon bombs 'used pressure cooker packed with metal' Clues emerge from forensic examination of bomb site, #BostonMarathon\",\n",
       " \"RT Boston marathon bombs 'used pressure cooker packed with metal' Clues emerge from forensic examination of bomb site, #BostonMarathon\",\n",
       " 'FBI releases new details on #Boston Marathon bombs - #news',\n",
       " 'FBI releases new details on Boston Marathon bombs: Within a day of the Oklahoma City bombing, officials had named...',\n",
       " 'FBI releases new details on Boston Marathon bombs: Within a day of the Oklahoma City bombing, officials had named...',\n",
       " 'FBI releases new details on Boston Marathon bombs',\n",
       " 'FBI releases new details on Boston Marathon bombs #Pittsburgh',\n",
       " 'FBI releases new details on Boston Marathon bombs: Within a day of the Oklahoma City bombing, officials had named...',\n",
       " 'FBI releases new details on Boston Marathon bombs: One of the two bombs used in the Boston Marathon attacks us...',\n",
       " 'CNN US: FBI releases new details on Boston Marathon bombs: One of the two bombs used in the Boston Marathon at...',\n",
       " 'FBI releases new details on Boston Marathon bombs: Within a day of the Oklahoma City bombing, officials had na...',\n",
       " 'FBI releases new details on Boston Marathon bombs: Within a day of the Oklahoma City bombing, officials had na...',\n",
       " 'rt @wmur9 FBI releases new details on Boston Marathon bombs: Within a day of the Oklahoma City bombing, offici...',\n",
       " \"RT Investigators have released more information, but don't have suspect in deadly explosions at Boston Marathon.\",\n",
       " \"RT Investigators have released more information, but don't have suspect in deadly explosions at Boston Marathon.\",\n",
       " \"RT Investigators have released more information, but don't have suspect in deadly explosions at Boston Marathon.\",\n",
       " \"RT Investigators have released more information, but don't have suspect in deadly explosions at Boston Marathon.\",\n",
       " 'FBI releases new details on Boston Marathon bombs',\n",
       " \"RT Investigators have released more information, but don't have suspect in deadly explosions at Boston Marathon.\",\n",
       " 'RT Obama Regime Cut Spending for Domestic Bombing Prevention by 45% #BostonMarathon #BostonBombings',\n",
       " 'Boston Explosion News: At Least 3 Dead, 140 Injured In Marathon Bombing (LIVE UPDATES) via @HuffPostCrime',\n",
       " 'RT Obama Regime Cut Spending for Domestic Bombing Prevention by 45% #BostonMarathon #BostonBombings',\n",
       " 'Boston Explosion News: At Least 3 Dead, 140 Injured In Marathon Bombing on 04/15/13 (UPDATES)',\n",
       " 'Boston bombing suspect caught on surveillance video: In what could be a major break in the ... bythere',\n",
       " 'Boston bombing suspect caught on surveillance video: In what could be a major break in the Bos...',\n",
       " 'Boston bombing suspect caught on surveillance video: In what could be a major break in the Boston Marathon cas...',\n",
       " 'Boston bombing suspect caught on surveillance video: In what could be a major break in the Boston Marathon cas...',\n",
       " 'Boston bombing suspect caught on surveillance video - In what could be a major break in the Boston Marathon case, ...',\n",
       " 'RT Boston bombing suspect caught on surveillance video: In what could be a major break in the Boston Marathon cas...',\n",
       " 'RT Boston bombing suspect caught on surveillance video: In what could be a major break in the Boston Marathon cas...',\n",
       " 'RT FBI wants citizens to call 1-800-CALL-FBI if they recognize the suspects #BostonMarathon',\n",
       " 'RT FBI wants citizens to call 1-800-CALL-FBI if they recognize the suspects #BostonMarathon',\n",
       " 'RT FBI wants citizens to call 1-800-CALL-FBI if they recognize the suspects #BostonMarathon',\n",
       " 'RT FBI wants citizens to call 1-800-CALL-FBI if they recognize the suspects #BostonMarathon',\n",
       " 'RT FBI wants citizens to call 1-800-CALL-FBI if they recognize the suspects #BostonMarathon',\n",
       " 'RT Boston Marathon runner who escaped bombing unscathed also witnessed Texas plant explosion',\n",
       " \"RT 'I feel blessed': Boston Marathon runner who escaped bombing unscathed also witnessed Texas plant explosion http://t.co/yBxu0kCj3Q\\xe2\\x80\\x9d // WOW\",\n",
       " \"RT 'I feel blessed': Boston Marathon runner who escaped bombing unscathed also witnessed Texas plant explosion\",\n",
       " \"RT 'I feel blessed': Boston Marathon runner who escaped bombing unscathed also witnessed Texas plant explosion\",\n",
       " 'RT FBI wants citizens to call 1-800-CALL-FBI if they recognize the suspects #BostonMarathon',\n",
       " 'RT \"@NBCNews \\'I feel blessed\\': Boston Marathon runner who escaped bombing unscathed also witnessed Texas plant explosion',\n",
       " 'RT FBI wants citizens to call 1-800-CALL-FBI if they recognize the suspects #BostonMarathon',\n",
       " 'RT My heart is broken for the people of Boston, this is unreal. praying for peace, restoration, and JUSTICE. #BostonMarathon',\n",
       " 'RT FBI wants citizens to call 1-800-CALL-FBI if they recognize the suspects #BostonMarathon',\n",
       " 'Boston Marathon bomber: One suspect dead, second on the run, police say | The Lookout - Yahoo! News via @YahooNews',\n",
       " 'Boston Marathon bomber manhunt: One suspect dead, second on the run, police say | The Lookout - Yahoo! News',\n",
       " 'Boston Marathon bomber manhunt: One suspect dead, second on the run, police say',\n",
       " 'Boston Marathon bomber manhunt: One suspect dead, second on the run, The Lookout - Yahoo! News via @YahooNews',\n",
       " 'Boston Marathon bomber manhunt: One suspect dead, second on the run, police say | The Lookout - Yahoo! News',\n",
       " 'Boston Marathon bomber manhunt: One suspect dead, second on the run, police say | The Lookout - Yahoo! News',\n",
       " 'Boston Marathon bomber manhunt: One suspect dead, second on the run, police say | The Lookout - Yahoo! News via Yahoo',\n",
       " 'Boston Marathon bomber manhunt: One suspect dead, second on the run, police say | The Lookout - via @YahooNews',\n",
       " '#BostonMarathon bomber manhunt: One suspect dead, second on the run, police say via @YahooNews',\n",
       " 'Boston Marathon bomber manhunt: One suspect dead, second on the run, police say | kout - Yahoo! News via @YahooNews',\n",
       " 'Boston Marathon bomber manhunt: One suspect dead, second on the run | The Lookout - Yahoo! News via @YahooNews',\n",
       " 'Boston Marathon bomber manhunt: One suspect dead, second on the run, police say | via @YahooNews',\n",
       " 'Boston Marathon bomber manhunt: One suspect dead, second on the run, police say | via @YahooNews',\n",
       " 'RT #WANTED: Police seeking MA Plate: 316-ES9, \\xe2\\x80\\x9999 Honda CRV, Color - Gray. Possible suspect car. Do not approach.',\n",
       " 'RT #WANTED: Police seeking MA Plate: 316-ES9, \\xe2\\x80\\x9999 Honda CRV, Color - Gray. Possible suspect car. Do not approach.',\n",
       " 'RT #WANTED: Police seeking MA Plate: 316-ES9, \\xe2\\x80\\x9999 Honda CRV, Color - Gray. Possible suspect car. Do not approach.',\n",
       " 'RT #WANTED: Police seeking MA Plate: 316-ES9, \\xe2\\x80\\x9999 Honda CRV, Color - Gray. Possible suspect car. Do not approach.',\n",
       " 'RT #WANTED: Police seeking MA Plate: 316-ES9, \\xe2\\x80\\x9999 Honda CRV, Color - Gray. Possible suspect car. Do not approach.',\n",
       " 'RT #WANTED: Police seeking MA Plate: 316-ES9, \\xe2\\x80\\x9999 Honda CRV, Color - Gray. Possible suspect car. Do not approach.',\n",
       " 'Marathon bomb suspect eludes police, hunt shuts Boston down | Reuters #news',\n",
       " 'Marathon bomb suspect eludes police, hunt shuts Boston down - Reuters',\n",
       " 'Marathon bomb suspect eludes police, hunt shuts Boston down - Reuters: ABC NewsMarathon bomb suspect eludes po...',\n",
       " 'Marathon bomb suspect eludes police, hunt shuts Boston down - Reuters: ABC NewsMarathon bomb suspect eludes po...',\n",
       " 'Marathon bomb suspect eludes police, hunt shuts Boston down - Reuters: ABC NewsMarathon bomb suspect eludes po...',\n",
       " 'Marathon bomb suspect eludes police, hunt shuts Boston down',\n",
       " 'Marathon bomb suspect eludes police, hunt shuts Boston down WATERTOWN, Massachusetts (Reuters) - Black Hawk helicopte',\n",
       " '#WorldNews Marathon bomb suspect eludes police, hunt shuts Boston down #TeamFollowBack',\n",
       " 'RT BREAKING NEWS: Boston Marathon terror bombing suspect has been arrested.',\n",
       " 'RT BREAKING NEWS: Boston Marathon terror bombing suspect has been arrested.',\n",
       " 'RT BREAKING NEWS: Boston Marathon terror bombing suspect has been arrested.',\n",
       " 'RT BREAKING NEWS: Boston Marathon terror bombing suspect has been arrested.',\n",
       " 'RT BREAKING NEWS: Boston Marathon terror bombing suspect has been arrested.',\n",
       " 'RT BREAKING NEWS: Boston Marathon terror bombing suspect has been arrested.',\n",
       " 'RT BREAKING NEWS: Boston Marathon terror bombing suspect has been arrested.',\n",
       " 'RT BREAKING NEWS: Boston Marathon terror bombing suspect has been arrested.',\n",
       " 'RT BREAKING NEWS: Boston Marathon terror bombing suspect has been arrested.',\n",
       " 'RT BREAKING NEWS: Boston Marathon terror bombing suspect has been arrested.',\n",
       " 'RT BREAKING NEWS: Boston Marathon terror bombing suspect has been arrested.',\n",
       " 'RT BREAKING NEWS: Boston Marathon terror bombing suspect has been arrested.',\n",
       " 'RT BREAKING NEWS: Boston Marathon terror bombing suspect has been arrested.',\n",
       " 'RT BREAKING NEWS: Boston Marathon terror bombing suspect has been arrested.',\n",
       " 'RT BREAKING NEWS: Boston Marathon terror bombing suspect has been arrested.',\n",
       " 'RT BREAKING NEWS: Boston Marathon terror bombing suspect has been arrested.',\n",
       " 'RT BREAKING NEWS: Boston Marathon terror bombing suspect has been arrested.',\n",
       " 'RT RT RT BREAKING NEWS: Boston Marathon terror bombing suspect has been arrested.',\n",
       " 'Marathon bomb #suspect eludes police, hunt shuts Boston down - (Reuters) - Black...',\n",
       " 'New Aerial Images Show Boston Bombing Suspect In Boat',\n",
       " 'New Aerial Images Show Boston Bombing Suspect In Boat',\n",
       " 'Good info New Aerial Images Show Boston Bombing Suspect In Boat #business #socialmedia',\n",
       " 'New Aerial Images Show Boston Bombing Suspect In Boat: Massachusetts State Police released five images taken o...',\n",
       " 'New Aerial Images Show Boston Bombing Suspect In Boat #Us #Boston #UsWorld #BostonMarathon',\n",
       " 'New Aerial Images Show Boston Bombing Suspect In Boat via @mashable',\n",
       " 'New Aerial Images Show Boston Bombing Suspect In Boat',\n",
       " '#SocialMedia #Tech New Aerial Images Show Boston Bombing Suspect In Boat',\n",
       " 'New Aerial Images Show Boston Bombing Suspect In Boat',\n",
       " '#entrepreneurship New Aerial Images Show Boston Bombing Suspect In Boat via @mashable',\n",
       " '#entrepreneurship New Aerial Images Show Boston Bombing Suspect In Boat via @mashable',\n",
       " 'New Aerial Images Show Boston Bombing Suspect In Boat: Massachusetts State Police released five images taken o...',\n",
       " 'New Aerial Images Show Boston Bombing Suspect In Boat: Massachusetts State Police released five imag... #business',\n",
       " 'New Aerial Images Show Boston Bombing Suspect In Boat: Massachusetts State Police released five images taken o...',\n",
       " 'New Aerial Images Show Boston Bombing Suspect In Boat: Massachusetts State Police released five images taken o...',\n",
       " 'New Aerial Images Show Boston Bombing Suspect In Boat: Massachusetts State Police released five images taken o...',\n",
       " 'New Aerial Images Show Boston Bombing Suspect In Boat: Massachusetts State Police released five images taken o...',\n",
       " 'New Aerial Images Show Boston Bombing Suspect In Boat: Massachusetts State Police released five images taken o...',\n",
       " 'New Aerial Images Show Boston Bombing Suspect In Boat: Massachusetts State Police released five images taken o...',\n",
       " 'New Aerial Images Show Boston Bombing Suspect In Boat: Massachusetts State Police released five i... #socialmedia',\n",
       " 'New Aerial Images Show Boston Bombing Suspect In Boat',\n",
       " '\"@mashable: New Aerial Images Show Boston Bombing Suspect In Boat http://t.co/yFO1DQhBof\" #Bostonmarathon #Watertown #manhunt #ManhuntBoston',\n",
       " 'New Aerial Images Show Boston Bombing Suspect In Boat',\n",
       " 'RT New Aerial Images Show Boston Bombing Suspect In Boat',\n",
       " 'RT New Aerial Images Show Boston Bombing Suspect In Boat: Massachusetts State Police released five im... #wookala',\n",
       " 'New Aerial Images Show Boston Bombing Suspect In Boat: Massachusetts State Police released five images taken o...',\n",
       " 'Bombing suspect unable to speak - He is sedated, intubated in hospital Feds could seek death penalty He is in seri...',\n",
       " 'Bombing suspect unable to speak: He is sedated, intubated in hospital Feds could seek death penalty He i... #news',\n",
       " 'Bombing suspect unable to speak: He is sedated, intubated in hospital Feds could seek death penalty He is in s...',\n",
       " 'Bombing suspect unable to speak: He is sedated, intubated in hospital Feds could seek death penalty He is in s...',\n",
       " 'Bombing suspect unable to speak: He is sedated, intubated in hospital Feds could seek death penalty He is in s...',\n",
       " 'Bombing suspect unable to speak: He is sedated, intubated in hospital Feds could seek death penalty He is in s...',\n",
       " 'Bombing suspect unable to speak: He is sedated, intubated in hospital Feds could seek death penalty He is in s...',\n",
       " 'Bombing suspect unable to speak: He is sedated, intubated in hospital Feds could seek death penalty He is in s...',\n",
       " 'Bombing suspect unable to speak: He is sedated, intubated in hospital Feds could seek death penalty He is in s...',\n",
       " 'Bombing suspect unable to speak: He is sedated, intubated in hospital Feds could seek death penalty He is in s...',\n",
       " 'RT New Aerial Images Show Boston Bombing Suspect In Boat']"
      ]
     },
     "execution_count": 229,
     "metadata": {},
     "output_type": "execute_result"
    }
   ],
   "source": [
    "for i,each in enumerate(tweets):     \n",
    "    write_tweet = []\n",
    "    #urls present in the tweet.\n",
    "    urls = []\n",
    "    #url for the tweet saved in the corresponding column.\n",
    "    urls = re.findall('http[s]?://(?:[a-zA-Z]|[0-9]|[$-_@.&+]|[!*\\(\\),]|(?:%[0-9a-fA-F][0-9a-fA-F]))+', each)\n",
    "    at_the_rate = re.findall('@\\w+[:,\" \",\")\"]',each)\n",
    "    for word in each.split():\n",
    "        if word not in urls and word not in at_the_rate:\n",
    "            write_tweet.append(word)\n",
    "    write_tweet = ' '.join(write_tweet)\n",
    "    tweets[i] = write_tweet\n",
    "tweets"
   ]
  },
  {
   "cell_type": "code",
   "execution_count": 231,
   "metadata": {
    "collapsed": false,
    "deletable": true,
    "editable": true
   },
   "outputs": [
    {
     "name": "stdout",
     "output_type": "stream",
     "text": [
      "251\n",
      "['rt reports marathon runners crossed finish line continued run mass general hospital give blood victims prayforboston', 'rt reports marathon runners crossed finish line continued run mass general hospital give blood victims prayforboston', 'rt reports marathon runners crossed finish line continued run mass general hospital give blood victims prayforboston', 'rt rt reports marathon runners crossed finish line continued run mass general hospital give blood victims prayforboston', 'rt reports marathon runners crossed finish line continued run mass general hospital give blood victims prayforboston', 'rt reports marathon runners crossed finish line continued run mass general hospital give blood victims prayforboston', 'rt rt reports marathon runners crossed finish line continued run mass general hospital give blood victims', 'rt reports marathon runners crossed finish line continued run mass general hospital give blood victims prayforboston', 'mrjakehumphrey reports marathon runners crossed finish line continued run mass general hospital give blood victims prayforboston', 'rt google google person finder locates missing boston marathon explosion', 'rt boston police confirm another explosion city jfk library following two blasts near marathon site', 'rt reports marathon runners crossed finish line continued run mass general hospital give blood victims prayforboston', 'rt reports boston marathon runners crossing finish line continuing run hospital give blood victims via', 'rt reports marathon runners crossed finish line continued run mass general hospital give blood victims prayforboston', 'rt reports marathon runners crossed finish line continued run mass general hospital give blood victims prayforboston', 'rt wow rt reports marathon runners crossed finish line continued run mass general hospital give blood victims', 'rt google person finder locates missing boston marathon explosion', 'resource google person finder locates missing boston marathon explosion boston', 'rt rt thanks generosity volunteer blood donors currently enough blood shelves meet demand bostonmarathon', 'rt thanks generosity volunteer blood donors currently enough blood shelves meet demand bostonmarathon', 'rt boston police confirm another explosion city jfk library following two blasts near marathon site', 'rt official cellphone service shut boston prevent remote detonations explosives via washingtonpost', 'rt rt cellphone service shut boston prevent remote detonations explosives official says cc', 'rt rt cellphone service shut boston prevent remote detonations explosives official says cc', 'rt rt cellphone service shut boston prevent remote detonations explosives official says cc', 'rt rt reports marathon runners crossed finish line continued run mass general hospital give blood victims', 'reports boston marathon runners crossing finish line continuing run hospital give blood victims heartbreaking', 'rt boston police confirm another explosion city jfk library following two blasts near marathon site', 'rt marathon runners crossed finish line continued run hospital give blood victims prayforboston respect', 'rt reports boston marathon runners crossing finish line continuing run hospital give blood victims via', 'rt marathon runners crossed finish line continued run mass general hospital give blood victims heroes prayforboston', 'rt marathon runners crossed finish line continued run mass general hospital give blood victims heroes prayforboston', 'rt rt breaking faa issued temporary flight restriction area explosion effective immediately', 'rt boston police confirm another explosion city jfk library following two blasts near marathon site', 'rt boston police confirm another explosion city jfk library following two blasts near marathon site', 'rt google person finder locates missing boston marathon explosion', 'rt thanks generosity volunteer blood donors currently enough blood shelves meet demand bostonmarathon', 'rt google person finder locates missing boston marathon explosion', 'rt google person finder locates missing boston marathon explosion', 'google person finder locates missing boston marathon explosion', 'rt thanks generosity volunteer blood donors currently enough blood shelves meet demand bostonmarathon', 'rt google person finder boston marathon explosions', 'rt thanks generosity volunteer blood donors currently enough blood shelves meet demand bostonmarathon', 'rt google person finder locates missing boston marathon explosion', 'rt google person finder locates missing boston marathon explosion boston', 'google person finder locates missing boston marathon explosion', 'rt google person finder locates missing boston marathon explosion', 'rt thanks generosity volunteer blood donors currently enough blood shelves meet demand bostonmarathon', 'rt google person finder locates missing boston marathon explosion via sbedrick', 'rt rt thanks generosity volunteer blood donors currently enough blood shelves meet demand bostonmarathon', 'rt google person finder locates missing boston marathon explosion', 'rt thanks generosity volunteer blood donors currently enough blood shelves meet demand bostonmarathon', 'rt google person finder boston marathon explosion', 'google person finder locates missing boston marathon explosion', 'google person finder locates missing boston marathon explosion via mashable', 'rt thanks generosity volunteer blood donors currently enough blood shelves meet demand bostonmarathon', 'rt google person finder boston marathon explosion', 'rt google person finder boston marathon explosion', 'rt google person finder boston marathon explosion', 'google person finder locates missing boston marathon explosion via mashable', 'rt google person finder boston marathon explosion', 'google person finder locates missing boston marathon explosion', 'rt google person finder boston marathon explosion', 'rt google person finder locates missing boston marathon explosion', 'google person finder locates missing boston marathon explosion tech innovation google design help', 'google person finder locates missing boston marathon explosion', 'rt boston police confirm another explosion city jfk library following two blasts near marathon site', 'rt boston police confirm another explosion city jfk library following two blasts near marathon site', 'boston explosion news least 3 dead 140 injured marathon bombing live updates via', 'rt heart broken people boston unreal praying peace restoration justice bostonmarathon', 'rt heart broken people boston unreal praying peace restoration justice bostonmarathon', 'boston explosion news least 3 dead 140 injured marathon bombing live updates via', 'boston bombing suspect saudi national custody charged arrest following dual explosion', 'boston bombing suspect saudi national custody charged arrest following dual explosion', 'least 3 dead 140 injured boston marathon bombing via huffpostcrime', 'rt boston explosion news least 3 dead 140 injured marathon bombing live updates', 'boston explosion news least 3 dead 140 injured marathon bombing live updates via huffpostcrime', 'boston explosion news least 3 dead 140 injured marathon bombing live updates via huffpostcrime', 'rt huffpostworld boston explosion news least 3 dead 140 injured marathon bombing live updates via http co g9dwqstmgh', 'boston explosion news least 3 dead 140 injured marathon bombing live updates via huffpostcrime', 'live updates bostonmarathon least 3 dead 140 injured marathon bombing via huffpostcrime', 'rt heart broken people boston unreal praying peace restoration justice bostonmarathon', 'trying defeat human spirit marathoners wrong group target amen bostonmarathon', 'rt boston police confirm another explosion city jfk library following two blasts near marathon site', 'rt boston police confirm another explosion city jfk library following two blasts near marathon site', 'boston explosion news least 3 dead 140 injured marathon bombing live updates via huffpostcrime', 'rt breaking faa issued temporary flight restriction area explosion effective immediately', 'boston bombing used pressure cooker packed metal clues emerge forensic examination bomb tg us', 'boston bombing used pressure cooker packed metal clues emerge forensic examination bomb site', 'boston bombing used pressure cooker packed metal clues emerge forensic examination bomb site', 'every retweet receive donate 1 bostonmarathon victims prayforboston _bostonmarathon', 'rt every retweet receive donate 1 bostonmarathon victims prayforboston _bostonmarathon', 'trying defeat human spirit marathoners wrong group target bostonmarathon', 'trying defeat human spirit marathoneers wrong group target bostonmarathon', 'rt every retweet receive donate 1 bostonmarathon victims prayforboston _bostonmarathon', 'rt obama regime cut spending domestic bombing prevention 45 bostonmarathon bostonbombings', 'rt every retweet receive donate 1 bostonmarathon victims prayforboston _bostonmarathon', 'rt every retweet receive donate 1 bostonmarathon victims prayforboston _bostonmarathon', 'rt trying defeat human spirit marathoners wrong group target bostonmarathon tcot tgdn', 'rt every retweet receive donate 1 bostonmarathon victims prayforboston _bostonmarathon', 'rt trying defeat human spirit marathoners wrong group target bostonmarathon tcot tgdn', 'rt every retweet receive donate 1 bostonmarathon victims prayforboston _bostonmarathon', 'rt every retweet receive donate 1 bostonmarathon victims prayforboston _bostonmarathon', 'rt every retweet receive donate 1 bostonmarathon victims prayforboston _bostonmarathon', 'rt every retweet receive donate 1 bostonmarathon victims prayforboston _bostonmarathon', 'rt every retweet receive donate 1 bostonmarathon victims prayforboston _bostonmarathon', 'rt obama regime cut spending domestic bombing prevention 45 bostonmarathon bostonbombings', 'rt every retweet receive donate 1 bostonmarathon victims prayforboston _bostonmarathon', 'fbi releases new details boston marathon bombs news', 'fbi releases new details boston marathon bombs', 'fbi releases new details boston marathon bombs', 'fbi releases new details boston marathon bombs', 'rt obama regime cut spending domestic bombing prevention 45 bostonmarathon bostonbombings', 'mikandynothem trying defeat human spirit marathoners wrong group target bostonmarathon tcot tgdn', 'rt one 3 killed boston explosions grad student china studying statistics boston u', 'rt one 3 killed boston explosions grad student china studying statistics boston u', 'rt one 3 killed boston explosions grad student china studying statistics boston u', 'rt one 3 killed boston explosions grad student china studying statistics boston u', 'rt one 3 killed boston explosions grad student china studying statistics boston u', 'rt one 3 killed boston explosions grad student china studying statistics boston u', 'boston marathon bombs used pressure cooker packed metal clues emerge forensic examinatio bomb playboy', 'boston marathon bombs used pressure cooker packed metal clues emerge forensic examination bomb', 'rt boston marathon bombs used pressure cooker packed metal clues emerge forensic examination bomb site bostonmarathon', 'rt boston marathon bombs used pressure cooker packed metal clues emerge forensic examination bomb site bostonmarathon', 'rt boston marathon bombs used pressure cooker packed metal clues emerge forensic examination bomb site bostonmarathon', 'rt boston marathon bombs used pressure cooker packed metal clues emerge forensic examination bomb site bostonmarathon', 'fbi releases new details boston marathon bombs news', 'fbi releases new details boston marathon bombs within day oklahoma city bombing officials named', 'fbi releases new details boston marathon bombs within day oklahoma city bombing officials named', 'fbi releases new details boston marathon bombs', 'fbi releases new details boston marathon bombs pittsburgh', 'fbi releases new details boston marathon bombs within day oklahoma city bombing officials named', 'fbi releases new details boston marathon bombs one two bombs used boston marathon attacks us', 'cnn us fbi releases new details boston marathon bombs one two bombs used boston marathon', 'fbi releases new details boston marathon bombs within day oklahoma city bombing officials na', 'fbi releases new details boston marathon bombs within day oklahoma city bombing officials na', 'rt wmur9 fbi releases new details boston marathon bombs within day oklahoma city bombing offici', 'rt investigators released information suspect deadly explosions boston marathon', 'rt investigators released information suspect deadly explosions boston marathon', 'rt investigators released information suspect deadly explosions boston marathon', 'rt investigators released information suspect deadly explosions boston marathon', 'fbi releases new details boston marathon bombs', 'rt investigators released information suspect deadly explosions boston marathon', 'rt obama regime cut spending domestic bombing prevention 45 bostonmarathon bostonbombings', 'boston explosion news least 3 dead 140 injured marathon bombing live updates via huffpostcrime', 'rt obama regime cut spending domestic bombing prevention 45 bostonmarathon bostonbombings', 'boston explosion news least 3 dead 140 injured marathon bombing 04 15 13 updates', 'boston bombing suspect caught surveillance video could major break bythere', 'boston bombing suspect caught surveillance video could major break bos', 'boston bombing suspect caught surveillance video could major break boston marathon cas', 'boston bombing suspect caught surveillance video could major break boston marathon cas', 'boston bombing suspect caught surveillance video could major break boston marathon case', 'rt boston bombing suspect caught surveillance video could major break boston marathon cas', 'rt boston bombing suspect caught surveillance video could major break boston marathon cas', 'rt fbi wants citizens call 1 800 call fbi recognize suspects bostonmarathon', 'rt fbi wants citizens call 1 800 call fbi recognize suspects bostonmarathon', 'rt fbi wants citizens call 1 800 call fbi recognize suspects bostonmarathon', 'rt fbi wants citizens call 1 800 call fbi recognize suspects bostonmarathon', 'rt fbi wants citizens call 1 800 call fbi recognize suspects bostonmarathon', 'rt boston marathon runner escaped bombing unscathed also witnessed texas plant explosion', 'rt feel blessed boston marathon runner escaped bombing unscathed also witnessed texas plant explosion http co ybxu0kcj3q wow', 'rt feel blessed boston marathon runner escaped bombing unscathed also witnessed texas plant explosion', 'rt feel blessed boston marathon runner escaped bombing unscathed also witnessed texas plant explosion', 'rt fbi wants citizens call 1 800 call fbi recognize suspects bostonmarathon', 'rt nbcnews feel blessed boston marathon runner escaped bombing unscathed also witnessed texas plant explosion', 'rt fbi wants citizens call 1 800 call fbi recognize suspects bostonmarathon', 'rt heart broken people boston unreal praying peace restoration justice bostonmarathon', 'rt fbi wants citizens call 1 800 call fbi recognize suspects bostonmarathon', 'boston marathon bomber one suspect dead second run police say lookout yahoo news via yahoonews', 'boston marathon bomber manhunt one suspect dead second run police say lookout yahoo news', 'boston marathon bomber manhunt one suspect dead second run police say', 'boston marathon bomber manhunt one suspect dead second run lookout yahoo news via yahoonews', 'boston marathon bomber manhunt one suspect dead second run police say lookout yahoo news', 'boston marathon bomber manhunt one suspect dead second run police say lookout yahoo news', 'boston marathon bomber manhunt one suspect dead second run police say lookout yahoo news via yahoo', 'boston marathon bomber manhunt one suspect dead second run police say lookout via yahoonews', 'bostonmarathon bomber manhunt one suspect dead second run police say via yahoonews', 'boston marathon bomber manhunt one suspect dead second run police say kout yahoo news via yahoonews', 'boston marathon bomber manhunt one suspect dead second run lookout yahoo news via yahoonews', 'boston marathon bomber manhunt one suspect dead second run police say via yahoonews', 'boston marathon bomber manhunt one suspect dead second run police say via yahoonews', 'rt wanted police seeking plate 316 es9 99 honda crv color gray possible suspect car approach', 'rt wanted police seeking plate 316 es9 99 honda crv color gray possible suspect car approach', 'rt wanted police seeking plate 316 es9 99 honda crv color gray possible suspect car approach', 'rt wanted police seeking plate 316 es9 99 honda crv color gray possible suspect car approach', 'rt wanted police seeking plate 316 es9 99 honda crv color gray possible suspect car approach', 'rt wanted police seeking plate 316 es9 99 honda crv color gray possible suspect car approach', 'marathon bomb suspect eludes police hunt shuts boston reuters news', 'marathon bomb suspect eludes police hunt shuts boston reuters', 'marathon bomb suspect eludes police hunt shuts boston reuters abc newsmarathon bomb suspect eludes po', 'marathon bomb suspect eludes police hunt shuts boston reuters abc newsmarathon bomb suspect eludes po', 'marathon bomb suspect eludes police hunt shuts boston reuters abc newsmarathon bomb suspect eludes po', 'marathon bomb suspect eludes police hunt shuts boston', 'marathon bomb suspect eludes police hunt shuts boston watertown massachusetts reuters black hawk helicopte', 'worldnews marathon bomb suspect eludes police hunt shuts boston teamfollowback', 'rt breaking news boston marathon terror bombing suspect arrested', 'rt breaking news boston marathon terror bombing suspect arrested', 'rt breaking news boston marathon terror bombing suspect arrested', 'rt breaking news boston marathon terror bombing suspect arrested', 'rt breaking news boston marathon terror bombing suspect arrested', 'rt breaking news boston marathon terror bombing suspect arrested', 'rt breaking news boston marathon terror bombing suspect arrested', 'rt breaking news boston marathon terror bombing suspect arrested', 'rt breaking news boston marathon terror bombing suspect arrested', 'rt breaking news boston marathon terror bombing suspect arrested', 'rt breaking news boston marathon terror bombing suspect arrested', 'rt breaking news boston marathon terror bombing suspect arrested', 'rt breaking news boston marathon terror bombing suspect arrested', 'rt breaking news boston marathon terror bombing suspect arrested', 'rt breaking news boston marathon terror bombing suspect arrested', 'rt breaking news boston marathon terror bombing suspect arrested', 'rt breaking news boston marathon terror bombing suspect arrested', 'rt rt rt breaking news boston marathon terror bombing suspect arrested', 'marathon bomb suspect eludes police hunt shuts boston reuters black', 'new aerial images show boston bombing suspect boat', 'new aerial images show boston bombing suspect boat', 'good info new aerial images show boston bombing suspect boat business socialmedia', 'new aerial images show boston bombing suspect boat massachusetts state police released five images taken', 'new aerial images show boston bombing suspect boat us boston usworld bostonmarathon', 'new aerial images show boston bombing suspect boat via mashable', 'new aerial images show boston bombing suspect boat', 'socialmedia tech new aerial images show boston bombing suspect boat', 'new aerial images show boston bombing suspect boat', 'entrepreneurship new aerial images show boston bombing suspect boat via mashable', 'entrepreneurship new aerial images show boston bombing suspect boat via mashable', 'new aerial images show boston bombing suspect boat massachusetts state police released five images taken', 'new aerial images show boston bombing suspect boat massachusetts state police released five imag business', 'new aerial images show boston bombing suspect boat massachusetts state police released five images taken', 'new aerial images show boston bombing suspect boat massachusetts state police released five images taken', 'new aerial images show boston bombing suspect boat massachusetts state police released five images taken', 'new aerial images show boston bombing suspect boat massachusetts state police released five images taken', 'new aerial images show boston bombing suspect boat massachusetts state police released five images taken', 'new aerial images show boston bombing suspect boat massachusetts state police released five images taken', 'new aerial images show boston bombing suspect boat massachusetts state police released five socialmedia', 'new aerial images show boston bombing suspect boat', 'mashable new aerial images show boston bombing suspect boat http co yfo1dqhbof bostonmarathon watertown manhunt manhuntboston', 'new aerial images show boston bombing suspect boat', 'rt new aerial images show boston bombing suspect boat', 'rt new aerial images show boston bombing suspect boat massachusetts state police released five im wookala', 'new aerial images show boston bombing suspect boat massachusetts state police released five images taken', 'bombing suspect unable speak sedated intubated hospital feds could seek death penalty seri', 'bombing suspect unable speak sedated intubated hospital feds could seek death penalty news', 'bombing suspect unable speak sedated intubated hospital feds could seek death penalty', 'bombing suspect unable speak sedated intubated hospital feds could seek death penalty', 'bombing suspect unable speak sedated intubated hospital feds could seek death penalty', 'bombing suspect unable speak sedated intubated hospital feds could seek death penalty', 'bombing suspect unable speak sedated intubated hospital feds could seek death penalty', 'bombing suspect unable speak sedated intubated hospital feds could seek death penalty', 'bombing suspect unable speak sedated intubated hospital feds could seek death penalty', 'bombing suspect unable speak sedated intubated hospital feds could seek death penalty', 'rt new aerial images show boston bombing suspect boat']\n"
     ]
    }
   ],
   "source": [
    "for i,tweet in enumerate(tweets):\n",
    "    write_tweet = []\n",
    "    words = re.findall(r'\\w+',tweet)\n",
    "    #print words,\n",
    "    for each in words:\n",
    "        each = each.lower()\n",
    "        if each not in stopwords:\n",
    "            write_tweet.append(each)\n",
    "    write_tweet = ' '.join(write_tweet)\n",
    "    tweets[i] = write_tweet\n",
    "\n",
    "print(len(tweets))\n",
    "print(tweets)\n"
   ]
  },
  {
   "cell_type": "code",
   "execution_count": 232,
   "metadata": {
    "collapsed": false,
    "deletable": true,
    "editable": true
   },
   "outputs": [],
   "source": [
    "#Adding new stopwords after analyzing the 100 most frequently used words/punctuations used in the dataset.\n",
    "for each in ['rt','lolz',\"i've\",'the','to','a','of','in','on','is','and','i','-','it']:\n",
    "    stopwords.add(each) "
   ]
  },
  {
   "cell_type": "code",
   "execution_count": 234,
   "metadata": {
    "collapsed": false,
    "deletable": true,
    "editable": true
   },
   "outputs": [
    {
     "name": "stdout",
     "output_type": "stream",
     "text": [
      "251\n",
      "['reports marathon runners crossed finish line continued run mass general hospital give blood victims prayforboston', 'reports marathon runners crossed finish line continued run mass general hospital give blood victims prayforboston', 'reports marathon runners crossed finish line continued run mass general hospital give blood victims prayforboston', 'reports marathon runners crossed finish line continued run mass general hospital give blood victims prayforboston', 'reports marathon runners crossed finish line continued run mass general hospital give blood victims prayforboston', 'reports marathon runners crossed finish line continued run mass general hospital give blood victims prayforboston', 'reports marathon runners crossed finish line continued run mass general hospital give blood victims', 'reports marathon runners crossed finish line continued run mass general hospital give blood victims prayforboston', 'mrjakehumphrey reports marathon runners crossed finish line continued run mass general hospital give blood victims prayforboston', 'google google person finder locates missing boston marathon explosion', 'boston police confirm another explosion city jfk library following two blasts near marathon site', 'reports marathon runners crossed finish line continued run mass general hospital give blood victims prayforboston', 'reports boston marathon runners crossing finish line continuing run hospital give blood victims via', 'reports marathon runners crossed finish line continued run mass general hospital give blood victims prayforboston', 'reports marathon runners crossed finish line continued run mass general hospital give blood victims prayforboston', 'wow reports marathon runners crossed finish line continued run mass general hospital give blood victims', 'google person finder locates missing boston marathon explosion', 'resource google person finder locates missing boston marathon explosion boston', 'thanks generosity volunteer blood donors currently enough blood shelves meet demand bostonmarathon', 'thanks generosity volunteer blood donors currently enough blood shelves meet demand bostonmarathon', 'boston police confirm another explosion city jfk library following two blasts near marathon site', 'official cellphone service shut boston prevent remote detonations explosives via washingtonpost', 'cellphone service shut boston prevent remote detonations explosives official says cc', 'cellphone service shut boston prevent remote detonations explosives official says cc', 'cellphone service shut boston prevent remote detonations explosives official says cc', 'reports marathon runners crossed finish line continued run mass general hospital give blood victims', 'reports boston marathon runners crossing finish line continuing run hospital give blood victims heartbreaking', 'boston police confirm another explosion city jfk library following two blasts near marathon site', 'marathon runners crossed finish line continued run hospital give blood victims prayforboston respect', 'reports boston marathon runners crossing finish line continuing run hospital give blood victims via', 'marathon runners crossed finish line continued run mass general hospital give blood victims heroes prayforboston', 'marathon runners crossed finish line continued run mass general hospital give blood victims heroes prayforboston', 'breaking faa issued temporary flight restriction area explosion effective immediately', 'boston police confirm another explosion city jfk library following two blasts near marathon site', 'boston police confirm another explosion city jfk library following two blasts near marathon site', 'google person finder locates missing boston marathon explosion', 'thanks generosity volunteer blood donors currently enough blood shelves meet demand bostonmarathon', 'google person finder locates missing boston marathon explosion', 'google person finder locates missing boston marathon explosion', 'google person finder locates missing boston marathon explosion', 'thanks generosity volunteer blood donors currently enough blood shelves meet demand bostonmarathon', 'google person finder boston marathon explosions', 'thanks generosity volunteer blood donors currently enough blood shelves meet demand bostonmarathon', 'google person finder locates missing boston marathon explosion', 'google person finder locates missing boston marathon explosion boston', 'google person finder locates missing boston marathon explosion', 'google person finder locates missing boston marathon explosion', 'thanks generosity volunteer blood donors currently enough blood shelves meet demand bostonmarathon', 'google person finder locates missing boston marathon explosion via sbedrick', 'thanks generosity volunteer blood donors currently enough blood shelves meet demand bostonmarathon', 'google person finder locates missing boston marathon explosion', 'thanks generosity volunteer blood donors currently enough blood shelves meet demand bostonmarathon', 'google person finder boston marathon explosion', 'google person finder locates missing boston marathon explosion', 'google person finder locates missing boston marathon explosion via mashable', 'thanks generosity volunteer blood donors currently enough blood shelves meet demand bostonmarathon', 'google person finder boston marathon explosion', 'google person finder boston marathon explosion', 'google person finder boston marathon explosion', 'google person finder locates missing boston marathon explosion via mashable', 'google person finder boston marathon explosion', 'google person finder locates missing boston marathon explosion', 'google person finder boston marathon explosion', 'google person finder locates missing boston marathon explosion', 'google person finder locates missing boston marathon explosion tech innovation google design help', 'google person finder locates missing boston marathon explosion', 'boston police confirm another explosion city jfk library following two blasts near marathon site', 'boston police confirm another explosion city jfk library following two blasts near marathon site', 'boston explosion news least 3 dead 140 injured marathon bombing live updates via', 'heart broken people boston unreal praying peace restoration justice bostonmarathon', 'heart broken people boston unreal praying peace restoration justice bostonmarathon', 'boston explosion news least 3 dead 140 injured marathon bombing live updates via', 'boston bombing suspect saudi national custody charged arrest following dual explosion', 'boston bombing suspect saudi national custody charged arrest following dual explosion', 'least 3 dead 140 injured boston marathon bombing via huffpostcrime', 'boston explosion news least 3 dead 140 injured marathon bombing live updates', 'boston explosion news least 3 dead 140 injured marathon bombing live updates via huffpostcrime', 'boston explosion news least 3 dead 140 injured marathon bombing live updates via huffpostcrime', 'huffpostworld boston explosion news least 3 dead 140 injured marathon bombing live updates via http co g9dwqstmgh', 'boston explosion news least 3 dead 140 injured marathon bombing live updates via huffpostcrime', 'live updates bostonmarathon least 3 dead 140 injured marathon bombing via huffpostcrime', 'heart broken people boston unreal praying peace restoration justice bostonmarathon', 'trying defeat human spirit marathoners wrong group target amen bostonmarathon', 'boston police confirm another explosion city jfk library following two blasts near marathon site', 'boston police confirm another explosion city jfk library following two blasts near marathon site', 'boston explosion news least 3 dead 140 injured marathon bombing live updates via huffpostcrime', 'breaking faa issued temporary flight restriction area explosion effective immediately', 'boston bombing used pressure cooker packed metal clues emerge forensic examination bomb tg us', 'boston bombing used pressure cooker packed metal clues emerge forensic examination bomb site', 'boston bombing used pressure cooker packed metal clues emerge forensic examination bomb site', 'every retweet receive donate 1 bostonmarathon victims prayforboston _bostonmarathon', 'every retweet receive donate 1 bostonmarathon victims prayforboston _bostonmarathon', 'trying defeat human spirit marathoners wrong group target bostonmarathon', 'trying defeat human spirit marathoneers wrong group target bostonmarathon', 'every retweet receive donate 1 bostonmarathon victims prayforboston _bostonmarathon', 'obama regime cut spending domestic bombing prevention 45 bostonmarathon bostonbombings', 'every retweet receive donate 1 bostonmarathon victims prayforboston _bostonmarathon', 'every retweet receive donate 1 bostonmarathon victims prayforboston _bostonmarathon', 'trying defeat human spirit marathoners wrong group target bostonmarathon tcot tgdn', 'every retweet receive donate 1 bostonmarathon victims prayforboston _bostonmarathon', 'trying defeat human spirit marathoners wrong group target bostonmarathon tcot tgdn', 'every retweet receive donate 1 bostonmarathon victims prayforboston _bostonmarathon', 'every retweet receive donate 1 bostonmarathon victims prayforboston _bostonmarathon', 'every retweet receive donate 1 bostonmarathon victims prayforboston _bostonmarathon', 'every retweet receive donate 1 bostonmarathon victims prayforboston _bostonmarathon', 'every retweet receive donate 1 bostonmarathon victims prayforboston _bostonmarathon', 'obama regime cut spending domestic bombing prevention 45 bostonmarathon bostonbombings', 'every retweet receive donate 1 bostonmarathon victims prayforboston _bostonmarathon', 'fbi releases new details boston marathon bombs news', 'fbi releases new details boston marathon bombs', 'fbi releases new details boston marathon bombs', 'fbi releases new details boston marathon bombs', 'obama regime cut spending domestic bombing prevention 45 bostonmarathon bostonbombings', 'mikandynothem trying defeat human spirit marathoners wrong group target bostonmarathon tcot tgdn', 'one 3 killed boston explosions grad student china studying statistics boston u', 'one 3 killed boston explosions grad student china studying statistics boston u', 'one 3 killed boston explosions grad student china studying statistics boston u', 'one 3 killed boston explosions grad student china studying statistics boston u', 'one 3 killed boston explosions grad student china studying statistics boston u', 'one 3 killed boston explosions grad student china studying statistics boston u', 'boston marathon bombs used pressure cooker packed metal clues emerge forensic examinatio bomb playboy', 'boston marathon bombs used pressure cooker packed metal clues emerge forensic examination bomb', 'boston marathon bombs used pressure cooker packed metal clues emerge forensic examination bomb site bostonmarathon', 'boston marathon bombs used pressure cooker packed metal clues emerge forensic examination bomb site bostonmarathon', 'boston marathon bombs used pressure cooker packed metal clues emerge forensic examination bomb site bostonmarathon', 'boston marathon bombs used pressure cooker packed metal clues emerge forensic examination bomb site bostonmarathon', 'fbi releases new details boston marathon bombs news', 'fbi releases new details boston marathon bombs within day oklahoma city bombing officials named', 'fbi releases new details boston marathon bombs within day oklahoma city bombing officials named', 'fbi releases new details boston marathon bombs', 'fbi releases new details boston marathon bombs pittsburgh', 'fbi releases new details boston marathon bombs within day oklahoma city bombing officials named', 'fbi releases new details boston marathon bombs one two bombs used boston marathon attacks us', 'cnn us fbi releases new details boston marathon bombs one two bombs used boston marathon', 'fbi releases new details boston marathon bombs within day oklahoma city bombing officials na', 'fbi releases new details boston marathon bombs within day oklahoma city bombing officials na', 'wmur9 fbi releases new details boston marathon bombs within day oklahoma city bombing offici', 'investigators released information suspect deadly explosions boston marathon', 'investigators released information suspect deadly explosions boston marathon', 'investigators released information suspect deadly explosions boston marathon', 'investigators released information suspect deadly explosions boston marathon', 'fbi releases new details boston marathon bombs', 'investigators released information suspect deadly explosions boston marathon', 'obama regime cut spending domestic bombing prevention 45 bostonmarathon bostonbombings', 'boston explosion news least 3 dead 140 injured marathon bombing live updates via huffpostcrime', 'obama regime cut spending domestic bombing prevention 45 bostonmarathon bostonbombings', 'boston explosion news least 3 dead 140 injured marathon bombing 04 15 13 updates', 'boston bombing suspect caught surveillance video could major break bythere', 'boston bombing suspect caught surveillance video could major break bos', 'boston bombing suspect caught surveillance video could major break boston marathon cas', 'boston bombing suspect caught surveillance video could major break boston marathon cas', 'boston bombing suspect caught surveillance video could major break boston marathon case', 'boston bombing suspect caught surveillance video could major break boston marathon cas', 'boston bombing suspect caught surveillance video could major break boston marathon cas', 'fbi wants citizens call 1 800 call fbi recognize suspects bostonmarathon', 'fbi wants citizens call 1 800 call fbi recognize suspects bostonmarathon', 'fbi wants citizens call 1 800 call fbi recognize suspects bostonmarathon', 'fbi wants citizens call 1 800 call fbi recognize suspects bostonmarathon', 'fbi wants citizens call 1 800 call fbi recognize suspects bostonmarathon', 'boston marathon runner escaped bombing unscathed also witnessed texas plant explosion', 'feel blessed boston marathon runner escaped bombing unscathed also witnessed texas plant explosion http co ybxu0kcj3q wow', 'feel blessed boston marathon runner escaped bombing unscathed also witnessed texas plant explosion', 'feel blessed boston marathon runner escaped bombing unscathed also witnessed texas plant explosion', 'fbi wants citizens call 1 800 call fbi recognize suspects bostonmarathon', 'nbcnews feel blessed boston marathon runner escaped bombing unscathed also witnessed texas plant explosion', 'fbi wants citizens call 1 800 call fbi recognize suspects bostonmarathon', 'heart broken people boston unreal praying peace restoration justice bostonmarathon', 'fbi wants citizens call 1 800 call fbi recognize suspects bostonmarathon', 'boston marathon bomber one suspect dead second run police say lookout yahoo news via yahoonews', 'boston marathon bomber manhunt one suspect dead second run police say lookout yahoo news', 'boston marathon bomber manhunt one suspect dead second run police say', 'boston marathon bomber manhunt one suspect dead second run lookout yahoo news via yahoonews', 'boston marathon bomber manhunt one suspect dead second run police say lookout yahoo news', 'boston marathon bomber manhunt one suspect dead second run police say lookout yahoo news', 'boston marathon bomber manhunt one suspect dead second run police say lookout yahoo news via yahoo', 'boston marathon bomber manhunt one suspect dead second run police say lookout via yahoonews', 'bostonmarathon bomber manhunt one suspect dead second run police say via yahoonews', 'boston marathon bomber manhunt one suspect dead second run police say kout yahoo news via yahoonews', 'boston marathon bomber manhunt one suspect dead second run lookout yahoo news via yahoonews', 'boston marathon bomber manhunt one suspect dead second run police say via yahoonews', 'boston marathon bomber manhunt one suspect dead second run police say via yahoonews', 'wanted police seeking plate 316 es9 99 honda crv color gray possible suspect car approach', 'wanted police seeking plate 316 es9 99 honda crv color gray possible suspect car approach', 'wanted police seeking plate 316 es9 99 honda crv color gray possible suspect car approach', 'wanted police seeking plate 316 es9 99 honda crv color gray possible suspect car approach', 'wanted police seeking plate 316 es9 99 honda crv color gray possible suspect car approach', 'wanted police seeking plate 316 es9 99 honda crv color gray possible suspect car approach', 'marathon bomb suspect eludes police hunt shuts boston reuters news', 'marathon bomb suspect eludes police hunt shuts boston reuters', 'marathon bomb suspect eludes police hunt shuts boston reuters abc newsmarathon bomb suspect eludes po', 'marathon bomb suspect eludes police hunt shuts boston reuters abc newsmarathon bomb suspect eludes po', 'marathon bomb suspect eludes police hunt shuts boston reuters abc newsmarathon bomb suspect eludes po', 'marathon bomb suspect eludes police hunt shuts boston', 'marathon bomb suspect eludes police hunt shuts boston watertown massachusetts reuters black hawk helicopte', 'worldnews marathon bomb suspect eludes police hunt shuts boston teamfollowback', 'breaking news boston marathon terror bombing suspect arrested', 'breaking news boston marathon terror bombing suspect arrested', 'breaking news boston marathon terror bombing suspect arrested', 'breaking news boston marathon terror bombing suspect arrested', 'breaking news boston marathon terror bombing suspect arrested', 'breaking news boston marathon terror bombing suspect arrested', 'breaking news boston marathon terror bombing suspect arrested', 'breaking news boston marathon terror bombing suspect arrested', 'breaking news boston marathon terror bombing suspect arrested', 'breaking news boston marathon terror bombing suspect arrested', 'breaking news boston marathon terror bombing suspect arrested', 'breaking news boston marathon terror bombing suspect arrested', 'breaking news boston marathon terror bombing suspect arrested', 'breaking news boston marathon terror bombing suspect arrested', 'breaking news boston marathon terror bombing suspect arrested', 'breaking news boston marathon terror bombing suspect arrested', 'breaking news boston marathon terror bombing suspect arrested', 'breaking news boston marathon terror bombing suspect arrested', 'marathon bomb suspect eludes police hunt shuts boston reuters black', 'new aerial images show boston bombing suspect boat', 'new aerial images show boston bombing suspect boat', 'good info new aerial images show boston bombing suspect boat business socialmedia', 'new aerial images show boston bombing suspect boat massachusetts state police released five images taken', 'new aerial images show boston bombing suspect boat us boston usworld bostonmarathon', 'new aerial images show boston bombing suspect boat via mashable', 'new aerial images show boston bombing suspect boat', 'socialmedia tech new aerial images show boston bombing suspect boat', 'new aerial images show boston bombing suspect boat', 'entrepreneurship new aerial images show boston bombing suspect boat via mashable', 'entrepreneurship new aerial images show boston bombing suspect boat via mashable', 'new aerial images show boston bombing suspect boat massachusetts state police released five images taken', 'new aerial images show boston bombing suspect boat massachusetts state police released five imag business', 'new aerial images show boston bombing suspect boat massachusetts state police released five images taken', 'new aerial images show boston bombing suspect boat massachusetts state police released five images taken', 'new aerial images show boston bombing suspect boat massachusetts state police released five images taken', 'new aerial images show boston bombing suspect boat massachusetts state police released five images taken', 'new aerial images show boston bombing suspect boat massachusetts state police released five images taken', 'new aerial images show boston bombing suspect boat massachusetts state police released five images taken', 'new aerial images show boston bombing suspect boat massachusetts state police released five socialmedia', 'new aerial images show boston bombing suspect boat', 'mashable new aerial images show boston bombing suspect boat http co yfo1dqhbof bostonmarathon watertown manhunt manhuntboston', 'new aerial images show boston bombing suspect boat', 'new aerial images show boston bombing suspect boat', 'new aerial images show boston bombing suspect boat massachusetts state police released five im wookala', 'new aerial images show boston bombing suspect boat massachusetts state police released five images taken', 'bombing suspect unable speak sedated intubated hospital feds could seek death penalty seri', 'bombing suspect unable speak sedated intubated hospital feds could seek death penalty news', 'bombing suspect unable speak sedated intubated hospital feds could seek death penalty', 'bombing suspect unable speak sedated intubated hospital feds could seek death penalty', 'bombing suspect unable speak sedated intubated hospital feds could seek death penalty', 'bombing suspect unable speak sedated intubated hospital feds could seek death penalty', 'bombing suspect unable speak sedated intubated hospital feds could seek death penalty', 'bombing suspect unable speak sedated intubated hospital feds could seek death penalty', 'bombing suspect unable speak sedated intubated hospital feds could seek death penalty', 'bombing suspect unable speak sedated intubated hospital feds could seek death penalty', 'new aerial images show boston bombing suspect boat']\n"
     ]
    }
   ],
   "source": [
    "for i,tweet in enumerate(tweets):\n",
    "    write_tweet = []\n",
    "    words = re.findall(r'\\w+',tweet)\n",
    "    for each in words:\n",
    "        each = each.lower()\n",
    "        if each not in stopwords:\n",
    "            write_tweet.append(each)\n",
    "    write_tweet = ' '.join(write_tweet)\n",
    "    tweets[i] = write_tweet\n",
    "\n",
    "print(len(tweets))\n",
    "print(tweets)"
   ]
  },
  {
   "cell_type": "code",
   "execution_count": 235,
   "metadata": {
    "collapsed": false,
    "deletable": true,
    "editable": true
   },
   "outputs": [
    {
     "data": {
      "text/plain": [
       "251"
      ]
     },
     "execution_count": 235,
     "metadata": {},
     "output_type": "execute_result"
    }
   ],
   "source": [
    "len(tweets)"
   ]
  },
  {
   "cell_type": "code",
   "execution_count": 236,
   "metadata": {
    "collapsed": true,
    "deletable": true,
    "editable": true
   },
   "outputs": [],
   "source": [
    "tweets = list(set(tweets))"
   ]
  },
  {
   "cell_type": "code",
   "execution_count": 237,
   "metadata": {
    "collapsed": false,
    "deletable": true,
    "editable": true
   },
   "outputs": [
    {
     "data": {
      "text/plain": [
       "94"
      ]
     },
     "execution_count": 237,
     "metadata": {},
     "output_type": "execute_result"
    }
   ],
   "source": [
    "len(tweets)"
   ]
  },
  {
   "cell_type": "code",
   "execution_count": 238,
   "metadata": {
    "collapsed": false,
    "deletable": true,
    "editable": true
   },
   "outputs": [
    {
     "data": {
      "text/plain": [
       "['bombing suspect unable speak sedated intubated hospital feds could seek death penalty seri',\n",
       " 'boston bombing suspect caught surveillance video could major break boston marathon cas',\n",
       " 'boston marathon bomber manhunt one suspect dead second run police say lookout yahoo news via yahoo',\n",
       " 'reports marathon runners crossed finish line continued run mass general hospital give blood victims',\n",
       " 'marathon bomb suspect eludes police hunt shuts boston watertown massachusetts reuters black hawk helicopte',\n",
       " 'cellphone service shut boston prevent remote detonations explosives official says cc',\n",
       " 'breaking news boston marathon terror bombing suspect arrested',\n",
       " 'marathon bomb suspect eludes police hunt shuts boston',\n",
       " 'fbi releases new details boston marathon bombs news',\n",
       " 'mikandynothem trying defeat human spirit marathoners wrong group target bostonmarathon tcot tgdn',\n",
       " 'boston marathon bomber manhunt one suspect dead second run police say lookout via yahoonews',\n",
       " 'nbcnews feel blessed boston marathon runner escaped bombing unscathed also witnessed texas plant explosion',\n",
       " 'good info new aerial images show boston bombing suspect boat business socialmedia',\n",
       " 'bombing suspect unable speak sedated intubated hospital feds could seek death penalty news',\n",
       " 'google person finder locates missing boston marathon explosion tech innovation google design help',\n",
       " 'boston bombing suspect caught surveillance video could major break bos',\n",
       " 'new aerial images show boston bombing suspect boat us boston usworld bostonmarathon',\n",
       " 'entrepreneurship new aerial images show boston bombing suspect boat via mashable',\n",
       " 'boston bombing used pressure cooker packed metal clues emerge forensic examination bomb site',\n",
       " 'trying defeat human spirit marathoners wrong group target bostonmarathon tcot tgdn',\n",
       " 'boston explosion news least 3 dead 140 injured marathon bombing live updates',\n",
       " 'boston bombing suspect saudi national custody charged arrest following dual explosion',\n",
       " 'boston explosion news least 3 dead 140 injured marathon bombing live updates via',\n",
       " 'boston marathon bomber manhunt one suspect dead second run police say lookout yahoo news',\n",
       " 'google google person finder locates missing boston marathon explosion',\n",
       " 'live updates bostonmarathon least 3 dead 140 injured marathon bombing via huffpostcrime',\n",
       " 'trying defeat human spirit marathoners wrong group target bostonmarathon',\n",
       " 'boston marathon bomber manhunt one suspect dead second run police say kout yahoo news via yahoonews',\n",
       " 'marathon runners crossed finish line continued run mass general hospital give blood victims heroes prayforboston',\n",
       " 'marathon bomb suspect eludes police hunt shuts boston reuters news',\n",
       " 'mashable new aerial images show boston bombing suspect boat http co yfo1dqhbof bostonmarathon watertown manhunt manhuntboston',\n",
       " 'boston marathon bombs used pressure cooker packed metal clues emerge forensic examination bomb',\n",
       " 'wow reports marathon runners crossed finish line continued run mass general hospital give blood victims',\n",
       " 'fbi releases new details boston marathon bombs',\n",
       " 'reports marathon runners crossed finish line continued run mass general hospital give blood victims prayforboston',\n",
       " 'every retweet receive donate 1 bostonmarathon victims prayforboston _bostonmarathon',\n",
       " 'boston police confirm another explosion city jfk library following two blasts near marathon site',\n",
       " 'boston marathon bomber manhunt one suspect dead second run lookout yahoo news via yahoonews',\n",
       " 'boston bombing used pressure cooker packed metal clues emerge forensic examination bomb tg us',\n",
       " 'marathon runners crossed finish line continued run hospital give blood victims prayforboston respect',\n",
       " 'boston marathon bomber manhunt one suspect dead second run police say',\n",
       " 'new aerial images show boston bombing suspect boat massachusetts state police released five socialmedia',\n",
       " 'fbi releases new details boston marathon bombs within day oklahoma city bombing officials named',\n",
       " 'worldnews marathon bomb suspect eludes police hunt shuts boston teamfollowback',\n",
       " 'least 3 dead 140 injured boston marathon bombing via huffpostcrime',\n",
       " 'fbi wants citizens call 1 800 call fbi recognize suspects bostonmarathon',\n",
       " 'new aerial images show boston bombing suspect boat',\n",
       " 'wanted police seeking plate 316 es9 99 honda crv color gray possible suspect car approach',\n",
       " 'boston marathon bombs used pressure cooker packed metal clues emerge forensic examinatio bomb playboy',\n",
       " 'boston marathon bombs used pressure cooker packed metal clues emerge forensic examination bomb site bostonmarathon',\n",
       " 'wmur9 fbi releases new details boston marathon bombs within day oklahoma city bombing offici',\n",
       " 'obama regime cut spending domestic bombing prevention 45 bostonmarathon bostonbombings',\n",
       " 'fbi releases new details boston marathon bombs pittsburgh',\n",
       " 'feel blessed boston marathon runner escaped bombing unscathed also witnessed texas plant explosion http co ybxu0kcj3q wow',\n",
       " 'new aerial images show boston bombing suspect boat massachusetts state police released five images taken',\n",
       " 'boston marathon bomber manhunt one suspect dead second run police say via yahoonews',\n",
       " 'trying defeat human spirit marathoneers wrong group target bostonmarathon',\n",
       " 'fbi releases new details boston marathon bombs within day oklahoma city bombing officials na',\n",
       " 'google person finder locates missing boston marathon explosion via mashable',\n",
       " 'feel blessed boston marathon runner escaped bombing unscathed also witnessed texas plant explosion',\n",
       " 'resource google person finder locates missing boston marathon explosion boston',\n",
       " 'marathon bomb suspect eludes police hunt shuts boston reuters black',\n",
       " 'new aerial images show boston bombing suspect boat massachusetts state police released five imag business',\n",
       " 'boston explosion news least 3 dead 140 injured marathon bombing live updates via huffpostcrime',\n",
       " 'fbi releases new details boston marathon bombs one two bombs used boston marathon attacks us',\n",
       " 'boston marathon runner escaped bombing unscathed also witnessed texas plant explosion',\n",
       " 'socialmedia tech new aerial images show boston bombing suspect boat',\n",
       " 'google person finder boston marathon explosion',\n",
       " 'bostonmarathon bomber manhunt one suspect dead second run police say via yahoonews',\n",
       " 'investigators released information suspect deadly explosions boston marathon',\n",
       " 'google person finder locates missing boston marathon explosion via sbedrick',\n",
       " 'thanks generosity volunteer blood donors currently enough blood shelves meet demand bostonmarathon',\n",
       " 'bombing suspect unable speak sedated intubated hospital feds could seek death penalty',\n",
       " 'boston bombing suspect caught surveillance video could major break boston marathon case',\n",
       " 'marathon bomb suspect eludes police hunt shuts boston reuters',\n",
       " 'official cellphone service shut boston prevent remote detonations explosives via washingtonpost',\n",
       " 'boston marathon bomber one suspect dead second run police say lookout yahoo news via yahoonews',\n",
       " 'one 3 killed boston explosions grad student china studying statistics boston u',\n",
       " 'cnn us fbi releases new details boston marathon bombs one two bombs used boston marathon',\n",
       " 'huffpostworld boston explosion news least 3 dead 140 injured marathon bombing live updates via http co g9dwqstmgh',\n",
       " 'boston bombing suspect caught surveillance video could major break bythere',\n",
       " 'heart broken people boston unreal praying peace restoration justice bostonmarathon',\n",
       " 'breaking faa issued temporary flight restriction area explosion effective immediately',\n",
       " 'google person finder boston marathon explosions',\n",
       " 'google person finder locates missing boston marathon explosion',\n",
       " 'trying defeat human spirit marathoners wrong group target amen bostonmarathon',\n",
       " 'mrjakehumphrey reports marathon runners crossed finish line continued run mass general hospital give blood victims prayforboston',\n",
       " 'google person finder locates missing boston marathon explosion boston',\n",
       " 'new aerial images show boston bombing suspect boat via mashable',\n",
       " 'reports boston marathon runners crossing finish line continuing run hospital give blood victims via',\n",
       " 'boston explosion news least 3 dead 140 injured marathon bombing 04 15 13 updates',\n",
       " 'reports boston marathon runners crossing finish line continuing run hospital give blood victims heartbreaking',\n",
       " 'new aerial images show boston bombing suspect boat massachusetts state police released five im wookala',\n",
       " 'marathon bomb suspect eludes police hunt shuts boston reuters abc newsmarathon bomb suspect eludes po']"
      ]
     },
     "execution_count": 238,
     "metadata": {},
     "output_type": "execute_result"
    }
   ],
   "source": [
    "tweets"
   ]
  },
  {
   "cell_type": "code",
   "execution_count": 239,
   "metadata": {
    "collapsed": false,
    "deletable": true,
    "editable": true
   },
   "outputs": [],
   "source": [
    "df2 = pd.DataFrame(data=tweets,columns=['text'])"
   ]
  },
  {
   "cell_type": "code",
   "execution_count": 240,
   "metadata": {
    "collapsed": false,
    "deletable": true,
    "editable": true
   },
   "outputs": [],
   "source": [
    "df2.to_csv('cleaned_tweets.csv',index_label=False)#index_label=False to avoid Unnamed columns."
   ]
  },
  {
   "cell_type": "code",
   "execution_count": 241,
   "metadata": {
    "collapsed": false,
    "deletable": true,
    "editable": true
   },
   "outputs": [],
   "source": [
    "data = pd.read_csv('cleaned_tweets.csv') "
   ]
  },
  {
   "cell_type": "code",
   "execution_count": 242,
   "metadata": {
    "collapsed": false,
    "deletable": true,
    "editable": true,
    "scrolled": true
   },
   "outputs": [
    {
     "data": {
      "text/html": [
       "<div>\n",
       "<table border=\"1\" class=\"dataframe\">\n",
       "  <thead>\n",
       "    <tr style=\"text-align: right;\">\n",
       "      <th></th>\n",
       "      <th>text</th>\n",
       "    </tr>\n",
       "  </thead>\n",
       "  <tbody>\n",
       "    <tr>\n",
       "      <th>0</th>\n",
       "      <td>bombing suspect unable speak sedated intubated...</td>\n",
       "    </tr>\n",
       "    <tr>\n",
       "      <th>1</th>\n",
       "      <td>boston bombing suspect caught surveillance vid...</td>\n",
       "    </tr>\n",
       "    <tr>\n",
       "      <th>2</th>\n",
       "      <td>boston marathon bomber manhunt one suspect dea...</td>\n",
       "    </tr>\n",
       "    <tr>\n",
       "      <th>3</th>\n",
       "      <td>reports marathon runners crossed finish line c...</td>\n",
       "    </tr>\n",
       "    <tr>\n",
       "      <th>4</th>\n",
       "      <td>marathon bomb suspect eludes police hunt shuts...</td>\n",
       "    </tr>\n",
       "  </tbody>\n",
       "</table>\n",
       "</div>"
      ],
      "text/plain": [
       "                                                text\n",
       "0  bombing suspect unable speak sedated intubated...\n",
       "1  boston bombing suspect caught surveillance vid...\n",
       "2  boston marathon bomber manhunt one suspect dea...\n",
       "3  reports marathon runners crossed finish line c...\n",
       "4  marathon bomb suspect eludes police hunt shuts..."
      ]
     },
     "execution_count": 242,
     "metadata": {},
     "output_type": "execute_result"
    }
   ],
   "source": [
    "data.head()"
   ]
  },
  {
   "cell_type": "code",
   "execution_count": 243,
   "metadata": {
    "collapsed": true
   },
   "outputs": [],
   "source": [
    "# load nltk's SnowballStemmer as variabled 'stemmer'\n",
    "from nltk.stem.snowball import SnowballStemmer\n",
    "stemmer = SnowballStemmer(\"english\")"
   ]
  },
  {
   "cell_type": "code",
   "execution_count": 244,
   "metadata": {
    "collapsed": false,
    "scrolled": false
   },
   "outputs": [
    {
     "data": {
      "text/plain": [
       "[u'bomb suspect unabl speak sedat intub hospit fed could seek death penalti seri',\n",
       " u'boston bomb suspect caught surveil video could major break boston marathon cas',\n",
       " u'boston marathon bomber manhunt one suspect dead second run polic say lookout yahoo news via yahoo',\n",
       " u'report marathon runner cross finish line continu run mass general hospit give blood victim',\n",
       " u'marathon bomb suspect elud polic hunt shut boston watertown massachusett reuter black hawk helicopt',\n",
       " u'cellphon servic shut boston prevent remot deton explos offici say cc',\n",
       " u'break news boston marathon terror bomb suspect arrest',\n",
       " u'marathon bomb suspect elud polic hunt shut boston',\n",
       " u'fbi releas new detail boston marathon bomb news',\n",
       " u'mikandynothem tri defeat human spirit marathon wrong group target bostonmarathon tcot tgdn',\n",
       " u'boston marathon bomber manhunt one suspect dead second run polic say lookout via yahoonew',\n",
       " u'nbcnew feel bless boston marathon runner escap bomb unscath also wit texa plant explos',\n",
       " u'good info new aerial imag show boston bomb suspect boat busi socialmedia',\n",
       " u'bomb suspect unabl speak sedat intub hospit fed could seek death penalti news',\n",
       " u'googl person finder locat miss boston marathon explos tech innov googl design help',\n",
       " u'boston bomb suspect caught surveil video could major break bos',\n",
       " u'new aerial imag show boston bomb suspect boat us boston usworld bostonmarathon',\n",
       " u'entrepreneurship new aerial imag show boston bomb suspect boat via mashabl',\n",
       " u'boston bomb use pressur cooker pack metal clue emerg forens examin bomb site',\n",
       " u'tri defeat human spirit marathon wrong group target bostonmarathon tcot tgdn',\n",
       " u'boston explos news least 3 dead 140 injur marathon bomb live updat',\n",
       " u'boston bomb suspect saudi nation custodi charg arrest follow dual explos',\n",
       " u'boston explos news least 3 dead 140 injur marathon bomb live updat via',\n",
       " u'boston marathon bomber manhunt one suspect dead second run polic say lookout yahoo news',\n",
       " u'googl googl person finder locat miss boston marathon explos',\n",
       " u'live updat bostonmarathon least 3 dead 140 injur marathon bomb via huffpostcrim',\n",
       " u'tri defeat human spirit marathon wrong group target bostonmarathon',\n",
       " u'boston marathon bomber manhunt one suspect dead second run polic say kout yahoo news via yahoonew',\n",
       " u'marathon runner cross finish line continu run mass general hospit give blood victim hero prayforboston',\n",
       " u'marathon bomb suspect elud polic hunt shut boston reuter news',\n",
       " u'mashabl new aerial imag show boston bomb suspect boat http co yfo1dqhbof bostonmarathon watertown manhunt manhuntboston',\n",
       " u'boston marathon bomb use pressur cooker pack metal clue emerg forens examin bomb',\n",
       " u'wow report marathon runner cross finish line continu run mass general hospit give blood victim',\n",
       " u'fbi releas new detail boston marathon bomb',\n",
       " u'report marathon runner cross finish line continu run mass general hospit give blood victim prayforboston',\n",
       " u'everi retweet receiv donat 1 bostonmarathon victim prayforboston _bostonmarathon',\n",
       " u'boston polic confirm anoth explos citi jfk librari follow two blast near marathon site',\n",
       " u'boston marathon bomber manhunt one suspect dead second run lookout yahoo news via yahoonew',\n",
       " u'boston bomb use pressur cooker pack metal clue emerg forens examin bomb tg us',\n",
       " u'marathon runner cross finish line continu run hospit give blood victim prayforboston respect',\n",
       " u'boston marathon bomber manhunt one suspect dead second run polic say',\n",
       " u'new aerial imag show boston bomb suspect boat massachusett state polic releas five socialmedia',\n",
       " u'fbi releas new detail boston marathon bomb within day oklahoma citi bomb offici name',\n",
       " u'worldnew marathon bomb suspect elud polic hunt shut boston teamfollowback',\n",
       " u'least 3 dead 140 injur boston marathon bomb via huffpostcrim',\n",
       " u'fbi want citizen call 1 800 call fbi recogn suspect bostonmarathon',\n",
       " u'new aerial imag show boston bomb suspect boat',\n",
       " u'want polic seek plate 316 es9 99 honda crv color gray possibl suspect car approach',\n",
       " u'boston marathon bomb use pressur cooker pack metal clue emerg forens examinatio bomb playboy',\n",
       " u'boston marathon bomb use pressur cooker pack metal clue emerg forens examin bomb site bostonmarathon',\n",
       " u'wmur9 fbi releas new detail boston marathon bomb within day oklahoma citi bomb offici',\n",
       " u'obama regim cut spend domest bomb prevent 45 bostonmarathon bostonbomb',\n",
       " u'fbi releas new detail boston marathon bomb pittsburgh',\n",
       " u'feel bless boston marathon runner escap bomb unscath also wit texa plant explos http co ybxu0kcj3q wow',\n",
       " u'new aerial imag show boston bomb suspect boat massachusett state polic releas five imag taken',\n",
       " u'boston marathon bomber manhunt one suspect dead second run polic say via yahoonew',\n",
       " u'tri defeat human spirit marathon wrong group target bostonmarathon',\n",
       " u'fbi releas new detail boston marathon bomb within day oklahoma citi bomb offici na',\n",
       " u'googl person finder locat miss boston marathon explos via mashabl',\n",
       " u'feel bless boston marathon runner escap bomb unscath also wit texa plant explos',\n",
       " u'resourc googl person finder locat miss boston marathon explos boston',\n",
       " u'marathon bomb suspect elud polic hunt shut boston reuter black',\n",
       " u'new aerial imag show boston bomb suspect boat massachusett state polic releas five imag busi',\n",
       " u'boston explos news least 3 dead 140 injur marathon bomb live updat via huffpostcrim',\n",
       " u'fbi releas new detail boston marathon bomb one two bomb use boston marathon attack us',\n",
       " u'boston marathon runner escap bomb unscath also wit texa plant explos',\n",
       " u'socialmedia tech new aerial imag show boston bomb suspect boat',\n",
       " u'googl person finder boston marathon explos',\n",
       " u'bostonmarathon bomber manhunt one suspect dead second run polic say via yahoonew',\n",
       " u'investig releas inform suspect dead explos boston marathon',\n",
       " u'googl person finder locat miss boston marathon explos via sbedrick',\n",
       " u'thank generos volunt blood donor current enough blood shelv meet demand bostonmarathon',\n",
       " u'bomb suspect unabl speak sedat intub hospit fed could seek death penalti',\n",
       " u'boston bomb suspect caught surveil video could major break boston marathon case',\n",
       " u'marathon bomb suspect elud polic hunt shut boston reuter',\n",
       " u'offici cellphon servic shut boston prevent remot deton explos via washingtonpost',\n",
       " u'boston marathon bomber one suspect dead second run polic say lookout yahoo news via yahoonew',\n",
       " u'one 3 kill boston explos grad student china studi statist boston u',\n",
       " u'cnn us fbi releas new detail boston marathon bomb one two bomb use boston marathon',\n",
       " u'huffpostworld boston explos news least 3 dead 140 injur marathon bomb live updat via http co g9dwqstmgh',\n",
       " u'boston bomb suspect caught surveil video could major break byther',\n",
       " u'heart broken peopl boston unreal pray peac restor justic bostonmarathon',\n",
       " u'break faa issu temporari flight restrict area explos effect immedi',\n",
       " u'googl person finder boston marathon explos',\n",
       " u'googl person finder locat miss boston marathon explos',\n",
       " u'tri defeat human spirit marathon wrong group target amen bostonmarathon',\n",
       " u'mrjakehumphrey report marathon runner cross finish line continu run mass general hospit give blood victim prayforboston',\n",
       " u'googl person finder locat miss boston marathon explos boston',\n",
       " u'new aerial imag show boston bomb suspect boat via mashabl',\n",
       " u'report boston marathon runner cross finish line continu run hospit give blood victim via',\n",
       " u'boston explos news least 3 dead 140 injur marathon bomb 04 15 13 updat',\n",
       " u'report boston marathon runner cross finish line continu run hospit give blood victim heartbreak',\n",
       " u'new aerial imag show boston bomb suspect boat massachusett state polic releas five im wookala',\n",
       " u'marathon bomb suspect elud polic hunt shut boston reuter abc newsmarathon bomb suspect elud po']"
      ]
     },
     "execution_count": 244,
     "metadata": {},
     "output_type": "execute_result"
    }
   ],
   "source": [
    "#lets stem our list tweets also, so that res are permanent.\n",
    "\n",
    "for i,tweet in enumerate(tweets):\n",
    "    write_tweet = []\n",
    "    for each in tweet.split():\n",
    "        words = re.findall(r'\\w+',each)\n",
    "        for word in words:\n",
    "            write_tweet.append(stemmer.stem(word))\n",
    "    tweets[i] = ' '.join(write_tweet)\n",
    "tweets"
   ]
  },
  {
   "cell_type": "code",
   "execution_count": 245,
   "metadata": {
    "collapsed": true
   },
   "outputs": [],
   "source": [
    "def tokenize_and_stem(text):\n",
    "    # first tokenize by sentence, then by word to ensure that punctuation is caught as it's own token\n",
    "    tokens = [word for sent in nltk.sent_tokenize(text) for word in nltk.word_tokenize(sent)]\n",
    "    filtered_tokens = []\n",
    "    # filter out any tokens not containing letters (e.g., numeric tokens, raw punctuation)\n",
    "    for token in tokens:\n",
    "        if re.search('[a-zA-Z]', token):\n",
    "            filtered_tokens.append(token)\n",
    "    stems = [stemmer.stem(t) for t in filtered_tokens]\n",
    "    return stems"
   ]
  },
  {
   "cell_type": "code",
   "execution_count": 246,
   "metadata": {
    "collapsed": false
   },
   "outputs": [
    {
     "name": "stdout",
     "output_type": "stream",
     "text": [
      "CPU times: user 60 ms, sys: 16 ms, total: 76 ms\n",
      "Wall time: 67 ms\n",
      "(94, 10)\n"
     ]
    }
   ],
   "source": [
    "from sklearn.feature_extraction.text import TfidfVectorizer\n",
    "\n",
    "tfidf_vectorizer = TfidfVectorizer(max_df=0.8, max_features=200000,\n",
    "                                 min_df=0.2, stop_words='english',\n",
    "                                 use_idf=True, tokenizer=tokenize_and_stem, ngram_range=(1,3))\n",
    "\n",
    "%time tfidf_matrix = tfidf_vectorizer.fit_transform(tweets)\n",
    "\n",
    "print(tfidf_matrix.shape)"
   ]
  },
  {
   "cell_type": "code",
   "execution_count": 247,
   "metadata": {
    "collapsed": true
   },
   "outputs": [],
   "source": [
    "terms = tfidf_vectorizer.get_feature_names()"
   ]
  },
  {
   "cell_type": "code",
   "execution_count": 248,
   "metadata": {
    "collapsed": false
   },
   "outputs": [
    {
     "data": {
      "text/plain": [
       "[u'bomb',\n",
       " u'bomb suspect',\n",
       " u'boston',\n",
       " u'boston marathon',\n",
       " u'explo',\n",
       " u'marathon',\n",
       " u'marathon bomb',\n",
       " u'new',\n",
       " u'polic',\n",
       " u'suspect']"
      ]
     },
     "execution_count": 248,
     "metadata": {},
     "output_type": "execute_result"
    }
   ],
   "source": [
    "terms"
   ]
  },
  {
   "cell_type": "code",
   "execution_count": 249,
   "metadata": {
    "collapsed": true
   },
   "outputs": [],
   "source": [
    "from sklearn.metrics.pairwise import cosine_similarity\n",
    "dist = 1 - cosine_similarity(tfidf_matrix)"
   ]
  },
  {
   "cell_type": "code",
   "execution_count": 258,
   "metadata": {
    "collapsed": false
   },
   "outputs": [
    {
     "name": "stdout",
     "output_type": "stream",
     "text": [
      "CPU times: user 84 ms, sys: 4 ms, total: 88 ms\n",
      "Wall time: 87 ms\n"
     ]
    }
   ],
   "source": [
    "from sklearn.cluster import KMeans\n",
    "\n",
    "num_clusters = 5\n",
    "\n",
    "km = KMeans(n_clusters=num_clusters)\n",
    "\n",
    "%time km.fit(tfidf_matrix)\n",
    "\n",
    "clusters = km.labels_.tolist()"
   ]
  },
  {
   "cell_type": "code",
   "execution_count": 259,
   "metadata": {
    "collapsed": false
   },
   "outputs": [
    {
     "data": {
      "text/plain": [
       "94"
      ]
     },
     "execution_count": 259,
     "metadata": {},
     "output_type": "execute_result"
    }
   ],
   "source": [
    "len(clusters)"
   ]
  },
  {
   "cell_type": "code",
   "execution_count": 260,
   "metadata": {
    "collapsed": true
   },
   "outputs": [],
   "source": [
    "from sklearn.externals import joblib\n",
    "\n",
    "joblib.dump(km,  'doc_cluster.pkl')\n",
    "km = joblib.load('doc_cluster.pkl')\n",
    "clusters = km.labels_.tolist()"
   ]
  },
  {
   "cell_type": "code",
   "execution_count": 261,
   "metadata": {
    "collapsed": false
   },
   "outputs": [],
   "source": [
    "import pandas as pd\n",
    "\n",
    "res = { 'rank':range(94),'tweets': tweets, 'cluster': clusters }\n",
    "\n",
    "frame = pd.DataFrame(res, index = range(94) , columns = [ 'rank','tweets', 'cluster'])"
   ]
  },
  {
   "cell_type": "code",
   "execution_count": 285,
   "metadata": {
    "collapsed": false
   },
   "outputs": [
    {
     "data": {
      "text/html": [
       "<div>\n",
       "<table border=\"1\" class=\"dataframe\">\n",
       "  <thead>\n",
       "    <tr style=\"text-align: right;\">\n",
       "      <th></th>\n",
       "      <th>rank</th>\n",
       "      <th>tweets</th>\n",
       "      <th>cluster</th>\n",
       "    </tr>\n",
       "  </thead>\n",
       "  <tbody>\n",
       "    <tr>\n",
       "      <th>0</th>\n",
       "      <td>0</td>\n",
       "      <td>bomb suspect unabl speak sedat intub hospit fe...</td>\n",
       "      <td>2</td>\n",
       "    </tr>\n",
       "    <tr>\n",
       "      <th>1</th>\n",
       "      <td>1</td>\n",
       "      <td>boston bomb suspect caught surveil video could...</td>\n",
       "      <td>2</td>\n",
       "    </tr>\n",
       "    <tr>\n",
       "      <th>2</th>\n",
       "      <td>2</td>\n",
       "      <td>boston marathon bomber manhunt one suspect dea...</td>\n",
       "      <td>1</td>\n",
       "    </tr>\n",
       "    <tr>\n",
       "      <th>3</th>\n",
       "      <td>3</td>\n",
       "      <td>report marathon runner cross finish line conti...</td>\n",
       "      <td>3</td>\n",
       "    </tr>\n",
       "    <tr>\n",
       "      <th>4</th>\n",
       "      <td>4</td>\n",
       "      <td>marathon bomb suspect elud polic hunt shut bos...</td>\n",
       "      <td>2</td>\n",
       "    </tr>\n",
       "    <tr>\n",
       "      <th>5</th>\n",
       "      <td>5</td>\n",
       "      <td>cellphon servic shut boston prevent remot deto...</td>\n",
       "      <td>4</td>\n",
       "    </tr>\n",
       "    <tr>\n",
       "      <th>6</th>\n",
       "      <td>6</td>\n",
       "      <td>break news boston marathon terror bomb suspect...</td>\n",
       "      <td>2</td>\n",
       "    </tr>\n",
       "    <tr>\n",
       "      <th>7</th>\n",
       "      <td>7</td>\n",
       "      <td>marathon bomb suspect elud polic hunt shut boston</td>\n",
       "      <td>2</td>\n",
       "    </tr>\n",
       "    <tr>\n",
       "      <th>8</th>\n",
       "      <td>8</td>\n",
       "      <td>fbi releas new detail boston marathon bomb news</td>\n",
       "      <td>0</td>\n",
       "    </tr>\n",
       "    <tr>\n",
       "      <th>9</th>\n",
       "      <td>9</td>\n",
       "      <td>mikandynothem tri defeat human spirit marathon...</td>\n",
       "      <td>3</td>\n",
       "    </tr>\n",
       "    <tr>\n",
       "      <th>10</th>\n",
       "      <td>10</td>\n",
       "      <td>boston marathon bomber manhunt one suspect dea...</td>\n",
       "      <td>1</td>\n",
       "    </tr>\n",
       "    <tr>\n",
       "      <th>11</th>\n",
       "      <td>11</td>\n",
       "      <td>nbcnew feel bless boston marathon runner escap...</td>\n",
       "      <td>4</td>\n",
       "    </tr>\n",
       "    <tr>\n",
       "      <th>12</th>\n",
       "      <td>12</td>\n",
       "      <td>good info new aerial imag show boston bomb sus...</td>\n",
       "      <td>2</td>\n",
       "    </tr>\n",
       "    <tr>\n",
       "      <th>13</th>\n",
       "      <td>13</td>\n",
       "      <td>bomb suspect unabl speak sedat intub hospit fe...</td>\n",
       "      <td>2</td>\n",
       "    </tr>\n",
       "    <tr>\n",
       "      <th>14</th>\n",
       "      <td>14</td>\n",
       "      <td>googl person finder locat miss boston marathon...</td>\n",
       "      <td>4</td>\n",
       "    </tr>\n",
       "    <tr>\n",
       "      <th>15</th>\n",
       "      <td>15</td>\n",
       "      <td>boston bomb suspect caught surveil video could...</td>\n",
       "      <td>2</td>\n",
       "    </tr>\n",
       "    <tr>\n",
       "      <th>16</th>\n",
       "      <td>16</td>\n",
       "      <td>new aerial imag show boston bomb suspect boat ...</td>\n",
       "      <td>2</td>\n",
       "    </tr>\n",
       "    <tr>\n",
       "      <th>17</th>\n",
       "      <td>17</td>\n",
       "      <td>entrepreneurship new aerial imag show boston b...</td>\n",
       "      <td>2</td>\n",
       "    </tr>\n",
       "    <tr>\n",
       "      <th>18</th>\n",
       "      <td>18</td>\n",
       "      <td>boston bomb use pressur cooker pack metal clue...</td>\n",
       "      <td>0</td>\n",
       "    </tr>\n",
       "    <tr>\n",
       "      <th>19</th>\n",
       "      <td>19</td>\n",
       "      <td>tri defeat human spirit marathon wrong group t...</td>\n",
       "      <td>3</td>\n",
       "    </tr>\n",
       "    <tr>\n",
       "      <th>20</th>\n",
       "      <td>20</td>\n",
       "      <td>boston explos news least 3 dead 140 injur mara...</td>\n",
       "      <td>0</td>\n",
       "    </tr>\n",
       "    <tr>\n",
       "      <th>21</th>\n",
       "      <td>21</td>\n",
       "      <td>boston bomb suspect saudi nation custodi charg...</td>\n",
       "      <td>2</td>\n",
       "    </tr>\n",
       "    <tr>\n",
       "      <th>22</th>\n",
       "      <td>22</td>\n",
       "      <td>boston explos news least 3 dead 140 injur mara...</td>\n",
       "      <td>0</td>\n",
       "    </tr>\n",
       "    <tr>\n",
       "      <th>23</th>\n",
       "      <td>23</td>\n",
       "      <td>boston marathon bomber manhunt one suspect dea...</td>\n",
       "      <td>1</td>\n",
       "    </tr>\n",
       "    <tr>\n",
       "      <th>24</th>\n",
       "      <td>24</td>\n",
       "      <td>googl googl person finder locat miss boston ma...</td>\n",
       "      <td>4</td>\n",
       "    </tr>\n",
       "    <tr>\n",
       "      <th>25</th>\n",
       "      <td>25</td>\n",
       "      <td>live updat bostonmarathon least 3 dead 140 inj...</td>\n",
       "      <td>0</td>\n",
       "    </tr>\n",
       "    <tr>\n",
       "      <th>26</th>\n",
       "      <td>26</td>\n",
       "      <td>tri defeat human spirit marathon wrong group t...</td>\n",
       "      <td>3</td>\n",
       "    </tr>\n",
       "    <tr>\n",
       "      <th>27</th>\n",
       "      <td>27</td>\n",
       "      <td>boston marathon bomber manhunt one suspect dea...</td>\n",
       "      <td>1</td>\n",
       "    </tr>\n",
       "    <tr>\n",
       "      <th>28</th>\n",
       "      <td>28</td>\n",
       "      <td>marathon runner cross finish line continu run ...</td>\n",
       "      <td>3</td>\n",
       "    </tr>\n",
       "    <tr>\n",
       "      <th>29</th>\n",
       "      <td>29</td>\n",
       "      <td>marathon bomb suspect elud polic hunt shut bos...</td>\n",
       "      <td>2</td>\n",
       "    </tr>\n",
       "    <tr>\n",
       "      <th>...</th>\n",
       "      <td>...</td>\n",
       "      <td>...</td>\n",
       "      <td>...</td>\n",
       "    </tr>\n",
       "    <tr>\n",
       "      <th>64</th>\n",
       "      <td>64</td>\n",
       "      <td>fbi releas new detail boston marathon bomb one...</td>\n",
       "      <td>0</td>\n",
       "    </tr>\n",
       "    <tr>\n",
       "      <th>65</th>\n",
       "      <td>65</td>\n",
       "      <td>boston marathon runner escap bomb unscath also...</td>\n",
       "      <td>4</td>\n",
       "    </tr>\n",
       "    <tr>\n",
       "      <th>66</th>\n",
       "      <td>66</td>\n",
       "      <td>socialmedia tech new aerial imag show boston b...</td>\n",
       "      <td>2</td>\n",
       "    </tr>\n",
       "    <tr>\n",
       "      <th>67</th>\n",
       "      <td>67</td>\n",
       "      <td>googl person finder boston marathon explos</td>\n",
       "      <td>4</td>\n",
       "    </tr>\n",
       "    <tr>\n",
       "      <th>68</th>\n",
       "      <td>68</td>\n",
       "      <td>bostonmarathon bomber manhunt one suspect dead...</td>\n",
       "      <td>1</td>\n",
       "    </tr>\n",
       "    <tr>\n",
       "      <th>69</th>\n",
       "      <td>69</td>\n",
       "      <td>investig releas inform suspect dead explos bos...</td>\n",
       "      <td>4</td>\n",
       "    </tr>\n",
       "    <tr>\n",
       "      <th>70</th>\n",
       "      <td>70</td>\n",
       "      <td>googl person finder locat miss boston marathon...</td>\n",
       "      <td>4</td>\n",
       "    </tr>\n",
       "    <tr>\n",
       "      <th>71</th>\n",
       "      <td>71</td>\n",
       "      <td>thank generos volunt blood donor current enoug...</td>\n",
       "      <td>0</td>\n",
       "    </tr>\n",
       "    <tr>\n",
       "      <th>72</th>\n",
       "      <td>72</td>\n",
       "      <td>bomb suspect unabl speak sedat intub hospit fe...</td>\n",
       "      <td>2</td>\n",
       "    </tr>\n",
       "    <tr>\n",
       "      <th>73</th>\n",
       "      <td>73</td>\n",
       "      <td>boston bomb suspect caught surveil video could...</td>\n",
       "      <td>2</td>\n",
       "    </tr>\n",
       "    <tr>\n",
       "      <th>74</th>\n",
       "      <td>74</td>\n",
       "      <td>marathon bomb suspect elud polic hunt shut bos...</td>\n",
       "      <td>2</td>\n",
       "    </tr>\n",
       "    <tr>\n",
       "      <th>75</th>\n",
       "      <td>75</td>\n",
       "      <td>offici cellphon servic shut boston prevent rem...</td>\n",
       "      <td>4</td>\n",
       "    </tr>\n",
       "    <tr>\n",
       "      <th>76</th>\n",
       "      <td>76</td>\n",
       "      <td>boston marathon bomber one suspect dead second...</td>\n",
       "      <td>1</td>\n",
       "    </tr>\n",
       "    <tr>\n",
       "      <th>77</th>\n",
       "      <td>77</td>\n",
       "      <td>one 3 kill boston explos grad student china st...</td>\n",
       "      <td>4</td>\n",
       "    </tr>\n",
       "    <tr>\n",
       "      <th>78</th>\n",
       "      <td>78</td>\n",
       "      <td>cnn us fbi releas new detail boston marathon b...</td>\n",
       "      <td>0</td>\n",
       "    </tr>\n",
       "    <tr>\n",
       "      <th>79</th>\n",
       "      <td>79</td>\n",
       "      <td>huffpostworld boston explos news least 3 dead ...</td>\n",
       "      <td>0</td>\n",
       "    </tr>\n",
       "    <tr>\n",
       "      <th>80</th>\n",
       "      <td>80</td>\n",
       "      <td>boston bomb suspect caught surveil video could...</td>\n",
       "      <td>2</td>\n",
       "    </tr>\n",
       "    <tr>\n",
       "      <th>81</th>\n",
       "      <td>81</td>\n",
       "      <td>heart broken peopl boston unreal pray peac res...</td>\n",
       "      <td>4</td>\n",
       "    </tr>\n",
       "    <tr>\n",
       "      <th>82</th>\n",
       "      <td>82</td>\n",
       "      <td>break faa issu temporari flight restrict area ...</td>\n",
       "      <td>4</td>\n",
       "    </tr>\n",
       "    <tr>\n",
       "      <th>83</th>\n",
       "      <td>83</td>\n",
       "      <td>googl person finder boston marathon explos</td>\n",
       "      <td>4</td>\n",
       "    </tr>\n",
       "    <tr>\n",
       "      <th>84</th>\n",
       "      <td>84</td>\n",
       "      <td>googl person finder locat miss boston marathon...</td>\n",
       "      <td>4</td>\n",
       "    </tr>\n",
       "    <tr>\n",
       "      <th>85</th>\n",
       "      <td>85</td>\n",
       "      <td>tri defeat human spirit marathon wrong group t...</td>\n",
       "      <td>3</td>\n",
       "    </tr>\n",
       "    <tr>\n",
       "      <th>86</th>\n",
       "      <td>86</td>\n",
       "      <td>mrjakehumphrey report marathon runner cross fi...</td>\n",
       "      <td>3</td>\n",
       "    </tr>\n",
       "    <tr>\n",
       "      <th>87</th>\n",
       "      <td>87</td>\n",
       "      <td>googl person finder locat miss boston marathon...</td>\n",
       "      <td>4</td>\n",
       "    </tr>\n",
       "    <tr>\n",
       "      <th>88</th>\n",
       "      <td>88</td>\n",
       "      <td>new aerial imag show boston bomb suspect boat ...</td>\n",
       "      <td>2</td>\n",
       "    </tr>\n",
       "    <tr>\n",
       "      <th>89</th>\n",
       "      <td>89</td>\n",
       "      <td>report boston marathon runner cross finish lin...</td>\n",
       "      <td>4</td>\n",
       "    </tr>\n",
       "    <tr>\n",
       "      <th>90</th>\n",
       "      <td>90</td>\n",
       "      <td>boston explos news least 3 dead 140 injur mara...</td>\n",
       "      <td>0</td>\n",
       "    </tr>\n",
       "    <tr>\n",
       "      <th>91</th>\n",
       "      <td>91</td>\n",
       "      <td>report boston marathon runner cross finish lin...</td>\n",
       "      <td>4</td>\n",
       "    </tr>\n",
       "    <tr>\n",
       "      <th>92</th>\n",
       "      <td>92</td>\n",
       "      <td>new aerial imag show boston bomb suspect boat ...</td>\n",
       "      <td>2</td>\n",
       "    </tr>\n",
       "    <tr>\n",
       "      <th>93</th>\n",
       "      <td>93</td>\n",
       "      <td>marathon bomb suspect elud polic hunt shut bos...</td>\n",
       "      <td>2</td>\n",
       "    </tr>\n",
       "  </tbody>\n",
       "</table>\n",
       "<p>94 rows × 3 columns</p>\n",
       "</div>"
      ],
      "text/plain": [
       "    rank                                             tweets  cluster\n",
       "0      0  bomb suspect unabl speak sedat intub hospit fe...        2\n",
       "1      1  boston bomb suspect caught surveil video could...        2\n",
       "2      2  boston marathon bomber manhunt one suspect dea...        1\n",
       "3      3  report marathon runner cross finish line conti...        3\n",
       "4      4  marathon bomb suspect elud polic hunt shut bos...        2\n",
       "5      5  cellphon servic shut boston prevent remot deto...        4\n",
       "6      6  break news boston marathon terror bomb suspect...        2\n",
       "7      7  marathon bomb suspect elud polic hunt shut boston        2\n",
       "8      8    fbi releas new detail boston marathon bomb news        0\n",
       "9      9  mikandynothem tri defeat human spirit marathon...        3\n",
       "10    10  boston marathon bomber manhunt one suspect dea...        1\n",
       "11    11  nbcnew feel bless boston marathon runner escap...        4\n",
       "12    12  good info new aerial imag show boston bomb sus...        2\n",
       "13    13  bomb suspect unabl speak sedat intub hospit fe...        2\n",
       "14    14  googl person finder locat miss boston marathon...        4\n",
       "15    15  boston bomb suspect caught surveil video could...        2\n",
       "16    16  new aerial imag show boston bomb suspect boat ...        2\n",
       "17    17  entrepreneurship new aerial imag show boston b...        2\n",
       "18    18  boston bomb use pressur cooker pack metal clue...        0\n",
       "19    19  tri defeat human spirit marathon wrong group t...        3\n",
       "20    20  boston explos news least 3 dead 140 injur mara...        0\n",
       "21    21  boston bomb suspect saudi nation custodi charg...        2\n",
       "22    22  boston explos news least 3 dead 140 injur mara...        0\n",
       "23    23  boston marathon bomber manhunt one suspect dea...        1\n",
       "24    24  googl googl person finder locat miss boston ma...        4\n",
       "25    25  live updat bostonmarathon least 3 dead 140 inj...        0\n",
       "26    26  tri defeat human spirit marathon wrong group t...        3\n",
       "27    27  boston marathon bomber manhunt one suspect dea...        1\n",
       "28    28  marathon runner cross finish line continu run ...        3\n",
       "29    29  marathon bomb suspect elud polic hunt shut bos...        2\n",
       "..   ...                                                ...      ...\n",
       "64    64  fbi releas new detail boston marathon bomb one...        0\n",
       "65    65  boston marathon runner escap bomb unscath also...        4\n",
       "66    66  socialmedia tech new aerial imag show boston b...        2\n",
       "67    67         googl person finder boston marathon explos        4\n",
       "68    68  bostonmarathon bomber manhunt one suspect dead...        1\n",
       "69    69  investig releas inform suspect dead explos bos...        4\n",
       "70    70  googl person finder locat miss boston marathon...        4\n",
       "71    71  thank generos volunt blood donor current enoug...        0\n",
       "72    72  bomb suspect unabl speak sedat intub hospit fe...        2\n",
       "73    73  boston bomb suspect caught surveil video could...        2\n",
       "74    74  marathon bomb suspect elud polic hunt shut bos...        2\n",
       "75    75  offici cellphon servic shut boston prevent rem...        4\n",
       "76    76  boston marathon bomber one suspect dead second...        1\n",
       "77    77  one 3 kill boston explos grad student china st...        4\n",
       "78    78  cnn us fbi releas new detail boston marathon b...        0\n",
       "79    79  huffpostworld boston explos news least 3 dead ...        0\n",
       "80    80  boston bomb suspect caught surveil video could...        2\n",
       "81    81  heart broken peopl boston unreal pray peac res...        4\n",
       "82    82  break faa issu temporari flight restrict area ...        4\n",
       "83    83         googl person finder boston marathon explos        4\n",
       "84    84  googl person finder locat miss boston marathon...        4\n",
       "85    85  tri defeat human spirit marathon wrong group t...        3\n",
       "86    86  mrjakehumphrey report marathon runner cross fi...        3\n",
       "87    87  googl person finder locat miss boston marathon...        4\n",
       "88    88  new aerial imag show boston bomb suspect boat ...        2\n",
       "89    89  report boston marathon runner cross finish lin...        4\n",
       "90    90  boston explos news least 3 dead 140 injur mara...        0\n",
       "91    91  report boston marathon runner cross finish lin...        4\n",
       "92    92  new aerial imag show boston bomb suspect boat ...        2\n",
       "93    93  marathon bomb suspect elud polic hunt shut bos...        2\n",
       "\n",
       "[94 rows x 3 columns]"
      ]
     },
     "execution_count": 285,
     "metadata": {},
     "output_type": "execute_result"
    }
   ],
   "source": [
    "frame"
   ]
  },
  {
   "cell_type": "code",
   "execution_count": 295,
   "metadata": {
    "collapsed": false
   },
   "outputs": [
    {
     "data": {
      "text/plain": [
       "[Counter({u'04': 1,\n",
       "          u'1': 1,\n",
       "          u'13': 1,\n",
       "          u'140': 7,\n",
       "          u'15': 1,\n",
       "          u'3': 7,\n",
       "          u'45': 1,\n",
       "          u'_bostonmarathon': 1,\n",
       "          u'attack': 1,\n",
       "          u'blood': 2,\n",
       "          u'bomb': 31,\n",
       "          u'boston': 21,\n",
       "          u'bostonbomb': 1,\n",
       "          u'bostonmarathon': 5,\n",
       "          u'citi': 3,\n",
       "          u'clue': 5,\n",
       "          u'cnn': 1,\n",
       "          u'co': 1,\n",
       "          u'cooker': 5,\n",
       "          u'current': 1,\n",
       "          u'cut': 1,\n",
       "          u'day': 3,\n",
       "          u'dead': 7,\n",
       "          u'demand': 1,\n",
       "          u'detail': 8,\n",
       "          u'domest': 1,\n",
       "          u'donat': 1,\n",
       "          u'donor': 1,\n",
       "          u'emerg': 5,\n",
       "          u'enough': 1,\n",
       "          u'everi': 1,\n",
       "          u'examin': 4,\n",
       "          u'examinatio': 1,\n",
       "          u'explos': 5,\n",
       "          u'fbi': 8,\n",
       "          u'forens': 5,\n",
       "          u'g9dwqstmgh': 1,\n",
       "          u'generos': 1,\n",
       "          u'http': 1,\n",
       "          u'huffpostcrim': 3,\n",
       "          u'huffpostworld': 1,\n",
       "          u'injur': 7,\n",
       "          u'least': 7,\n",
       "          u'live': 5,\n",
       "          u'marathon': 20,\n",
       "          u'meet': 1,\n",
       "          u'metal': 5,\n",
       "          u'na': 1,\n",
       "          u'name': 1,\n",
       "          u'new': 8,\n",
       "          u'news': 6,\n",
       "          u'obama': 1,\n",
       "          u'offici': 3,\n",
       "          u'oklahoma': 3,\n",
       "          u'one': 2,\n",
       "          u'pack': 5,\n",
       "          u'pittsburgh': 1,\n",
       "          u'playboy': 1,\n",
       "          u'prayforboston': 1,\n",
       "          u'pressur': 5,\n",
       "          u'prevent': 1,\n",
       "          u'receiv': 1,\n",
       "          u'regim': 1,\n",
       "          u'releas': 8,\n",
       "          u'retweet': 1,\n",
       "          u'shelv': 1,\n",
       "          u'site': 2,\n",
       "          u'spend': 1,\n",
       "          u'tg': 1,\n",
       "          u'thank': 1,\n",
       "          u'two': 2,\n",
       "          u'updat': 6,\n",
       "          u'us': 3,\n",
       "          u'use': 7,\n",
       "          u'via': 5,\n",
       "          u'victim': 1,\n",
       "          u'volunt': 1,\n",
       "          u'within': 3,\n",
       "          u'wmur9': 1}),\n",
       " Counter({u'1': 1,\n",
       "          u'316': 1,\n",
       "          u'800': 1,\n",
       "          u'99': 1,\n",
       "          u'approach': 1,\n",
       "          u'bomber': 9,\n",
       "          u'boston': 8,\n",
       "          u'bostonmarathon': 2,\n",
       "          u'call': 2,\n",
       "          u'car': 1,\n",
       "          u'citizen': 1,\n",
       "          u'color': 1,\n",
       "          u'crv': 1,\n",
       "          u'dead': 9,\n",
       "          u'es9': 1,\n",
       "          u'fbi': 2,\n",
       "          u'gray': 1,\n",
       "          u'honda': 1,\n",
       "          u'kout': 1,\n",
       "          u'lookout': 5,\n",
       "          u'manhunt': 8,\n",
       "          u'marathon': 8,\n",
       "          u'news': 5,\n",
       "          u'one': 9,\n",
       "          u'plate': 1,\n",
       "          u'polic': 9,\n",
       "          u'possibl': 1,\n",
       "          u'recogn': 1,\n",
       "          u'run': 9,\n",
       "          u'say': 8,\n",
       "          u'second': 9,\n",
       "          u'seek': 1,\n",
       "          u'suspect': 11,\n",
       "          u'via': 7,\n",
       "          u'want': 2,\n",
       "          u'yahoo': 6,\n",
       "          u'yahoonew': 6}),\n",
       " Counter({u'abc': 1,\n",
       "          u'aerial': 11,\n",
       "          u'arrest': 2,\n",
       "          u'black': 2,\n",
       "          u'boat': 11,\n",
       "          u'bomb': 28,\n",
       "          u'bos': 1,\n",
       "          u'boston': 27,\n",
       "          u'bostonmarathon': 2,\n",
       "          u'break': 5,\n",
       "          u'busi': 2,\n",
       "          u'byther': 1,\n",
       "          u'cas': 1,\n",
       "          u'case': 1,\n",
       "          u'caught': 4,\n",
       "          u'charg': 1,\n",
       "          u'co': 1,\n",
       "          u'could': 7,\n",
       "          u'custodi': 1,\n",
       "          u'death': 3,\n",
       "          u'dual': 1,\n",
       "          u'elud': 8,\n",
       "          u'entrepreneurship': 1,\n",
       "          u'explos': 1,\n",
       "          u'fed': 3,\n",
       "          u'five': 4,\n",
       "          u'follow': 1,\n",
       "          u'good': 1,\n",
       "          u'hawk': 1,\n",
       "          u'helicopt': 1,\n",
       "          u'hospit': 3,\n",
       "          u'http': 1,\n",
       "          u'hunt': 7,\n",
       "          u'im': 1,\n",
       "          u'imag': 13,\n",
       "          u'info': 1,\n",
       "          u'intub': 3,\n",
       "          u'major': 4,\n",
       "          u'manhunt': 1,\n",
       "          u'manhuntboston': 1,\n",
       "          u'marathon': 10,\n",
       "          u'mashabl': 3,\n",
       "          u'massachusett': 5,\n",
       "          u'nation': 1,\n",
       "          u'new': 11,\n",
       "          u'news': 3,\n",
       "          u'newsmarathon': 1,\n",
       "          u'penalti': 3,\n",
       "          u'po': 1,\n",
       "          u'polic': 11,\n",
       "          u'releas': 4,\n",
       "          u'reuter': 5,\n",
       "          u'saudi': 1,\n",
       "          u'sedat': 3,\n",
       "          u'seek': 3,\n",
       "          u'seri': 1,\n",
       "          u'show': 11,\n",
       "          u'shut': 7,\n",
       "          u'socialmedia': 3,\n",
       "          u'speak': 3,\n",
       "          u'state': 4,\n",
       "          u'surveil': 4,\n",
       "          u'suspect': 28,\n",
       "          u'taken': 1,\n",
       "          u'teamfollowback': 1,\n",
       "          u'tech': 1,\n",
       "          u'terror': 1,\n",
       "          u'unabl': 3,\n",
       "          u'us': 1,\n",
       "          u'usworld': 1,\n",
       "          u'via': 2,\n",
       "          u'video': 4,\n",
       "          u'watertown': 2,\n",
       "          u'wookala': 1,\n",
       "          u'worldnew': 1,\n",
       "          u'yfo1dqhbof': 1}),\n",
       " Counter({u'amen': 1,\n",
       "          u'blood': 6,\n",
       "          u'bostonmarathon': 5,\n",
       "          u'continu': 6,\n",
       "          u'cross': 6,\n",
       "          u'defeat': 5,\n",
       "          u'finish': 6,\n",
       "          u'general': 5,\n",
       "          u'give': 6,\n",
       "          u'group': 5,\n",
       "          u'hero': 1,\n",
       "          u'hospit': 6,\n",
       "          u'human': 5,\n",
       "          u'line': 6,\n",
       "          u'marathon': 11,\n",
       "          u'mass': 5,\n",
       "          u'mikandynothem': 1,\n",
       "          u'mrjakehumphrey': 1,\n",
       "          u'prayforboston': 4,\n",
       "          u'report': 4,\n",
       "          u'respect': 1,\n",
       "          u'run': 6,\n",
       "          u'runner': 6,\n",
       "          u'spirit': 5,\n",
       "          u'target': 5,\n",
       "          u'tcot': 2,\n",
       "          u'tgdn': 2,\n",
       "          u'tri': 5,\n",
       "          u'victim': 6,\n",
       "          u'wow': 1,\n",
       "          u'wrong': 5}),\n",
       " Counter({u'3': 1,\n",
       "          u'also': 4,\n",
       "          u'anoth': 1,\n",
       "          u'area': 1,\n",
       "          u'blast': 1,\n",
       "          u'bless': 3,\n",
       "          u'blood': 2,\n",
       "          u'bomb': 4,\n",
       "          u'boston': 24,\n",
       "          u'bostonmarathon': 1,\n",
       "          u'break': 1,\n",
       "          u'broken': 1,\n",
       "          u'cc': 1,\n",
       "          u'cellphon': 2,\n",
       "          u'china': 1,\n",
       "          u'citi': 1,\n",
       "          u'co': 1,\n",
       "          u'confirm': 1,\n",
       "          u'continu': 2,\n",
       "          u'cross': 2,\n",
       "          u'dead': 1,\n",
       "          u'design': 1,\n",
       "          u'deton': 2,\n",
       "          u'effect': 1,\n",
       "          u'escap': 4,\n",
       "          u'explos': 19,\n",
       "          u'faa': 1,\n",
       "          u'feel': 3,\n",
       "          u'finder': 9,\n",
       "          u'finish': 2,\n",
       "          u'flight': 1,\n",
       "          u'follow': 1,\n",
       "          u'give': 2,\n",
       "          u'googl': 11,\n",
       "          u'grad': 1,\n",
       "          u'heart': 1,\n",
       "          u'heartbreak': 1,\n",
       "          u'help': 1,\n",
       "          u'hospit': 2,\n",
       "          u'http': 1,\n",
       "          u'immedi': 1,\n",
       "          u'inform': 1,\n",
       "          u'innov': 1,\n",
       "          u'investig': 1,\n",
       "          u'issu': 1,\n",
       "          u'jfk': 1,\n",
       "          u'justic': 1,\n",
       "          u'kill': 1,\n",
       "          u'librari': 1,\n",
       "          u'line': 2,\n",
       "          u'locat': 7,\n",
       "          u'marathon': 17,\n",
       "          u'mashabl': 1,\n",
       "          u'miss': 7,\n",
       "          u'nbcnew': 1,\n",
       "          u'near': 1,\n",
       "          u'offici': 2,\n",
       "          u'one': 1,\n",
       "          u'peac': 1,\n",
       "          u'peopl': 1,\n",
       "          u'person': 9,\n",
       "          u'plant': 4,\n",
       "          u'polic': 1,\n",
       "          u'pray': 1,\n",
       "          u'prevent': 2,\n",
       "          u'releas': 1,\n",
       "          u'remot': 2,\n",
       "          u'report': 2,\n",
       "          u'resourc': 1,\n",
       "          u'restor': 1,\n",
       "          u'restrict': 1,\n",
       "          u'run': 2,\n",
       "          u'runner': 6,\n",
       "          u'say': 1,\n",
       "          u'sbedrick': 1,\n",
       "          u'servic': 2,\n",
       "          u'shut': 2,\n",
       "          u'site': 1,\n",
       "          u'statist': 1,\n",
       "          u'student': 1,\n",
       "          u'studi': 1,\n",
       "          u'suspect': 1,\n",
       "          u'tech': 1,\n",
       "          u'temporari': 1,\n",
       "          u'texa': 4,\n",
       "          u'two': 1,\n",
       "          u'u': 1,\n",
       "          u'unreal': 1,\n",
       "          u'unscath': 4,\n",
       "          u'via': 4,\n",
       "          u'victim': 2,\n",
       "          u'washingtonpost': 1,\n",
       "          u'wit': 4,\n",
       "          u'wow': 1,\n",
       "          u'ybxu0kcj3q': 1})]"
      ]
     },
     "execution_count": 295,
     "metadata": {},
     "output_type": "execute_result"
    }
   ],
   "source": [
    "#Finding out the most frequent words in the clusters. \n",
    "\n",
    "from collections import Counter,defaultdict\n",
    "most_frequent = []\n",
    "\n",
    "for j in xrange(5):\n",
    "    words = []\n",
    "    for i in xrange(94):\n",
    "        if frame.loc[i]['cluster'] == j:\n",
    "            words += frame.loc[i]['tweets'].split()\n",
    "            \n",
    "    word_counts = Counter(words) #counts the number each time a word appears\n",
    "    most_frequent.append(word_counts)\n",
    "most_frequent"
   ]
  },
  {
   "cell_type": "code",
   "execution_count": 313,
   "metadata": {
    "collapsed": false,
    "scrolled": true
   },
   "outputs": [
    {
     "name": "stdout",
     "output_type": "stream",
     "text": [
      "[(u'bomb', 31), (u'boston', 21), (u'marathon', 20), (u'fbi', 8), (u'detail', 8)]\n",
      "[(u'suspect', 11), (u'dead', 9), (u'one', 9), (u'bomber', 9), (u'polic', 9)]\n",
      "[(u'bomb', 28), (u'suspect', 28), (u'boston', 27), (u'imag', 13), (u'show', 11)]\n",
      "[(u'marathon', 11), (u'victim', 6), (u'give', 6), (u'runner', 6), (u'continu', 6)]\n",
      "[(u'boston', 24), (u'explos', 19), (u'marathon', 17), (u'googl', 11), (u'finder', 9)]\n"
     ]
    }
   ],
   "source": [
    "from operator import itemgetter\n",
    "cluster_theme = []\n",
    "for i in xrange(5):\n",
    "    cluster_theme.append(sorted(most_frequent[i].items(),key=itemgetter(1),reverse=True)[:5])\n",
    "for each in cluster_theme:\n",
    "    print(each)"
   ]
  },
  {
   "cell_type": "code",
   "execution_count": 264,
   "metadata": {
    "collapsed": false
   },
   "outputs": [
    {
     "data": {
      "text/plain": [
       "2    27\n",
       "0    23\n",
       "4    22\n",
       "3    11\n",
       "1    11\n",
       "Name: cluster, dtype: int64"
      ]
     },
     "execution_count": 264,
     "metadata": {},
     "output_type": "execute_result"
    }
   ],
   "source": [
    "#Cluster Nos   #No. of tweets in the cluster\n",
    "frame['cluster'].value_counts()"
   ]
  },
  {
   "cell_type": "code",
   "execution_count": 265,
   "metadata": {
    "collapsed": false,
    "scrolled": true
   },
   "outputs": [
    {
     "data": {
      "text/plain": [
       "cluster\n",
       "0    46.434783\n",
       "1    39.090909\n",
       "2    41.333333\n",
       "3    37.909091\n",
       "4    60.909091\n",
       "Name: rank, dtype: float64"
      ]
     },
     "execution_count": 265,
     "metadata": {},
     "output_type": "execute_result"
    }
   ],
   "source": [
    "grouped = frame['rank'].groupby(frame['cluster'])\n",
    "\n",
    "grouped.mean()"
   ]
  },
  {
   "cell_type": "code",
   "execution_count": 266,
   "metadata": {
    "collapsed": true
   },
   "outputs": [],
   "source": [
    "from sklearn.manifold import MDS\n",
    "\n",
    "MDS()\n",
    "\n",
    "# two components as we're plotting points in a two-dimensional plane\n",
    "# \"precomputed\" because we provide a distance matrix\n",
    "# we will also specify `random_state` so the plot is reproducible.\n",
    "mds = MDS(n_components=2, dissimilarity=\"precomputed\", random_state=1)\n",
    "\n",
    "pos = mds.fit_transform(dist)  # shape (n_components, n_samples)\n",
    "\n",
    "xs, ys = pos[:, 0], pos[:, 1]"
   ]
  },
  {
   "cell_type": "code",
   "execution_count": 286,
   "metadata": {
    "collapsed": true
   },
   "outputs": [],
   "source": [
    "#set up colors per clusters using a dict\n",
    "cluster_colors = {0: '#1b9e77', 1: '#d95f02', 2: '#7570b3', 3: '#e7298a', 4: '#66a61e'}\n",
    "\n",
    "#set up cluster names using a dict\n",
    "cluster_names = {0: cluster_theme[0], \n",
    "                 1: cluster_theme[1], \n",
    "                 2: cluster_theme[2], \n",
    "                 3: cluster_theme[3], \n",
    "                 4: cluster_theme[4]}"
   ]
  },
  {
   "cell_type": "code",
   "execution_count": 268,
   "metadata": {
    "collapsed": true
   },
   "outputs": [],
   "source": [
    "%matplotlib inline\n",
    "import matplotlib.pyplot as plt"
   ]
  },
  {
   "cell_type": "code",
   "execution_count": 287,
   "metadata": {
    "collapsed": false
   },
   "outputs": [
    {
     "data": {
      "image/png": "[encoded data removed]",
      "text/plain": [
       "<matplotlib.figure.Figure at 0x7f473d37c6d0>"
      ]
     },
     "metadata": {},
     "output_type": "display_data"
    }
   ],
   "source": [
    "#create data frame that has the result of the MDS plus the cluster numbers and titles\n",
    "df = pd.DataFrame(dict(x=xs, y=ys, label=clusters, rank=frame['rank'])) \n",
    "\n",
    "#group by cluster\n",
    "groups = df.groupby('label')\n",
    "\n",
    "\n",
    "# set up plot\n",
    "fig, ax = plt.subplots(figsize=(17, 9)) # set size\n",
    "ax.margins(0.05) # Optional, just adds 5% padding to the autoscaling\n",
    "\n",
    "#iterate through groups to layer the plot\n",
    "#note that I use the cluster_name and cluster_color dicts with the 'name' lookup to return the appropriate color/label\n",
    "for name, group in groups:\n",
    "    ax.plot(group.x, group.y, marker='o', linestyle='', ms=12, label=cluster_names[name], color=cluster_colors[name], mec='none')\n",
    "    ax.set_aspect('auto')\n",
    "    ax.tick_params(\\\n",
    "        axis= 'x',          # changes apply to the x-axis\n",
    "        which='both',      # both major and minor ticks are affected\n",
    "        bottom='off',      # ticks along the bottom edge are off\n",
    "        top='off',         # ticks along the top edge are off\n",
    "        labelbottom='off')\n",
    "    ax.tick_params(\\\n",
    "        axis= 'y',         # changes apply to the y-axis\n",
    "        which='both',      # both major and minor ticks are affected\n",
    "        left='off',      # ticks along the bottom edge are off\n",
    "        top='off',         # ticks along the top edge are off\n",
    "        labelleft='off')\n",
    "    \n",
    "ax.legend(numpoints=1)  #show legend with only 1 point\n",
    "\n",
    "#add label in x,y position with the label as the tweet rank \n",
    "for i in range(len(df)):\n",
    "    ax.text(df.ix[i]['x'], df.ix[i]['y'], df.ix[i]['rank'], size=16)  \n",
    " \n",
    "    \n",
    "plt.show() #show the plot\n",
    "\n",
    "#plt.savefig('clusters_small_noaxes.png', dpi=200)"
   ]
  }
 ],
 "metadata": {
  "kernelspec": {
   "display_name": "Python 2",
   "language": "python",
   "name": "python2"
  },
  "language_info": {
   "codemirror_mode": {
    "name": "ipython",
    "version": 2
   },
   "file_extension": ".py",
   "mimetype": "text/x-python",
   "name": "python",
   "nbconvert_exporter": "python",
   "pygments_lexer": "ipython2",
   "version": "2.7.12"
  }
 },
 "nbformat": 4,
 "nbformat_minor": 2
}
