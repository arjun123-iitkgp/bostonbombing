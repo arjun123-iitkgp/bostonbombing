{
 "cells": [
  {
   "cell_type": "code",
   "execution_count": 42,
   "metadata": {
    "collapsed": true,
    "deletable": true,
    "editable": true
   },
   "outputs": [],
   "source": [
    "import pandas as pd\n",
    "import nltk"
   ]
  },
  {
   "cell_type": "code",
   "execution_count": 43,
   "metadata": {
    "collapsed": false,
    "deletable": true,
    "editable": true
   },
   "outputs": [],
   "source": [
    "df = pd.read_csv('boston.csv')"
   ]
  },
  {
   "cell_type": "code",
   "execution_count": 44,
   "metadata": {
    "collapsed": false,
    "deletable": true,
    "editable": true,
    "scrolled": false
   },
   "outputs": [
    {
     "data": {
      "text/html": [
       "<div>\n",
       "<table border=\"1\" class=\"dataframe\">\n",
       "  <thead>\n",
       "    <tr style=\"text-align: right;\">\n",
       "      <th></th>\n",
       "      <th>text</th>\n",
       "      <th>id</th>\n",
       "      <th>from_user</th>\n",
       "      <th>iso_language_code</th>\n",
       "    </tr>\n",
       "  </thead>\n",
       "  <tbody>\n",
       "    <tr>\n",
       "      <th>0</th>\n",
       "      <td>RT @ItsJennaMarbles: Reports of Marathon Runne...</td>\n",
       "      <td>323906397609791488</td>\n",
       "      <td>sangyashrestha</td>\n",
       "      <td>en</td>\n",
       "    </tr>\n",
       "    <tr>\n",
       "      <th>1</th>\n",
       "      <td>RT @NBCSN: Reports of Marathon Runners that cr...</td>\n",
       "      <td>323906397618196483</td>\n",
       "      <td>ChelseaGilson</td>\n",
       "      <td>en</td>\n",
       "    </tr>\n",
       "    <tr>\n",
       "      <th>2</th>\n",
       "      <td>RT @NBCSN: Reports of Marathon Runners that cr...</td>\n",
       "      <td>323906397735641088</td>\n",
       "      <td>Blakstoise</td>\n",
       "      <td>en</td>\n",
       "    </tr>\n",
       "    <tr>\n",
       "      <th>3</th>\n",
       "      <td>RT @PeterBurnsRadio: RT @NBCSN: Reports of Mar...</td>\n",
       "      <td>323906397853073410</td>\n",
       "      <td>markson</td>\n",
       "      <td>en</td>\n",
       "    </tr>\n",
       "    <tr>\n",
       "      <th>4</th>\n",
       "      <td>RT @NBCSN: Reports of Marathon Runners that cr...</td>\n",
       "      <td>323906397962121216</td>\n",
       "      <td>MarlyCakes85</td>\n",
       "      <td>en</td>\n",
       "    </tr>\n",
       "  </tbody>\n",
       "</table>\n",
       "</div>"
      ],
      "text/plain": [
       "                                                text                  id  \\\n",
       "0  RT @ItsJennaMarbles: Reports of Marathon Runne...  323906397609791488   \n",
       "1  RT @NBCSN: Reports of Marathon Runners that cr...  323906397618196483   \n",
       "2  RT @NBCSN: Reports of Marathon Runners that cr...  323906397735641088   \n",
       "3  RT @PeterBurnsRadio: RT @NBCSN: Reports of Mar...  323906397853073410   \n",
       "4  RT @NBCSN: Reports of Marathon Runners that cr...  323906397962121216   \n",
       "\n",
       "        from_user iso_language_code  \n",
       "0  sangyashrestha                en  \n",
       "1   ChelseaGilson                en  \n",
       "2      Blakstoise                en  \n",
       "3         markson                en  \n",
       "4    MarlyCakes85                en  "
      ]
     },
     "execution_count": 44,
     "metadata": {},
     "output_type": "execute_result"
    }
   ],
   "source": [
    "df.head()"
   ]
  },
  {
   "cell_type": "code",
   "execution_count": 45,
   "metadata": {
    "collapsed": false,
    "deletable": true,
    "editable": true,
    "scrolled": true
   },
   "outputs": [
    {
     "data": {
      "text/plain": [
       "(251, 4)"
      ]
     },
     "execution_count": 45,
     "metadata": {},
     "output_type": "execute_result"
    }
   ],
   "source": [
    "df.shape"
   ]
  },
  {
   "cell_type": "code",
   "execution_count": 46,
   "metadata": {
    "collapsed": false,
    "deletable": true,
    "editable": true
   },
   "outputs": [
    {
     "data": {
      "text/plain": [
       "'RT @ItsJennaMarbles: Reports of Marathon Runners that crossed finish line and continued to run to Mass General Hospital to give blood to victims. #PrayforBoston'"
      ]
     },
     "execution_count": 46,
     "metadata": {},
     "output_type": "execute_result"
    }
   ],
   "source": [
    "df['text'][0]"
   ]
  },
  {
   "cell_type": "code",
   "execution_count": 47,
   "metadata": {
    "collapsed": true,
    "deletable": true,
    "editable": true
   },
   "outputs": [],
   "source": [
    "from nltk.corpus import stopwords"
   ]
  },
  {
   "cell_type": "code",
   "execution_count": 48,
   "metadata": {
    "collapsed": false,
    "deletable": true,
    "editable": true
   },
   "outputs": [],
   "source": [
    "stopwords = set(stopwords.words('english'))"
   ]
  },
  {
   "cell_type": "code",
   "execution_count": 49,
   "metadata": {
    "collapsed": false,
    "deletable": true,
    "editable": true
   },
   "outputs": [
    {
     "data": {
      "text/plain": [
       "153"
      ]
     },
     "execution_count": 49,
     "metadata": {},
     "output_type": "execute_result"
    }
   ],
   "source": [
    "len(stopwords) "
   ]
  },
  {
   "cell_type": "code",
   "execution_count": 50,
   "metadata": {
    "collapsed": false,
    "deletable": true,
    "editable": true
   },
   "outputs": [
    {
     "data": {
      "text/plain": [
       "text                 RT @ItsJennaMarbles: Reports of Marathon Runne...\n",
       "id                                                  323906397609791488\n",
       "from_user                                               sangyashrestha\n",
       "iso_language_code                                                   en\n",
       "Name: 0, dtype: object"
      ]
     },
     "execution_count": 50,
     "metadata": {},
     "output_type": "execute_result"
    }
   ],
   "source": [
    "df.loc[0]"
   ]
  },
  {
   "cell_type": "code",
   "execution_count": 51,
   "metadata": {
    "collapsed": false,
    "deletable": true,
    "editable": true
   },
   "outputs": [],
   "source": [
    "import numpy as np\n",
    "df['links'] = np.nan   #Adding new column for urls present in the tweets."
   ]
  },
  {
   "cell_type": "code",
   "execution_count": 52,
   "metadata": {
    "collapsed": false,
    "deletable": true,
    "editable": true
   },
   "outputs": [
    {
     "data": {
      "text/plain": [
       "251"
      ]
     },
     "execution_count": 52,
     "metadata": {},
     "output_type": "execute_result"
    }
   ],
   "source": [
    "import re\n",
    "tweets = []\n",
    "for i in xrange(251):\n",
    "    tweets.append(df.loc[i]['text'])\n",
    "\n",
    "len(tweets)\n"
   ]
  },
  {
   "cell_type": "code",
   "execution_count": 53,
   "metadata": {
    "collapsed": false,
    "deletable": true,
    "editable": true,
    "scrolled": false
   },
   "outputs": [
    {
     "name": "stdout",
     "output_type": "stream",
     "text": [
      "Printing first 50/(maximum 140 characters) of first all tweets from dataset:\n",
      "RT Reports of Marathon Runners that crossed finish\n",
      "RT Reports of Marathon Runners that crossed finish\n",
      "RT Reports of Marathon Runners that crossed finish\n",
      "RT RT Reports of Marathon Runners that crossed fin\n",
      "RT Reports of Marathon Runners that crossed finish\n",
      "RT Reports of Marathon Runners that crossed finish\n",
      "RT RT Reports of Marathon Runners that crossed fin\n",
      "RT Reports of Marathon Runners that crossed finish\n",
      "@mrjakehumphrey Reports of Marathon Runners that c\n",
      "RT @Google - Google Person Finder Locates Missing \n",
      "RT #Boston police confirm another explosion at cit\n",
      "RT Reports of Marathon Runners that crossed finish\n",
      "RT There are reports of Boston Marathon runners cr\n",
      "RT Reports of Marathon Runners that crossed finish\n",
      "RT Reports of Marathon Runners that crossed finish\n",
      "RT Wow. RT Reports of Marathon Runners that crosse\n",
      "RT Google Person Finder Locates Missing at Boston \n",
      "Resource Google Person Finder Locates Missing at B\n",
      "RT RT Thanks to generosity of volunteer blood dono\n",
      "RT Thanks to generosity of volunteer blood donors \n",
      "RT #Boston police confirm another explosion at cit\n",
      "RT Official: Cellphone service shut down in Boston\n",
      "RT RT Cellphone service shut down in Boston to pre\n",
      "RT RT Cellphone service shut down in Boston to pre\n",
      "RT RT Cellphone service shut down in Boston to pre\n",
      "RT RT Reports of Marathon Runners that crossed fin\n",
      "\"Reports of Boston Marathon runners crossing finis\n",
      "RT #Boston police confirm another explosion at cit\n",
      "RT marathon runners that crossed finish line conti\n",
      "RT There are reports of Boston Marathon runners cr\n",
      "RT Marathon runners crossed the finish line and co\n",
      "RT Marathon runners crossed the finish line and co\n",
      "RT RT #Breaking: The FAA issued a Temporary flight\n",
      "RT #Boston police confirm another explosion at cit\n",
      "RT #Boston police confirm another explosion at cit\n",
      "RT Google Person Finder Locates Missing at Boston \n",
      "RT Thanks to generosity of volunteer blood donors \n",
      "RT Google Person Finder Locates Missing at Boston \n",
      "RT Google Person Finder Locates Missing at Boston \n",
      "Google Person Finder Locates Missing at Boston Mar\n",
      "RT Thanks to generosity of volunteer blood donors \n",
      "RT Google Person Finder: Boston Marathon Explosion\n",
      "RT Thanks to generosity of volunteer blood donors \n",
      "RT Google Person Finder Locates Missing at Boston \n",
      "RT Google Person Finder Locates Missing at Boston \n",
      "Google Person Finder Locates Missing at Boston Mar\n",
      "RT Google Person Finder Locates Missing at Boston \n",
      "RT Thanks to generosity of volunteer blood donors \n",
      "RT Google Person Finder Locates Missing at Boston \n",
      "RT RT Thanks to generosity of volunteer blood dono\n",
      "RT Google Person Finder Locates Missing at Boston \n",
      "RT Thanks to generosity of volunteer blood donors \n",
      "RT Google Person finder Boston Marathon Explosion\n",
      "Google Person Finder Locates Missing at Boston Mar\n",
      "Google Person Finder Locates Missing at Boston Mar\n",
      "RT Thanks to generosity of volunteer blood donors \n",
      "RT Google Person Finder: Boston Marathon Explosion\n",
      "RT Google Person Finder: Boston Marathon Explosion\n",
      "RT Google Person Finder: Boston Marathon Explosion\n",
      "Google Person Finder Locates Missing at Boston Mar\n",
      "RT Google Person Finder: Boston Marathon Explosion\n",
      "Google Person Finder Locates Missing at Boston Mar\n",
      "RT Google Person Finder: Boston Marathon Explosion\n",
      "RT Google Person Finder Locates Missing at Boston \n",
      "Google Person Finder Locates Missing at Boston Mar\n",
      "Google Person Finder Locates Missing at Boston Mar\n",
      "RT #Boston police confirm another explosion at cit\n",
      "RT #Boston police confirm another explosion at cit\n",
      "Boston Explosion News: At Least 3 Dead, 140 Injure\n",
      "RT My heart is broken for the people of Boston, th\n",
      "RT My heart is broken for the people of Boston, th\n",
      "Boston Explosion News: At Least 3 Dead, 140 Injure\n",
      "Boston Bombing Suspect: Saudi National in Custody,\n",
      "Boston Bombing Suspect: Saudi National in Custody,\n",
      "At Least 3 Dead, 140 Injured In Boston Marathon Bo\n",
      "RT Boston Explosion News: At Least 3 Dead, 140 Inj\n",
      "Boston Explosion News: At Least 3 Dead, 140 Injure\n",
      "Boston Explosion News: At Least 3 Dead, 140 Injure\n",
      "RT \"@HuffPostWorld: Boston Explosion News: At Leas\n",
      "Boston Explosion News: At Least 3 Dead, 140 Injure\n",
      "(LIVE UPDATES) #BostonMarathon: At Least 3 Dead, 1\n",
      "RT My heart is broken for the people of Boston, th\n",
      "\"If you are trying to defeat the human spirit, mar\n",
      "RT #Boston police confirm another explosion at cit\n",
      "RT #Boston police confirm another explosion at cit\n",
      "Boston Explosion News: At Least 3 Dead, 140 Injure\n",
      "RT #Breaking: The FAA has issued a Temporary fligh\n",
      "Boston bombing 'used pressure cooker packed with m\n",
      "Boston bombing 'used pressure cooker packed with m\n",
      "Boston bombing 'used pressure cooker packed with m\n",
      "For every retweet we receive we will donate $1 to \n",
      "RT For every retweet we receive we will donate $1 \n",
      "If you are trying to defeat the human spirit, #mar\n",
      "If you are trying to defeat the human spirit, mara\n",
      "RT For every retweet we receive we will donate $1 \n",
      "RT Obama Regime Cut Spending for Domestic Bombing \n",
      "RT For every retweet we receive we will donate $1 \n",
      "RT For every retweet we receive we will donate $1 \n",
      "RT If you are trying to defeat the human spirit, M\n",
      "RT For every retweet we receive we will donate $1 \n",
      "RT If you are trying to defeat the human spirit, M\n",
      "RT For every retweet we receive we will donate $1 \n",
      "RT For every retweet we receive we will donate $1 \n",
      "RT For every retweet we receive we will donate $1 \n",
      "RT For every retweet we receive we will donate $1 \n",
      "RT For every retweet we receive we will donate $1 \n",
      "RT Obama Regime Cut Spending for Domestic Bombing \n",
      "RT For every retweet we receive we will donate $1 \n",
      "FBI releases new details on Boston Marathon bombs \n",
      "FBI releases new details on Boston Marathon bombs:\n",
      "FBI releases new details on Boston Marathon bombs:\n",
      "FBI releases new details on Boston Marathon bombs:\n",
      "RT Obama Regime Cut Spending for Domestic Bombing \n",
      ".@mikandynothem: If you are trying to defeat the h\n",
      "RT One of the 3 killed in Boston explosions was a \n",
      "RT One of the 3 killed in Boston explosions was a \n",
      "RT One of the 3 killed in Boston explosions was a \n",
      "RT One of the 3 killed in Boston explosions was a \n",
      "RT One of the 3 killed in Boston explosions was a \n",
      "RT One of the 3 killed in Boston explosions was a \n",
      "Boston marathon bombs 'used pressure cooker packed\n",
      "Boston marathon bombs 'used pressure cooker packed\n",
      "RT Boston marathon bombs 'used pressure cooker pac\n",
      "RT Boston marathon bombs 'used pressure cooker pac\n",
      "RT Boston marathon bombs 'used pressure cooker pac\n",
      "RT Boston marathon bombs 'used pressure cooker pac\n",
      "FBI releases new details on #Boston Marathon bombs\n",
      "FBI releases new details on Boston Marathon bombs:\n",
      "FBI releases new details on Boston Marathon bombs:\n",
      "FBI releases new details on Boston Marathon bombs\n",
      "FBI releases new details on Boston Marathon bombs \n",
      "FBI releases new details on Boston Marathon bombs:\n",
      "FBI releases new details on Boston Marathon bombs:\n",
      "CNN US: FBI releases new details on Boston Maratho\n",
      "FBI releases new details on Boston Marathon bombs:\n",
      "FBI releases new details on Boston Marathon bombs:\n",
      "rt @wmur9 FBI releases new details on Boston Marat\n",
      "RT Investigators have released more information, b\n",
      "RT Investigators have released more information, b\n",
      "RT Investigators have released more information, b\n",
      "RT Investigators have released more information, b\n",
      "FBI releases new details on Boston Marathon bombs\n",
      "RT Investigators have released more information, b\n",
      "RT Obama Regime Cut Spending for Domestic Bombing \n",
      "Boston Explosion News: At Least 3 Dead, 140 Injure\n",
      "RT Obama Regime Cut Spending for Domestic Bombing \n",
      "Boston Explosion News: At Least 3 Dead, 140 Injure\n",
      "Boston bombing suspect caught on surveillance vide\n",
      "Boston bombing suspect caught on surveillance vide\n",
      "Boston bombing suspect caught on surveillance vide\n",
      "Boston bombing suspect caught on surveillance vide\n",
      "Boston bombing suspect caught on surveillance vide\n",
      "RT Boston bombing suspect caught on surveillance v\n",
      "RT Boston bombing suspect caught on surveillance v\n",
      "RT FBI wants citizens to call 1-800-CALL-FBI if th\n",
      "RT FBI wants citizens to call 1-800-CALL-FBI if th\n",
      "RT FBI wants citizens to call 1-800-CALL-FBI if th\n",
      "RT FBI wants citizens to call 1-800-CALL-FBI if th\n",
      "RT FBI wants citizens to call 1-800-CALL-FBI if th\n",
      "RT Boston Marathon runner who escaped bombing unsc\n",
      "RT 'I feel blessed': Boston Marathon runner who es\n",
      "RT 'I feel blessed': Boston Marathon runner who es\n",
      "RT 'I feel blessed': Boston Marathon runner who es\n",
      "RT FBI wants citizens to call 1-800-CALL-FBI if th\n",
      "RT \"@NBCNews 'I feel blessed': Boston Marathon run\n",
      "RT FBI wants citizens to call 1-800-CALL-FBI if th\n",
      "RT My heart is broken for the people of Boston, th\n",
      "RT FBI wants citizens to call 1-800-CALL-FBI if th\n",
      "Boston Marathon bomber: One suspect dead, second o\n",
      "Boston Marathon bomber manhunt: One suspect dead, \n",
      "Boston Marathon bomber manhunt: One suspect dead, \n",
      "Boston Marathon bomber manhunt: One suspect dead, \n",
      "Boston Marathon bomber manhunt: One suspect dead, \n",
      "Boston Marathon bomber manhunt: One suspect dead, \n",
      "Boston Marathon bomber manhunt: One suspect dead, \n",
      "Boston Marathon bomber manhunt: One suspect dead, \n",
      "#BostonMarathon bomber manhunt: One suspect dead, \n",
      "Boston Marathon bomber manhunt: One suspect dead, \n",
      "Boston Marathon bomber manhunt: One suspect dead, \n",
      "Boston Marathon bomber manhunt: One suspect dead, \n",
      "Boston Marathon bomber manhunt: One suspect dead, \n",
      "RT #WANTED: Police seeking MA Plate: 316-ES9, ’9\n",
      "RT #WANTED: Police seeking MA Plate: 316-ES9, ’9\n",
      "RT #WANTED: Police seeking MA Plate: 316-ES9, ’9\n",
      "RT #WANTED: Police seeking MA Plate: 316-ES9, ’9\n",
      "RT #WANTED: Police seeking MA Plate: 316-ES9, ’9\n",
      "RT #WANTED: Police seeking MA Plate: 316-ES9, ’9\n",
      "Marathon bomb suspect eludes police, hunt shuts Bo\n",
      "Marathon bomb suspect eludes police, hunt shuts Bo\n",
      "Marathon bomb suspect eludes police, hunt shuts Bo\n",
      "Marathon bomb suspect eludes police, hunt shuts Bo\n",
      "Marathon bomb suspect eludes police, hunt shuts Bo\n",
      "Marathon bomb suspect eludes police, hunt shuts Bo\n",
      "Marathon bomb suspect eludes police, hunt shuts Bo\n",
      "#WorldNews Marathon bomb suspect eludes police, hu\n",
      "RT BREAKING NEWS: Boston Marathon terror bombing s\n",
      "RT BREAKING NEWS: Boston Marathon terror bombing s\n",
      "RT BREAKING NEWS: Boston Marathon terror bombing s\n",
      "RT BREAKING NEWS: Boston Marathon terror bombing s\n",
      "RT BREAKING NEWS: Boston Marathon terror bombing s\n",
      "RT BREAKING NEWS: Boston Marathon terror bombing s\n",
      "RT BREAKING NEWS: Boston Marathon terror bombing s\n",
      "RT BREAKING NEWS: Boston Marathon terror bombing s\n",
      "RT BREAKING NEWS: Boston Marathon terror bombing s\n",
      "RT BREAKING NEWS: Boston Marathon terror bombing s\n",
      "RT BREAKING NEWS: Boston Marathon terror bombing s\n",
      "RT BREAKING NEWS: Boston Marathon terror bombing s\n",
      "RT BREAKING NEWS: Boston Marathon terror bombing s\n",
      "RT BREAKING NEWS: Boston Marathon terror bombing s\n",
      "RT BREAKING NEWS: Boston Marathon terror bombing s\n",
      "RT BREAKING NEWS: Boston Marathon terror bombing s\n",
      "RT BREAKING NEWS: Boston Marathon terror bombing s\n",
      "RT RT RT BREAKING NEWS: Boston Marathon terror bom\n",
      "Marathon bomb #suspect eludes police, hunt shuts B\n",
      "New Aerial Images Show Boston Bombing Suspect In B\n",
      "New Aerial Images Show Boston Bombing Suspect In B\n",
      "Good info New Aerial Images Show Boston Bombing Su\n",
      "New Aerial Images Show Boston Bombing Suspect In B\n",
      "New Aerial Images Show Boston Bombing Suspect In B\n",
      "New Aerial Images Show Boston Bombing Suspect In B\n",
      "New Aerial Images Show Boston Bombing Suspect In B\n",
      "#SocialMedia #Tech New Aerial Images Show Boston B\n",
      "New Aerial Images Show Boston Bombing Suspect In B\n",
      "#entrepreneurship New Aerial Images Show Boston Bo\n",
      "#entrepreneurship New Aerial Images Show Boston Bo\n",
      "New Aerial Images Show Boston Bombing Suspect In B\n",
      "New Aerial Images Show Boston Bombing Suspect In B\n",
      "New Aerial Images Show Boston Bombing Suspect In B\n",
      "New Aerial Images Show Boston Bombing Suspect In B\n",
      "New Aerial Images Show Boston Bombing Suspect In B\n",
      "New Aerial Images Show Boston Bombing Suspect In B\n",
      "New Aerial Images Show Boston Bombing Suspect In B\n",
      "New Aerial Images Show Boston Bombing Suspect In B\n",
      "New Aerial Images Show Boston Bombing Suspect In B\n",
      "New Aerial Images Show Boston Bombing Suspect In B\n",
      "\"@mashable: New Aerial Images Show Boston Bombing \n",
      "New Aerial Images Show Boston Bombing Suspect In B\n",
      "RT New Aerial Images Show Boston Bombing Suspect I\n",
      "RT New Aerial Images Show Boston Bombing Suspect I\n",
      "New Aerial Images Show Boston Bombing Suspect In B\n",
      "Bombing suspect unable to speak - He is sedated, i\n",
      "Bombing suspect unable to speak: He is sedated, in\n",
      "Bombing suspect unable to speak: He is sedated, in\n",
      "Bombing suspect unable to speak: He is sedated, in\n",
      "Bombing suspect unable to speak: He is sedated, in\n",
      "Bombing suspect unable to speak: He is sedated, in\n",
      "Bombing suspect unable to speak: He is sedated, in\n",
      "Bombing suspect unable to speak: He is sedated, in\n",
      "Bombing suspect unable to speak: He is sedated, in\n",
      "Bombing suspect unable to speak: He is sedated, in\n",
      "RT New Aerial Images Show Boston Bombing Suspect I\n"
     ]
    }
   ],
   "source": [
    "for i,each in enumerate(tweets):     \n",
    "    write_tweet = []\n",
    "    #urls present in the tweet.\n",
    "    urls = []\n",
    "    #url for the tweet saved in the corresponding column.\n",
    "    urls = re.findall('http[s]?://(?:[a-zA-Z]|[0-9]|[$-_@.&+]|[!*\\(\\),]|(?:%[0-9a-fA-F][0-9a-fA-F]))+', each)\n",
    "    at_the_rate = re.findall('@\\w+[:,\" \",\")\"]',each)\n",
    "    for word in each.split():\n",
    "        if word not in urls and word not in at_the_rate:\n",
    "            write_tweet.append(word)\n",
    "    write_tweet = ' '.join(write_tweet)\n",
    "    tweets[i] = write_tweet\n",
    "    \n",
    "print(\"Printing first 50/(maximum 140 characters) of first all tweets from dataset:\")\n",
    "for each in tweets:\n",
    "    print each[:50]"
   ]
  },
  {
   "cell_type": "code",
   "execution_count": 54,
   "metadata": {
    "collapsed": false,
    "deletable": true,
    "editable": true
   },
   "outputs": [
    {
     "name": "stdout",
     "output_type": "stream",
     "text": [
      "Printing first 50/(maximum 140 characters) of all tweets from dataset:\n",
      "rt reports marathon runners crossed finish line co\n",
      "rt reports marathon runners crossed finish line co\n",
      "rt reports marathon runners crossed finish line co\n",
      "rt rt reports marathon runners crossed finish line\n",
      "rt reports marathon runners crossed finish line co\n",
      "rt reports marathon runners crossed finish line co\n",
      "rt rt reports marathon runners crossed finish line\n",
      "rt reports marathon runners crossed finish line co\n",
      "mrjakehumphrey reports marathon runners crossed fi\n",
      "rt google google person finder locates missing bos\n",
      "rt boston police confirm another explosion city jf\n",
      "rt reports marathon runners crossed finish line co\n",
      "rt reports boston marathon runners crossing finish\n",
      "rt reports marathon runners crossed finish line co\n",
      "rt reports marathon runners crossed finish line co\n",
      "rt wow rt reports marathon runners crossed finish \n",
      "rt google person finder locates missing boston mar\n",
      "resource google person finder locates missing bost\n",
      "rt rt thanks generosity volunteer blood donors cur\n",
      "rt thanks generosity volunteer blood donors curren\n",
      "rt boston police confirm another explosion city jf\n",
      "rt official cellphone service shut boston prevent \n",
      "rt rt cellphone service shut boston prevent remote\n",
      "rt rt cellphone service shut boston prevent remote\n",
      "rt rt cellphone service shut boston prevent remote\n",
      "rt rt reports marathon runners crossed finish line\n",
      "reports boston marathon runners crossing finish li\n",
      "rt boston police confirm another explosion city jf\n",
      "rt marathon runners crossed finish line continued \n",
      "rt reports boston marathon runners crossing finish\n",
      "rt marathon runners crossed finish line continued \n",
      "rt marathon runners crossed finish line continued \n",
      "rt rt breaking faa issued temporary flight restric\n",
      "rt boston police confirm another explosion city jf\n",
      "rt boston police confirm another explosion city jf\n",
      "rt google person finder locates missing boston mar\n",
      "rt thanks generosity volunteer blood donors curren\n",
      "rt google person finder locates missing boston mar\n",
      "rt google person finder locates missing boston mar\n",
      "google person finder locates missing boston marath\n",
      "rt thanks generosity volunteer blood donors curren\n",
      "rt google person finder boston marathon explosions\n",
      "rt thanks generosity volunteer blood donors curren\n",
      "rt google person finder locates missing boston mar\n",
      "rt google person finder locates missing boston mar\n",
      "google person finder locates missing boston marath\n",
      "rt google person finder locates missing boston mar\n",
      "rt thanks generosity volunteer blood donors curren\n",
      "rt google person finder locates missing boston mar\n",
      "rt rt thanks generosity volunteer blood donors cur\n",
      "rt google person finder locates missing boston mar\n",
      "rt thanks generosity volunteer blood donors curren\n",
      "rt google person finder boston marathon explosion\n",
      "google person finder locates missing boston marath\n",
      "google person finder locates missing boston marath\n",
      "rt thanks generosity volunteer blood donors curren\n",
      "rt google person finder boston marathon explosion\n",
      "rt google person finder boston marathon explosion\n",
      "rt google person finder boston marathon explosion\n",
      "google person finder locates missing boston marath\n",
      "rt google person finder boston marathon explosion\n",
      "google person finder locates missing boston marath\n",
      "rt google person finder boston marathon explosion\n",
      "rt google person finder locates missing boston mar\n",
      "google person finder locates missing boston marath\n",
      "google person finder locates missing boston marath\n",
      "rt boston police confirm another explosion city jf\n",
      "rt boston police confirm another explosion city jf\n",
      "boston explosion news least 3 dead 140 injured mar\n",
      "rt heart broken people boston unreal praying peace\n",
      "rt heart broken people boston unreal praying peace\n",
      "boston explosion news least 3 dead 140 injured mar\n",
      "boston bombing suspect saudi national custody char\n",
      "boston bombing suspect saudi national custody char\n",
      "least 3 dead 140 injured boston marathon bombing v\n",
      "rt boston explosion news least 3 dead 140 injured \n",
      "boston explosion news least 3 dead 140 injured mar\n",
      "boston explosion news least 3 dead 140 injured mar\n",
      "rt huffpostworld boston explosion news least 3 dea\n",
      "boston explosion news least 3 dead 140 injured mar\n",
      "live updates bostonmarathon least 3 dead 140 injur\n",
      "rt heart broken people boston unreal praying peace\n",
      "trying defeat human spirit marathoners wrong group\n",
      "rt boston police confirm another explosion city jf\n",
      "rt boston police confirm another explosion city jf\n",
      "boston explosion news least 3 dead 140 injured mar\n",
      "rt breaking faa issued temporary flight restrictio\n",
      "boston bombing used pressure cooker packed metal c\n",
      "boston bombing used pressure cooker packed metal c\n",
      "boston bombing used pressure cooker packed metal c\n",
      "every retweet receive donate 1 bostonmarathon vict\n",
      "rt every retweet receive donate 1 bostonmarathon v\n",
      "trying defeat human spirit marathoners wrong group\n",
      "trying defeat human spirit marathoneers wrong grou\n",
      "rt every retweet receive donate 1 bostonmarathon v\n",
      "rt obama regime cut spending domestic bombing prev\n",
      "rt every retweet receive donate 1 bostonmarathon v\n",
      "rt every retweet receive donate 1 bostonmarathon v\n",
      "rt trying defeat human spirit marathoners wrong gr\n",
      "rt every retweet receive donate 1 bostonmarathon v\n",
      "rt trying defeat human spirit marathoners wrong gr\n",
      "rt every retweet receive donate 1 bostonmarathon v\n",
      "rt every retweet receive donate 1 bostonmarathon v\n",
      "rt every retweet receive donate 1 bostonmarathon v\n",
      "rt every retweet receive donate 1 bostonmarathon v\n",
      "rt every retweet receive donate 1 bostonmarathon v\n",
      "rt obama regime cut spending domestic bombing prev\n",
      "rt every retweet receive donate 1 bostonmarathon v\n",
      "fbi releases new details boston marathon bombs new\n",
      "fbi releases new details boston marathon bombs\n",
      "fbi releases new details boston marathon bombs\n",
      "fbi releases new details boston marathon bombs\n",
      "rt obama regime cut spending domestic bombing prev\n",
      "mikandynothem trying defeat human spirit marathone\n",
      "rt one 3 killed boston explosions grad student chi\n",
      "rt one 3 killed boston explosions grad student chi\n",
      "rt one 3 killed boston explosions grad student chi\n",
      "rt one 3 killed boston explosions grad student chi\n",
      "rt one 3 killed boston explosions grad student chi\n",
      "rt one 3 killed boston explosions grad student chi\n",
      "boston marathon bombs used pressure cooker packed \n",
      "boston marathon bombs used pressure cooker packed \n",
      "rt boston marathon bombs used pressure cooker pack\n",
      "rt boston marathon bombs used pressure cooker pack\n",
      "rt boston marathon bombs used pressure cooker pack\n",
      "rt boston marathon bombs used pressure cooker pack\n",
      "fbi releases new details boston marathon bombs new\n",
      "fbi releases new details boston marathon bombs wit\n",
      "fbi releases new details boston marathon bombs wit\n",
      "fbi releases new details boston marathon bombs\n",
      "fbi releases new details boston marathon bombs pit\n",
      "fbi releases new details boston marathon bombs wit\n",
      "fbi releases new details boston marathon bombs one\n",
      "cnn us fbi releases new details boston marathon bo\n",
      "fbi releases new details boston marathon bombs wit\n",
      "fbi releases new details boston marathon bombs wit\n",
      "rt wmur9 fbi releases new details boston marathon \n",
      "rt investigators released information suspect dead\n",
      "rt investigators released information suspect dead\n",
      "rt investigators released information suspect dead\n",
      "rt investigators released information suspect dead\n",
      "fbi releases new details boston marathon bombs\n",
      "rt investigators released information suspect dead\n",
      "rt obama regime cut spending domestic bombing prev\n",
      "boston explosion news least 3 dead 140 injured mar\n",
      "rt obama regime cut spending domestic bombing prev\n",
      "boston explosion news least 3 dead 140 injured mar\n",
      "boston bombing suspect caught surveillance video c\n",
      "boston bombing suspect caught surveillance video c\n",
      "boston bombing suspect caught surveillance video c\n",
      "boston bombing suspect caught surveillance video c\n",
      "boston bombing suspect caught surveillance video c\n",
      "rt boston bombing suspect caught surveillance vide\n",
      "rt boston bombing suspect caught surveillance vide\n",
      "rt fbi wants citizens call 1 800 call fbi recogniz\n",
      "rt fbi wants citizens call 1 800 call fbi recogniz\n",
      "rt fbi wants citizens call 1 800 call fbi recogniz\n",
      "rt fbi wants citizens call 1 800 call fbi recogniz\n",
      "rt fbi wants citizens call 1 800 call fbi recogniz\n",
      "rt boston marathon runner escaped bombing unscathe\n",
      "rt feel blessed boston marathon runner escaped bom\n",
      "rt feel blessed boston marathon runner escaped bom\n",
      "rt feel blessed boston marathon runner escaped bom\n",
      "rt fbi wants citizens call 1 800 call fbi recogniz\n",
      "rt nbcnews feel blessed boston marathon runner esc\n",
      "rt fbi wants citizens call 1 800 call fbi recogniz\n",
      "rt heart broken people boston unreal praying peace\n",
      "rt fbi wants citizens call 1 800 call fbi recogniz\n",
      "boston marathon bomber one suspect dead second run\n",
      "boston marathon bomber manhunt one suspect dead se\n",
      "boston marathon bomber manhunt one suspect dead se\n",
      "boston marathon bomber manhunt one suspect dead se\n",
      "boston marathon bomber manhunt one suspect dead se\n",
      "boston marathon bomber manhunt one suspect dead se\n",
      "boston marathon bomber manhunt one suspect dead se\n",
      "boston marathon bomber manhunt one suspect dead se\n",
      "bostonmarathon bomber manhunt one suspect dead sec\n",
      "boston marathon bomber manhunt one suspect dead se\n",
      "boston marathon bomber manhunt one suspect dead se\n",
      "boston marathon bomber manhunt one suspect dead se\n",
      "boston marathon bomber manhunt one suspect dead se\n",
      "rt wanted police seeking plate 316 es9 99 honda cr\n",
      "rt wanted police seeking plate 316 es9 99 honda cr\n",
      "rt wanted police seeking plate 316 es9 99 honda cr\n",
      "rt wanted police seeking plate 316 es9 99 honda cr\n",
      "rt wanted police seeking plate 316 es9 99 honda cr\n",
      "rt wanted police seeking plate 316 es9 99 honda cr\n",
      "marathon bomb suspect eludes police hunt shuts bos\n",
      "marathon bomb suspect eludes police hunt shuts bos\n",
      "marathon bomb suspect eludes police hunt shuts bos\n",
      "marathon bomb suspect eludes police hunt shuts bos\n",
      "marathon bomb suspect eludes police hunt shuts bos\n",
      "marathon bomb suspect eludes police hunt shuts bos\n",
      "marathon bomb suspect eludes police hunt shuts bos\n",
      "worldnews marathon bomb suspect eludes police hunt\n",
      "rt breaking news boston marathon terror bombing su\n",
      "rt breaking news boston marathon terror bombing su\n",
      "rt breaking news boston marathon terror bombing su\n",
      "rt breaking news boston marathon terror bombing su\n",
      "rt breaking news boston marathon terror bombing su\n",
      "rt breaking news boston marathon terror bombing su\n",
      "rt breaking news boston marathon terror bombing su\n",
      "rt breaking news boston marathon terror bombing su\n",
      "rt breaking news boston marathon terror bombing su\n",
      "rt breaking news boston marathon terror bombing su\n",
      "rt breaking news boston marathon terror bombing su\n",
      "rt breaking news boston marathon terror bombing su\n",
      "rt breaking news boston marathon terror bombing su\n",
      "rt breaking news boston marathon terror bombing su\n",
      "rt breaking news boston marathon terror bombing su\n",
      "rt breaking news boston marathon terror bombing su\n",
      "rt breaking news boston marathon terror bombing su\n",
      "rt rt rt breaking news boston marathon terror bomb\n",
      "marathon bomb suspect eludes police hunt shuts bos\n",
      "new aerial images show boston bombing suspect boat\n",
      "new aerial images show boston bombing suspect boat\n",
      "good info new aerial images show boston bombing su\n",
      "new aerial images show boston bombing suspect boat\n",
      "new aerial images show boston bombing suspect boat\n",
      "new aerial images show boston bombing suspect boat\n",
      "new aerial images show boston bombing suspect boat\n",
      "socialmedia tech new aerial images show boston bom\n",
      "new aerial images show boston bombing suspect boat\n",
      "entrepreneurship new aerial images show boston bom\n",
      "entrepreneurship new aerial images show boston bom\n",
      "new aerial images show boston bombing suspect boat\n",
      "new aerial images show boston bombing suspect boat\n",
      "new aerial images show boston bombing suspect boat\n",
      "new aerial images show boston bombing suspect boat\n",
      "new aerial images show boston bombing suspect boat\n",
      "new aerial images show boston bombing suspect boat\n",
      "new aerial images show boston bombing suspect boat\n",
      "new aerial images show boston bombing suspect boat\n",
      "new aerial images show boston bombing suspect boat\n",
      "new aerial images show boston bombing suspect boat\n",
      "mashable new aerial images show boston bombing sus\n",
      "new aerial images show boston bombing suspect boat\n",
      "rt new aerial images show boston bombing suspect b\n",
      "rt new aerial images show boston bombing suspect b\n",
      "new aerial images show boston bombing suspect boat\n",
      "bombing suspect unable speak sedated intubated hos\n",
      "bombing suspect unable speak sedated intubated hos\n",
      "bombing suspect unable speak sedated intubated hos\n",
      "bombing suspect unable speak sedated intubated hos\n",
      "bombing suspect unable speak sedated intubated hos\n",
      "bombing suspect unable speak sedated intubated hos\n",
      "bombing suspect unable speak sedated intubated hos\n",
      "bombing suspect unable speak sedated intubated hos\n",
      "bombing suspect unable speak sedated intubated hos\n",
      "bombing suspect unable speak sedated intubated hos\n",
      "rt new aerial images show boston bombing suspect b\n"
     ]
    }
   ],
   "source": [
    "#Stopwords removal-Round-1\n",
    "for i,tweet in enumerate(tweets):\n",
    "    write_tweet = []\n",
    "    words = re.findall(r'\\w+',tweet)\n",
    "    #print words,\n",
    "    for each in words:\n",
    "        each = each.lower()\n",
    "        if each not in stopwords:\n",
    "            write_tweet.append(each)\n",
    "    write_tweet = ' '.join(write_tweet)\n",
    "    tweets[i] = write_tweet\n",
    "\n",
    "print(\"Printing first 50/(maximum 140 characters) of all tweets from dataset:\")\n",
    "for each in tweets:\n",
    "    print each[:50]"
   ]
  },
  {
   "cell_type": "code",
   "execution_count": 55,
   "metadata": {
    "collapsed": false,
    "deletable": true,
    "editable": true
   },
   "outputs": [],
   "source": [
    "#Adding new stopwords after analyzing the tweets above.\n",
    "for each in ['rt','lolz',\"i've\",'the','to','a','of','in','on','is','and','i','-','it']:\n",
    "    stopwords.add(each) "
   ]
  },
  {
   "cell_type": "code",
   "execution_count": 56,
   "metadata": {
    "collapsed": false,
    "deletable": true,
    "editable": true
   },
   "outputs": [
    {
     "name": "stdout",
     "output_type": "stream",
     "text": [
      "251\n",
      "Printing first 50/(maximum 140 characters) of all tweets from dataset:\n",
      "reports marathon runners crossed finish line conti\n",
      "reports marathon runners crossed finish line conti\n",
      "reports marathon runners crossed finish line conti\n",
      "reports marathon runners crossed finish line conti\n",
      "reports marathon runners crossed finish line conti\n",
      "reports marathon runners crossed finish line conti\n",
      "reports marathon runners crossed finish line conti\n",
      "reports marathon runners crossed finish line conti\n",
      "mrjakehumphrey reports marathon runners crossed fi\n",
      "google google person finder locates missing boston\n",
      "boston police confirm another explosion city jfk l\n",
      "reports marathon runners crossed finish line conti\n",
      "reports boston marathon runners crossing finish li\n",
      "reports marathon runners crossed finish line conti\n",
      "reports marathon runners crossed finish line conti\n",
      "wow reports marathon runners crossed finish line c\n",
      "google person finder locates missing boston marath\n",
      "resource google person finder locates missing bost\n",
      "thanks generosity volunteer blood donors currently\n",
      "thanks generosity volunteer blood donors currently\n",
      "boston police confirm another explosion city jfk l\n",
      "official cellphone service shut boston prevent rem\n",
      "cellphone service shut boston prevent remote deton\n",
      "cellphone service shut boston prevent remote deton\n",
      "cellphone service shut boston prevent remote deton\n",
      "reports marathon runners crossed finish line conti\n",
      "reports boston marathon runners crossing finish li\n",
      "boston police confirm another explosion city jfk l\n",
      "marathon runners crossed finish line continued run\n",
      "reports boston marathon runners crossing finish li\n"
     ]
    }
   ],
   "source": [
    "##Stopwords removal-Round-2\n",
    "for i,tweet in enumerate(tweets):\n",
    "    write_tweet = []\n",
    "    words = re.findall(r'\\w+',tweet)\n",
    "    for each in words:\n",
    "        each = each.lower()\n",
    "        if each not in stopwords:\n",
    "            write_tweet.append(each)\n",
    "    write_tweet = ' '.join(write_tweet)\n",
    "    tweets[i] = write_tweet\n",
    "\n",
    "print(len(tweets))\n",
    "print(\"Printing first 50/(maximum 140 characters) of all tweets from dataset:\")\n",
    "for each in tweets[:30]:\n",
    "    print each[:50]"
   ]
  },
  {
   "cell_type": "code",
   "execution_count": 57,
   "metadata": {
    "collapsed": false,
    "deletable": true,
    "editable": true
   },
   "outputs": [
    {
     "data": {
      "text/plain": [
       "251"
      ]
     },
     "execution_count": 57,
     "metadata": {},
     "output_type": "execute_result"
    }
   ],
   "source": [
    "len(tweets)"
   ]
  },
  {
   "cell_type": "code",
   "execution_count": 58,
   "metadata": {
    "collapsed": true,
    "deletable": true,
    "editable": true
   },
   "outputs": [],
   "source": [
    "#Removing duplicate tweets i.e. Retweets removed.\n",
    "tweets = list(set(tweets))"
   ]
  },
  {
   "cell_type": "code",
   "execution_count": 59,
   "metadata": {
    "collapsed": false,
    "deletable": true,
    "editable": true
   },
   "outputs": [
    {
     "data": {
      "text/plain": [
       "94"
      ]
     },
     "execution_count": 59,
     "metadata": {},
     "output_type": "execute_result"
    }
   ],
   "source": [
    "'''So, only 94 unique number of tweets are remaining.'''\n",
    "len(tweets)"
   ]
  },
  {
   "cell_type": "code",
   "execution_count": 60,
   "metadata": {
    "collapsed": false,
    "deletable": true,
    "editable": true,
    "scrolled": true
   },
   "outputs": [
    {
     "name": "stdout",
     "output_type": "stream",
     "text": [
      "Printing first 50/(maximum 140 characters) of all tweets from dataset:\n",
      "bombing suspect unable speak sedated intubated hos\n",
      "boston bombing suspect caught surveillance video c\n",
      "boston marathon bomber manhunt one suspect dead se\n",
      "reports marathon runners crossed finish line conti\n",
      "marathon bomb suspect eludes police hunt shuts bos\n",
      "cellphone service shut boston prevent remote deton\n",
      "breaking news boston marathon terror bombing suspe\n",
      "marathon bomb suspect eludes police hunt shuts bos\n",
      "fbi releases new details boston marathon bombs new\n",
      "mikandynothem trying defeat human spirit marathone\n",
      "boston marathon bomber manhunt one suspect dead se\n",
      "nbcnews feel blessed boston marathon runner escape\n",
      "good info new aerial images show boston bombing su\n",
      "bombing suspect unable speak sedated intubated hos\n",
      "google person finder locates missing boston marath\n",
      "boston bombing suspect caught surveillance video c\n",
      "new aerial images show boston bombing suspect boat\n",
      "entrepreneurship new aerial images show boston bom\n",
      "boston bombing used pressure cooker packed metal c\n",
      "trying defeat human spirit marathoners wrong group\n",
      "boston explosion news least 3 dead 140 injured mar\n",
      "boston bombing suspect saudi national custody char\n",
      "boston explosion news least 3 dead 140 injured mar\n",
      "boston marathon bomber manhunt one suspect dead se\n",
      "google google person finder locates missing boston\n",
      "live updates bostonmarathon least 3 dead 140 injur\n",
      "trying defeat human spirit marathoners wrong group\n",
      "boston marathon bomber manhunt one suspect dead se\n",
      "marathon runners crossed finish line continued run\n",
      "marathon bomb suspect eludes police hunt shuts bos\n",
      "mashable new aerial images show boston bombing sus\n",
      "boston marathon bombs used pressure cooker packed \n",
      "wow reports marathon runners crossed finish line c\n",
      "fbi releases new details boston marathon bombs\n",
      "reports marathon runners crossed finish line conti\n",
      "every retweet receive donate 1 bostonmarathon vict\n",
      "boston police confirm another explosion city jfk l\n",
      "boston marathon bomber manhunt one suspect dead se\n",
      "boston bombing used pressure cooker packed metal c\n",
      "marathon runners crossed finish line continued run\n",
      "boston marathon bomber manhunt one suspect dead se\n",
      "new aerial images show boston bombing suspect boat\n",
      "fbi releases new details boston marathon bombs wit\n",
      "worldnews marathon bomb suspect eludes police hunt\n",
      "least 3 dead 140 injured boston marathon bombing v\n",
      "fbi wants citizens call 1 800 call fbi recognize s\n",
      "new aerial images show boston bombing suspect boat\n",
      "wanted police seeking plate 316 es9 99 honda crv c\n",
      "boston marathon bombs used pressure cooker packed \n",
      "boston marathon bombs used pressure cooker packed \n",
      "wmur9 fbi releases new details boston marathon bom\n",
      "obama regime cut spending domestic bombing prevent\n",
      "fbi releases new details boston marathon bombs pit\n",
      "feel blessed boston marathon runner escaped bombin\n",
      "new aerial images show boston bombing suspect boat\n",
      "boston marathon bomber manhunt one suspect dead se\n",
      "trying defeat human spirit marathoneers wrong grou\n",
      "fbi releases new details boston marathon bombs wit\n",
      "google person finder locates missing boston marath\n",
      "feel blessed boston marathon runner escaped bombin\n",
      "resource google person finder locates missing bost\n",
      "marathon bomb suspect eludes police hunt shuts bos\n",
      "new aerial images show boston bombing suspect boat\n",
      "boston explosion news least 3 dead 140 injured mar\n",
      "fbi releases new details boston marathon bombs one\n",
      "boston marathon runner escaped bombing unscathed a\n",
      "socialmedia tech new aerial images show boston bom\n",
      "google person finder boston marathon explosion\n",
      "bostonmarathon bomber manhunt one suspect dead sec\n",
      "investigators released information suspect deadly \n",
      "google person finder locates missing boston marath\n",
      "thanks generosity volunteer blood donors currently\n",
      "bombing suspect unable speak sedated intubated hos\n",
      "boston bombing suspect caught surveillance video c\n",
      "marathon bomb suspect eludes police hunt shuts bos\n",
      "official cellphone service shut boston prevent rem\n",
      "boston marathon bomber one suspect dead second run\n",
      "one 3 killed boston explosions grad student china \n",
      "cnn us fbi releases new details boston marathon bo\n",
      "huffpostworld boston explosion news least 3 dead 1\n",
      "boston bombing suspect caught surveillance video c\n",
      "heart broken people boston unreal praying peace re\n",
      "breaking faa issued temporary flight restriction a\n",
      "google person finder boston marathon explosions\n",
      "google person finder locates missing boston marath\n",
      "trying defeat human spirit marathoners wrong group\n",
      "mrjakehumphrey reports marathon runners crossed fi\n",
      "google person finder locates missing boston marath\n",
      "new aerial images show boston bombing suspect boat\n",
      "reports boston marathon runners crossing finish li\n",
      "boston explosion news least 3 dead 140 injured mar\n",
      "reports boston marathon runners crossing finish li\n",
      "new aerial images show boston bombing suspect boat\n",
      "marathon bomb suspect eludes police hunt shuts bos\n"
     ]
    }
   ],
   "source": [
    "'''Note the removal of stopwords in the output.'''\n",
    "print(\"Printing first 50/(maximum 140 characters) of all tweets from dataset:\")\n",
    "for each in tweets:\n",
    "    print each[:50]"
   ]
  },
  {
   "cell_type": "code",
   "execution_count": 61,
   "metadata": {
    "collapsed": false,
    "deletable": true,
    "editable": true
   },
   "outputs": [
    {
     "data": {
      "text/plain": [
       "'Saving cleaned tweets in a file on the disk.'"
      ]
     },
     "execution_count": 61,
     "metadata": {},
     "output_type": "execute_result"
    }
   ],
   "source": [
    "'''Saving cleaned tweets in a file on the disk.'''"
   ]
  },
  {
   "cell_type": "code",
   "execution_count": 62,
   "metadata": {
    "collapsed": false,
    "deletable": true,
    "editable": true
   },
   "outputs": [],
   "source": [
    "df2 = pd.DataFrame(data=tweets,columns=['text'])"
   ]
  },
  {
   "cell_type": "code",
   "execution_count": 63,
   "metadata": {
    "collapsed": false,
    "deletable": true,
    "editable": true
   },
   "outputs": [],
   "source": [
    "df2.to_csv('cleaned_tweets.csv',index_label=False)#index_label=False to avoid Unnamed columns."
   ]
  },
  {
   "cell_type": "code",
   "execution_count": 64,
   "metadata": {
    "collapsed": false,
    "deletable": true,
    "editable": true
   },
   "outputs": [],
   "source": [
    "data = pd.read_csv('cleaned_tweets.csv') "
   ]
  },
  {
   "cell_type": "code",
   "execution_count": 65,
   "metadata": {
    "collapsed": false,
    "deletable": true,
    "editable": true,
    "scrolled": true
   },
   "outputs": [
    {
     "data": {
      "text/html": [
       "<div>\n",
       "<table border=\"1\" class=\"dataframe\">\n",
       "  <thead>\n",
       "    <tr style=\"text-align: right;\">\n",
       "      <th></th>\n",
       "      <th>text</th>\n",
       "    </tr>\n",
       "  </thead>\n",
       "  <tbody>\n",
       "    <tr>\n",
       "      <th>0</th>\n",
       "      <td>bombing suspect unable speak sedated intubated...</td>\n",
       "    </tr>\n",
       "    <tr>\n",
       "      <th>1</th>\n",
       "      <td>boston bombing suspect caught surveillance vid...</td>\n",
       "    </tr>\n",
       "    <tr>\n",
       "      <th>2</th>\n",
       "      <td>boston marathon bomber manhunt one suspect dea...</td>\n",
       "    </tr>\n",
       "    <tr>\n",
       "      <th>3</th>\n",
       "      <td>reports marathon runners crossed finish line c...</td>\n",
       "    </tr>\n",
       "    <tr>\n",
       "      <th>4</th>\n",
       "      <td>marathon bomb suspect eludes police hunt shuts...</td>\n",
       "    </tr>\n",
       "  </tbody>\n",
       "</table>\n",
       "</div>"
      ],
      "text/plain": [
       "                                                text\n",
       "0  bombing suspect unable speak sedated intubated...\n",
       "1  boston bombing suspect caught surveillance vid...\n",
       "2  boston marathon bomber manhunt one suspect dea...\n",
       "3  reports marathon runners crossed finish line c...\n",
       "4  marathon bomb suspect eludes police hunt shuts..."
      ]
     },
     "execution_count": 65,
     "metadata": {},
     "output_type": "execute_result"
    }
   ],
   "source": [
    "data.head()"
   ]
  },
  {
   "cell_type": "code",
   "execution_count": 66,
   "metadata": {
    "collapsed": true,
    "deletable": true,
    "editable": true
   },
   "outputs": [],
   "source": [
    "# load nltk's SnowballStemmer as variabled 'stemmer'\n",
    "from nltk.stem.snowball import SnowballStemmer\n",
    "stemmer = SnowballStemmer(\"english\")"
   ]
  },
  {
   "cell_type": "code",
   "execution_count": 67,
   "metadata": {
    "collapsed": false,
    "deletable": true,
    "editable": true,
    "scrolled": true
   },
   "outputs": [
    {
     "name": "stdout",
     "output_type": "stream",
     "text": [
      "Printing first 50/(maximum 140 characters) of all tweets from dataset:\n",
      "bomb suspect unabl speak sedat intub hospit fed co\n",
      "boston bomb suspect caught surveil video could maj\n",
      "boston marathon bomber manhunt one suspect dead se\n",
      "report marathon runner cross finish line continu r\n",
      "marathon bomb suspect elud polic hunt shut boston \n",
      "cellphon servic shut boston prevent remot deton ex\n",
      "break news boston marathon terror bomb suspect arr\n",
      "marathon bomb suspect elud polic hunt shut boston\n",
      "fbi releas new detail boston marathon bomb news\n",
      "mikandynothem tri defeat human spirit marathon wro\n",
      "boston marathon bomber manhunt one suspect dead se\n",
      "nbcnew feel bless boston marathon runner escap bom\n",
      "good info new aerial imag show boston bomb suspect\n",
      "bomb suspect unabl speak sedat intub hospit fed co\n",
      "googl person finder locat miss boston marathon exp\n",
      "boston bomb suspect caught surveil video could maj\n",
      "new aerial imag show boston bomb suspect boat us b\n",
      "entrepreneurship new aerial imag show boston bomb \n",
      "boston bomb use pressur cooker pack metal clue eme\n",
      "tri defeat human spirit marathon wrong group targe\n",
      "boston explos news least 3 dead 140 injur marathon\n",
      "boston bomb suspect saudi nation custodi charg arr\n",
      "boston explos news least 3 dead 140 injur marathon\n",
      "boston marathon bomber manhunt one suspect dead se\n",
      "googl googl person finder locat miss boston marath\n",
      "live updat bostonmarathon least 3 dead 140 injur m\n",
      "tri defeat human spirit marathon wrong group targe\n",
      "boston marathon bomber manhunt one suspect dead se\n",
      "marathon runner cross finish line continu run mass\n",
      "marathon bomb suspect elud polic hunt shut boston \n",
      "mashabl new aerial imag show boston bomb suspect b\n",
      "boston marathon bomb use pressur cooker pack metal\n",
      "wow report marathon runner cross finish line conti\n",
      "fbi releas new detail boston marathon bomb\n",
      "report marathon runner cross finish line continu r\n",
      "everi retweet receiv donat 1 bostonmarathon victim\n",
      "boston polic confirm anoth explos citi jfk librari\n",
      "boston marathon bomber manhunt one suspect dead se\n",
      "boston bomb use pressur cooker pack metal clue eme\n",
      "marathon runner cross finish line continu run hosp\n",
      "boston marathon bomber manhunt one suspect dead se\n",
      "new aerial imag show boston bomb suspect boat mass\n",
      "fbi releas new detail boston marathon bomb within \n",
      "worldnew marathon bomb suspect elud polic hunt shu\n",
      "least 3 dead 140 injur boston marathon bomb via hu\n",
      "fbi want citizen call 1 800 call fbi recogn suspec\n",
      "new aerial imag show boston bomb suspect boat\n",
      "want polic seek plate 316 es9 99 honda crv color g\n",
      "boston marathon bomb use pressur cooker pack metal\n",
      "boston marathon bomb use pressur cooker pack metal\n",
      "wmur9 fbi releas new detail boston marathon bomb w\n",
      "obama regim cut spend domest bomb prevent 45 bosto\n",
      "fbi releas new detail boston marathon bomb pittsbu\n",
      "feel bless boston marathon runner escap bomb unsca\n",
      "new aerial imag show boston bomb suspect boat mass\n",
      "boston marathon bomber manhunt one suspect dead se\n",
      "tri defeat human spirit marathon wrong group targe\n",
      "fbi releas new detail boston marathon bomb within \n",
      "googl person finder locat miss boston marathon exp\n",
      "feel bless boston marathon runner escap bomb unsca\n",
      "resourc googl person finder locat miss boston mara\n",
      "marathon bomb suspect elud polic hunt shut boston \n",
      "new aerial imag show boston bomb suspect boat mass\n",
      "boston explos news least 3 dead 140 injur marathon\n",
      "fbi releas new detail boston marathon bomb one two\n",
      "boston marathon runner escap bomb unscath also wit\n",
      "socialmedia tech new aerial imag show boston bomb \n",
      "googl person finder boston marathon explos\n",
      "bostonmarathon bomber manhunt one suspect dead sec\n",
      "investig releas inform suspect dead explos boston \n",
      "googl person finder locat miss boston marathon exp\n",
      "thank generos volunt blood donor current enough bl\n",
      "bomb suspect unabl speak sedat intub hospit fed co\n",
      "boston bomb suspect caught surveil video could maj\n",
      "marathon bomb suspect elud polic hunt shut boston \n",
      "offici cellphon servic shut boston prevent remot d\n",
      "boston marathon bomber one suspect dead second run\n",
      "one 3 kill boston explos grad student china studi \n",
      "cnn us fbi releas new detail boston marathon bomb \n",
      "huffpostworld boston explos news least 3 dead 140 \n",
      "boston bomb suspect caught surveil video could maj\n",
      "heart broken peopl boston unreal pray peac restor \n",
      "break faa issu temporari flight restrict area expl\n",
      "googl person finder boston marathon explos\n",
      "googl person finder locat miss boston marathon exp\n",
      "tri defeat human spirit marathon wrong group targe\n",
      "mrjakehumphrey report marathon runner cross finish\n",
      "googl person finder locat miss boston marathon exp\n",
      "new aerial imag show boston bomb suspect boat via \n",
      "report boston marathon runner cross finish line co\n",
      "boston explos news least 3 dead 140 injur marathon\n",
      "report boston marathon runner cross finish line co\n",
      "new aerial imag show boston bomb suspect boat mass\n",
      "marathon bomb suspect elud polic hunt shut boston \n"
     ]
    }
   ],
   "source": [
    "#lets stem our list tweets also, so that results are permanent.\n",
    "'''Note the stemmed words in the output.'''\n",
    "for i,tweet in enumerate(tweets):\n",
    "    write_tweet = []\n",
    "    for each in tweet.split():\n",
    "        words = re.findall(r'\\w+',each)\n",
    "        for word in words:\n",
    "            write_tweet.append(stemmer.stem(word))\n",
    "    tweets[i] = ' '.join(write_tweet)\n",
    "    \n",
    "print(\"Printing first 50/(maximum 140 characters) of all tweets from dataset:\")\n",
    "for each in tweets:\n",
    "    print each[:50]"
   ]
  },
  {
   "cell_type": "code",
   "execution_count": 68,
   "metadata": {
    "collapsed": true,
    "deletable": true,
    "editable": true
   },
   "outputs": [],
   "source": [
    "def tokenize_and_stem(text):\n",
    "    # first tokenize by sentence, then by word to ensure that punctuation is caught as it's own token\n",
    "    tokens = [word for sent in nltk.sent_tokenize(text) for word in nltk.word_tokenize(sent)]\n",
    "    filtered_tokens = []\n",
    "    # filter out any tokens not containing letters (e.g., numeric tokens, raw punctuation)\n",
    "    for token in tokens:\n",
    "        if re.search('[a-zA-Z]', token):\n",
    "            filtered_tokens.append(token)\n",
    "    stems = [stemmer.stem(t) for t in filtered_tokens]\n",
    "    return stems"
   ]
  },
  {
   "cell_type": "code",
   "execution_count": 69,
   "metadata": {
    "collapsed": false,
    "deletable": true,
    "editable": true
   },
   "outputs": [
    {
     "name": "stdout",
     "output_type": "stream",
     "text": [
      "CPU times: user 48 ms, sys: 20 ms, total: 68 ms\n",
      "Wall time: 52.9 ms\n",
      "(94, 10)\n"
     ]
    }
   ],
   "source": [
    "from sklearn.feature_extraction.text import TfidfVectorizer\n",
    "\n",
    "# TfidfVectorizer() converts a collection of raw documents to a matrix of TF-IDF features.\n",
    "#The returned object is saved in tfidf_vectorizer.\n",
    "tfidf_vectorizer = TfidfVectorizer(max_df=0.8, max_features=200000,\n",
    "                                 min_df=0.2, stop_words='english',\n",
    "                                 use_idf=True, tokenizer=tokenize_and_stem, \n",
    "                                 ngram_range=(1,3))\n",
    "\n",
    "#fit_transform() learns the vocabulary and idf, returns tfidf document matrix.\n",
    "%time tfidf_matrix = tfidf_vectorizer.fit_transform(tweets)\n",
    "\n",
    "#Shape of returned Tf-idf-weighted document-term matrix.\n",
    "#Shape: sparse matrix, [n_samples, n_features]\n",
    "print(tfidf_matrix.shape) "
   ]
  },
  {
   "cell_type": "code",
   "execution_count": 70,
   "metadata": {
    "collapsed": false,
    "deletable": true,
    "editable": true
   },
   "outputs": [
    {
     "data": {
      "text/plain": [
       "<94x10 sparse matrix of type '<type 'numpy.float64'>'\n",
       "\twith 383 stored elements in Compressed Sparse Row format>"
      ]
     },
     "execution_count": 70,
     "metadata": {},
     "output_type": "execute_result"
    }
   ],
   "source": [
    "#Tf-idf-weighted document-term matrix.\n",
    "# sparse matrix, [n_samples, n_features]\n",
    "tfidf_matrix"
   ]
  },
  {
   "cell_type": "code",
   "execution_count": 71,
   "metadata": {
    "collapsed": false,
    "deletable": true,
    "editable": true
   },
   "outputs": [
    {
     "data": {
      "text/plain": [
       "array([ 1.58358498,  2.22167238,  1.26341745,  1.86499744,  2.29578035,\n",
       "        1.37948962,  2.29578035,  2.55814462,  2.46283444,  1.86499744])"
      ]
     },
     "execution_count": 71,
     "metadata": {},
     "output_type": "execute_result"
    }
   ],
   "source": [
    "#The learned idf vector (global term weights).\n",
    "tfidf_vectorizer.idf_"
   ]
  },
  {
   "cell_type": "code",
   "execution_count": 72,
   "metadata": {
    "collapsed": false,
    "deletable": true,
    "editable": true
   },
   "outputs": [
    {
     "data": {
      "text/plain": [
       "{u'bomb': 0,\n",
       " u'bomb suspect': 1,\n",
       " u'boston': 2,\n",
       " u'boston marathon': 3,\n",
       " u'explo': 4,\n",
       " u'marathon': 5,\n",
       " u'marathon bomb': 6,\n",
       " u'new': 7,\n",
       " u'polic': 8,\n",
       " u'suspect': 9}"
      ]
     },
     "execution_count": 72,
     "metadata": {},
     "output_type": "execute_result"
    }
   ],
   "source": [
    "'''A index vocabulary (dictionary) of the words of the tweets.\n",
    "Using these features, we can convert tweets into a vector space,\n",
    "where each dictionary value of the feature is the correspondig index, \n",
    "so the first term of the vector represents the “bomb” term of our vocabulary, \n",
    "the second represents “bomb suspect” and so on. \n",
    "But, we’re going to use the Tf-idf-weighted values to represent each term in our vector space.'''\n",
    "tfidf_vectorizer.vocabulary_"
   ]
  },
  {
   "cell_type": "code",
   "execution_count": 73,
   "metadata": {
    "collapsed": false,
    "deletable": true,
    "editable": true
   },
   "outputs": [
    {
     "data": {
      "text/plain": [
       "[u'bomb',\n",
       " u'bomb suspect',\n",
       " u'boston',\n",
       " u'boston marathon',\n",
       " u'explo',\n",
       " u'marathon',\n",
       " u'marathon bomb',\n",
       " u'new',\n",
       " u'polic',\n",
       " u'suspect']"
      ]
     },
     "execution_count": 73,
     "metadata": {},
     "output_type": "execute_result"
    }
   ],
   "source": [
    "#Array mapping from feature integer indices to feature name.\n",
    "#These are the features, the columns in the tfidf matrix correspond to.\n",
    "terms = tfidf_vectorizer.get_feature_names()\n",
    "terms"
   ]
  },
  {
   "cell_type": "code",
   "execution_count": 74,
   "metadata": {
    "collapsed": false,
    "deletable": true,
    "editable": true
   },
   "outputs": [
    {
     "data": {
      "text/plain": [
       "(94, 94)"
      ]
     },
     "execution_count": 74,
     "metadata": {},
     "output_type": "execute_result"
    }
   ],
   "source": [
    "'''Cosine similarity gives a useful measure of how similar two tweets \n",
    "are likely to be in terms of their subject matter.'''\n",
    "from sklearn.metrics.pairwise import cosine_similarity\n",
    "\n",
    "#Compute cosine similarity between samples in X and Y.\n",
    "#cosine_similarity() returns an array with shape (n_samples_X, n_samples_Y).\n",
    "#Here we will get distance of 94 tweets to all 94 tweets.\n",
    "dist = 1 - cosine_similarity(tfidf_matrix)\n",
    "dist.shape"
   ]
  },
  {
   "cell_type": "code",
   "execution_count": 75,
   "metadata": {
    "collapsed": false,
    "deletable": true,
    "editable": true
   },
   "outputs": [
    {
     "name": "stdout",
     "output_type": "stream",
     "text": [
      "0.0\n",
      "0.0\n",
      "0.0\n"
     ]
    }
   ],
   "source": [
    "#So, ideally the distance of a tweet-vector to itself should be zero.\n",
    "print dist[0][0]\n",
    "print dist[2][2]\n",
    "print dist[3][3]"
   ]
  },
  {
   "cell_type": "code",
   "execution_count": 76,
   "metadata": {
    "collapsed": false,
    "deletable": true,
    "editable": true
   },
   "outputs": [
    {
     "name": "stdout",
     "output_type": "stream",
     "text": [
      "CPU times: user 60 ms, sys: 0 ns, total: 60 ms\n",
      "Wall time: 56.6 ms\n"
     ]
    }
   ],
   "source": [
    "#We run Kmeans 300 times for 5 clusters.\n",
    "from sklearn.cluster import KMeans\n",
    "\n",
    "num_clusters = 5\n",
    "\n",
    "km = KMeans(n_clusters=num_clusters)\n",
    "\n",
    "#km.fit() runs the KMeans clustering algorithm by default, 300 times.\n",
    "%time km.fit(tfidf_matrix)\n",
    "\n",
    "#Cluster Labels of each point i.e. each corresponding tweet. \n",
    "clusters = km.labels_.tolist()"
   ]
  },
  {
   "cell_type": "code",
   "execution_count": 77,
   "metadata": {
    "collapsed": false,
    "deletable": true,
    "editable": true
   },
   "outputs": [
    {
     "name": "stdout",
     "output_type": "stream",
     "text": [
      "94\n"
     ]
    },
    {
     "data": {
      "text/plain": [
       "('Printing clusters of first 10 tweets:', [1, 1, 4, 2, 1, 3, 1, 1, 0, 2])"
      ]
     },
     "execution_count": 77,
     "metadata": {},
     "output_type": "execute_result"
    }
   ],
   "source": [
    "print len(clusters)\n",
    "\"Printing clusters of first 10 tweets:\",clusters[:10]\n"
   ]
  },
  {
   "cell_type": "code",
   "execution_count": 78,
   "metadata": {
    "collapsed": false,
    "deletable": true,
    "editable": true
   },
   "outputs": [
    {
     "name": "stdout",
     "output_type": "stream",
     "text": [
      "(5, 10)\n"
     ]
    },
    {
     "data": {
      "text/plain": [
       "array([[ 0.54454524,  0.        ,  0.26997803,  0.23728161,  0.13437115,\n",
       "         0.27736408,  0.43059899,  0.1817938 ,  0.        ,  0.        ],\n",
       "       [ 0.36287802,  0.50909556,  0.27014696,  0.04532997,  0.02016023,\n",
       "         0.10061088,  0.11163867,  0.22520927,  0.1925494 ,  0.4273636 ],\n",
       "       [ 0.        ,  0.        ,  0.        ,  0.        ,  0.        ,\n",
       "         1.        ,  0.        ,  0.        ,  0.        ,  0.        ],\n",
       "       [ 0.07495448,  0.        ,  0.42611951,  0.38447201,  0.57702618,\n",
       "         0.30066355,  0.        ,  0.        ,  0.02906453,  0.02137681],\n",
       "       [ 0.        ,  0.        ,  0.197427  ,  0.29143246,  0.        ,\n",
       "         0.21556493,  0.        ,  0.        ,  0.44891237,  0.46123184]])"
      ]
     },
     "execution_count": 78,
     "metadata": {},
     "output_type": "execute_result"
    }
   ],
   "source": [
    "# Return matrix of dimensions [n_clusters, n_features]\n",
    "print km.cluster_centers_.shape\n",
    "km.cluster_centers_"
   ]
  },
  {
   "cell_type": "code",
   "execution_count": 79,
   "metadata": {
    "collapsed": false,
    "deletable": true,
    "editable": true
   },
   "outputs": [],
   "source": [
    "#Saving the clustering result to disk.\n",
    "\n",
    "res = { 'rank':range(94),'tweets': tweets, 'cluster': clusters }\n",
    "\n",
    "frame = pd.DataFrame(res, index = range(94) , columns = [ 'rank','tweets', 'cluster'])\n",
    "\n",
    "frame.to_csv('clustered_tweets.csv', index_label=False)"
   ]
  },
  {
   "cell_type": "code",
   "execution_count": 80,
   "metadata": {
    "collapsed": false,
    "deletable": true,
    "editable": true
   },
   "outputs": [
    {
     "data": {
      "text/html": [
       "<div>\n",
       "<table border=\"1\" class=\"dataframe\">\n",
       "  <thead>\n",
       "    <tr style=\"text-align: right;\">\n",
       "      <th></th>\n",
       "      <th>rank</th>\n",
       "      <th>tweets</th>\n",
       "      <th>cluster</th>\n",
       "    </tr>\n",
       "  </thead>\n",
       "  <tbody>\n",
       "    <tr>\n",
       "      <th>0</th>\n",
       "      <td>0</td>\n",
       "      <td>bomb suspect unabl speak sedat intub hospit fe...</td>\n",
       "      <td>1</td>\n",
       "    </tr>\n",
       "    <tr>\n",
       "      <th>1</th>\n",
       "      <td>1</td>\n",
       "      <td>boston bomb suspect caught surveil video could...</td>\n",
       "      <td>1</td>\n",
       "    </tr>\n",
       "    <tr>\n",
       "      <th>2</th>\n",
       "      <td>2</td>\n",
       "      <td>boston marathon bomber manhunt one suspect dea...</td>\n",
       "      <td>4</td>\n",
       "    </tr>\n",
       "    <tr>\n",
       "      <th>3</th>\n",
       "      <td>3</td>\n",
       "      <td>report marathon runner cross finish line conti...</td>\n",
       "      <td>2</td>\n",
       "    </tr>\n",
       "    <tr>\n",
       "      <th>4</th>\n",
       "      <td>4</td>\n",
       "      <td>marathon bomb suspect elud polic hunt shut bos...</td>\n",
       "      <td>1</td>\n",
       "    </tr>\n",
       "    <tr>\n",
       "      <th>5</th>\n",
       "      <td>5</td>\n",
       "      <td>cellphon servic shut boston prevent remot deto...</td>\n",
       "      <td>3</td>\n",
       "    </tr>\n",
       "    <tr>\n",
       "      <th>6</th>\n",
       "      <td>6</td>\n",
       "      <td>break news boston marathon terror bomb suspect...</td>\n",
       "      <td>1</td>\n",
       "    </tr>\n",
       "    <tr>\n",
       "      <th>7</th>\n",
       "      <td>7</td>\n",
       "      <td>marathon bomb suspect elud polic hunt shut boston</td>\n",
       "      <td>1</td>\n",
       "    </tr>\n",
       "    <tr>\n",
       "      <th>8</th>\n",
       "      <td>8</td>\n",
       "      <td>fbi releas new detail boston marathon bomb news</td>\n",
       "      <td>0</td>\n",
       "    </tr>\n",
       "    <tr>\n",
       "      <th>9</th>\n",
       "      <td>9</td>\n",
       "      <td>mikandynothem tri defeat human spirit marathon...</td>\n",
       "      <td>2</td>\n",
       "    </tr>\n",
       "    <tr>\n",
       "      <th>10</th>\n",
       "      <td>10</td>\n",
       "      <td>boston marathon bomber manhunt one suspect dea...</td>\n",
       "      <td>4</td>\n",
       "    </tr>\n",
       "    <tr>\n",
       "      <th>11</th>\n",
       "      <td>11</td>\n",
       "      <td>nbcnew feel bless boston marathon runner escap...</td>\n",
       "      <td>3</td>\n",
       "    </tr>\n",
       "    <tr>\n",
       "      <th>12</th>\n",
       "      <td>12</td>\n",
       "      <td>good info new aerial imag show boston bomb sus...</td>\n",
       "      <td>1</td>\n",
       "    </tr>\n",
       "    <tr>\n",
       "      <th>13</th>\n",
       "      <td>13</td>\n",
       "      <td>bomb suspect unabl speak sedat intub hospit fe...</td>\n",
       "      <td>1</td>\n",
       "    </tr>\n",
       "    <tr>\n",
       "      <th>14</th>\n",
       "      <td>14</td>\n",
       "      <td>googl person finder locat miss boston marathon...</td>\n",
       "      <td>3</td>\n",
       "    </tr>\n",
       "    <tr>\n",
       "      <th>15</th>\n",
       "      <td>15</td>\n",
       "      <td>boston bomb suspect caught surveil video could...</td>\n",
       "      <td>1</td>\n",
       "    </tr>\n",
       "    <tr>\n",
       "      <th>16</th>\n",
       "      <td>16</td>\n",
       "      <td>new aerial imag show boston bomb suspect boat ...</td>\n",
       "      <td>1</td>\n",
       "    </tr>\n",
       "    <tr>\n",
       "      <th>17</th>\n",
       "      <td>17</td>\n",
       "      <td>entrepreneurship new aerial imag show boston b...</td>\n",
       "      <td>1</td>\n",
       "    </tr>\n",
       "    <tr>\n",
       "      <th>18</th>\n",
       "      <td>18</td>\n",
       "      <td>boston bomb use pressur cooker pack metal clue...</td>\n",
       "      <td>0</td>\n",
       "    </tr>\n",
       "    <tr>\n",
       "      <th>19</th>\n",
       "      <td>19</td>\n",
       "      <td>tri defeat human spirit marathon wrong group t...</td>\n",
       "      <td>2</td>\n",
       "    </tr>\n",
       "    <tr>\n",
       "      <th>20</th>\n",
       "      <td>20</td>\n",
       "      <td>boston explos news least 3 dead 140 injur mara...</td>\n",
       "      <td>0</td>\n",
       "    </tr>\n",
       "    <tr>\n",
       "      <th>21</th>\n",
       "      <td>21</td>\n",
       "      <td>boston bomb suspect saudi nation custodi charg...</td>\n",
       "      <td>1</td>\n",
       "    </tr>\n",
       "    <tr>\n",
       "      <th>22</th>\n",
       "      <td>22</td>\n",
       "      <td>boston explos news least 3 dead 140 injur mara...</td>\n",
       "      <td>0</td>\n",
       "    </tr>\n",
       "    <tr>\n",
       "      <th>23</th>\n",
       "      <td>23</td>\n",
       "      <td>boston marathon bomber manhunt one suspect dea...</td>\n",
       "      <td>4</td>\n",
       "    </tr>\n",
       "    <tr>\n",
       "      <th>24</th>\n",
       "      <td>24</td>\n",
       "      <td>googl googl person finder locat miss boston ma...</td>\n",
       "      <td>3</td>\n",
       "    </tr>\n",
       "    <tr>\n",
       "      <th>25</th>\n",
       "      <td>25</td>\n",
       "      <td>live updat bostonmarathon least 3 dead 140 inj...</td>\n",
       "      <td>0</td>\n",
       "    </tr>\n",
       "    <tr>\n",
       "      <th>26</th>\n",
       "      <td>26</td>\n",
       "      <td>tri defeat human spirit marathon wrong group t...</td>\n",
       "      <td>2</td>\n",
       "    </tr>\n",
       "    <tr>\n",
       "      <th>27</th>\n",
       "      <td>27</td>\n",
       "      <td>boston marathon bomber manhunt one suspect dea...</td>\n",
       "      <td>4</td>\n",
       "    </tr>\n",
       "    <tr>\n",
       "      <th>28</th>\n",
       "      <td>28</td>\n",
       "      <td>marathon runner cross finish line continu run ...</td>\n",
       "      <td>2</td>\n",
       "    </tr>\n",
       "    <tr>\n",
       "      <th>29</th>\n",
       "      <td>29</td>\n",
       "      <td>marathon bomb suspect elud polic hunt shut bos...</td>\n",
       "      <td>1</td>\n",
       "    </tr>\n",
       "    <tr>\n",
       "      <th>...</th>\n",
       "      <td>...</td>\n",
       "      <td>...</td>\n",
       "      <td>...</td>\n",
       "    </tr>\n",
       "    <tr>\n",
       "      <th>64</th>\n",
       "      <td>64</td>\n",
       "      <td>fbi releas new detail boston marathon bomb one...</td>\n",
       "      <td>0</td>\n",
       "    </tr>\n",
       "    <tr>\n",
       "      <th>65</th>\n",
       "      <td>65</td>\n",
       "      <td>boston marathon runner escap bomb unscath also...</td>\n",
       "      <td>3</td>\n",
       "    </tr>\n",
       "    <tr>\n",
       "      <th>66</th>\n",
       "      <td>66</td>\n",
       "      <td>socialmedia tech new aerial imag show boston b...</td>\n",
       "      <td>1</td>\n",
       "    </tr>\n",
       "    <tr>\n",
       "      <th>67</th>\n",
       "      <td>67</td>\n",
       "      <td>googl person finder boston marathon explos</td>\n",
       "      <td>3</td>\n",
       "    </tr>\n",
       "    <tr>\n",
       "      <th>68</th>\n",
       "      <td>68</td>\n",
       "      <td>bostonmarathon bomber manhunt one suspect dead...</td>\n",
       "      <td>4</td>\n",
       "    </tr>\n",
       "    <tr>\n",
       "      <th>69</th>\n",
       "      <td>69</td>\n",
       "      <td>investig releas inform suspect dead explos bos...</td>\n",
       "      <td>3</td>\n",
       "    </tr>\n",
       "    <tr>\n",
       "      <th>70</th>\n",
       "      <td>70</td>\n",
       "      <td>googl person finder locat miss boston marathon...</td>\n",
       "      <td>3</td>\n",
       "    </tr>\n",
       "    <tr>\n",
       "      <th>71</th>\n",
       "      <td>71</td>\n",
       "      <td>thank generos volunt blood donor current enoug...</td>\n",
       "      <td>4</td>\n",
       "    </tr>\n",
       "    <tr>\n",
       "      <th>72</th>\n",
       "      <td>72</td>\n",
       "      <td>bomb suspect unabl speak sedat intub hospit fe...</td>\n",
       "      <td>1</td>\n",
       "    </tr>\n",
       "    <tr>\n",
       "      <th>73</th>\n",
       "      <td>73</td>\n",
       "      <td>boston bomb suspect caught surveil video could...</td>\n",
       "      <td>1</td>\n",
       "    </tr>\n",
       "    <tr>\n",
       "      <th>74</th>\n",
       "      <td>74</td>\n",
       "      <td>marathon bomb suspect elud polic hunt shut bos...</td>\n",
       "      <td>1</td>\n",
       "    </tr>\n",
       "    <tr>\n",
       "      <th>75</th>\n",
       "      <td>75</td>\n",
       "      <td>offici cellphon servic shut boston prevent rem...</td>\n",
       "      <td>3</td>\n",
       "    </tr>\n",
       "    <tr>\n",
       "      <th>76</th>\n",
       "      <td>76</td>\n",
       "      <td>boston marathon bomber one suspect dead second...</td>\n",
       "      <td>4</td>\n",
       "    </tr>\n",
       "    <tr>\n",
       "      <th>77</th>\n",
       "      <td>77</td>\n",
       "      <td>one 3 kill boston explos grad student china st...</td>\n",
       "      <td>3</td>\n",
       "    </tr>\n",
       "    <tr>\n",
       "      <th>78</th>\n",
       "      <td>78</td>\n",
       "      <td>cnn us fbi releas new detail boston marathon b...</td>\n",
       "      <td>0</td>\n",
       "    </tr>\n",
       "    <tr>\n",
       "      <th>79</th>\n",
       "      <td>79</td>\n",
       "      <td>huffpostworld boston explos news least 3 dead ...</td>\n",
       "      <td>0</td>\n",
       "    </tr>\n",
       "    <tr>\n",
       "      <th>80</th>\n",
       "      <td>80</td>\n",
       "      <td>boston bomb suspect caught surveil video could...</td>\n",
       "      <td>1</td>\n",
       "    </tr>\n",
       "    <tr>\n",
       "      <th>81</th>\n",
       "      <td>81</td>\n",
       "      <td>heart broken peopl boston unreal pray peac res...</td>\n",
       "      <td>3</td>\n",
       "    </tr>\n",
       "    <tr>\n",
       "      <th>82</th>\n",
       "      <td>82</td>\n",
       "      <td>break faa issu temporari flight restrict area ...</td>\n",
       "      <td>3</td>\n",
       "    </tr>\n",
       "    <tr>\n",
       "      <th>83</th>\n",
       "      <td>83</td>\n",
       "      <td>googl person finder boston marathon explos</td>\n",
       "      <td>3</td>\n",
       "    </tr>\n",
       "    <tr>\n",
       "      <th>84</th>\n",
       "      <td>84</td>\n",
       "      <td>googl person finder locat miss boston marathon...</td>\n",
       "      <td>3</td>\n",
       "    </tr>\n",
       "    <tr>\n",
       "      <th>85</th>\n",
       "      <td>85</td>\n",
       "      <td>tri defeat human spirit marathon wrong group t...</td>\n",
       "      <td>2</td>\n",
       "    </tr>\n",
       "    <tr>\n",
       "      <th>86</th>\n",
       "      <td>86</td>\n",
       "      <td>mrjakehumphrey report marathon runner cross fi...</td>\n",
       "      <td>2</td>\n",
       "    </tr>\n",
       "    <tr>\n",
       "      <th>87</th>\n",
       "      <td>87</td>\n",
       "      <td>googl person finder locat miss boston marathon...</td>\n",
       "      <td>3</td>\n",
       "    </tr>\n",
       "    <tr>\n",
       "      <th>88</th>\n",
       "      <td>88</td>\n",
       "      <td>new aerial imag show boston bomb suspect boat ...</td>\n",
       "      <td>1</td>\n",
       "    </tr>\n",
       "    <tr>\n",
       "      <th>89</th>\n",
       "      <td>89</td>\n",
       "      <td>report boston marathon runner cross finish lin...</td>\n",
       "      <td>3</td>\n",
       "    </tr>\n",
       "    <tr>\n",
       "      <th>90</th>\n",
       "      <td>90</td>\n",
       "      <td>boston explos news least 3 dead 140 injur mara...</td>\n",
       "      <td>0</td>\n",
       "    </tr>\n",
       "    <tr>\n",
       "      <th>91</th>\n",
       "      <td>91</td>\n",
       "      <td>report boston marathon runner cross finish lin...</td>\n",
       "      <td>3</td>\n",
       "    </tr>\n",
       "    <tr>\n",
       "      <th>92</th>\n",
       "      <td>92</td>\n",
       "      <td>new aerial imag show boston bomb suspect boat ...</td>\n",
       "      <td>1</td>\n",
       "    </tr>\n",
       "    <tr>\n",
       "      <th>93</th>\n",
       "      <td>93</td>\n",
       "      <td>marathon bomb suspect elud polic hunt shut bos...</td>\n",
       "      <td>1</td>\n",
       "    </tr>\n",
       "  </tbody>\n",
       "</table>\n",
       "<p>94 rows × 3 columns</p>\n",
       "</div>"
      ],
      "text/plain": [
       "    rank                                             tweets  cluster\n",
       "0      0  bomb suspect unabl speak sedat intub hospit fe...        1\n",
       "1      1  boston bomb suspect caught surveil video could...        1\n",
       "2      2  boston marathon bomber manhunt one suspect dea...        4\n",
       "3      3  report marathon runner cross finish line conti...        2\n",
       "4      4  marathon bomb suspect elud polic hunt shut bos...        1\n",
       "5      5  cellphon servic shut boston prevent remot deto...        3\n",
       "6      6  break news boston marathon terror bomb suspect...        1\n",
       "7      7  marathon bomb suspect elud polic hunt shut boston        1\n",
       "8      8    fbi releas new detail boston marathon bomb news        0\n",
       "9      9  mikandynothem tri defeat human spirit marathon...        2\n",
       "10    10  boston marathon bomber manhunt one suspect dea...        4\n",
       "11    11  nbcnew feel bless boston marathon runner escap...        3\n",
       "12    12  good info new aerial imag show boston bomb sus...        1\n",
       "13    13  bomb suspect unabl speak sedat intub hospit fe...        1\n",
       "14    14  googl person finder locat miss boston marathon...        3\n",
       "15    15  boston bomb suspect caught surveil video could...        1\n",
       "16    16  new aerial imag show boston bomb suspect boat ...        1\n",
       "17    17  entrepreneurship new aerial imag show boston b...        1\n",
       "18    18  boston bomb use pressur cooker pack metal clue...        0\n",
       "19    19  tri defeat human spirit marathon wrong group t...        2\n",
       "20    20  boston explos news least 3 dead 140 injur mara...        0\n",
       "21    21  boston bomb suspect saudi nation custodi charg...        1\n",
       "22    22  boston explos news least 3 dead 140 injur mara...        0\n",
       "23    23  boston marathon bomber manhunt one suspect dea...        4\n",
       "24    24  googl googl person finder locat miss boston ma...        3\n",
       "25    25  live updat bostonmarathon least 3 dead 140 inj...        0\n",
       "26    26  tri defeat human spirit marathon wrong group t...        2\n",
       "27    27  boston marathon bomber manhunt one suspect dea...        4\n",
       "28    28  marathon runner cross finish line continu run ...        2\n",
       "29    29  marathon bomb suspect elud polic hunt shut bos...        1\n",
       "..   ...                                                ...      ...\n",
       "64    64  fbi releas new detail boston marathon bomb one...        0\n",
       "65    65  boston marathon runner escap bomb unscath also...        3\n",
       "66    66  socialmedia tech new aerial imag show boston b...        1\n",
       "67    67         googl person finder boston marathon explos        3\n",
       "68    68  bostonmarathon bomber manhunt one suspect dead...        4\n",
       "69    69  investig releas inform suspect dead explos bos...        3\n",
       "70    70  googl person finder locat miss boston marathon...        3\n",
       "71    71  thank generos volunt blood donor current enoug...        4\n",
       "72    72  bomb suspect unabl speak sedat intub hospit fe...        1\n",
       "73    73  boston bomb suspect caught surveil video could...        1\n",
       "74    74  marathon bomb suspect elud polic hunt shut bos...        1\n",
       "75    75  offici cellphon servic shut boston prevent rem...        3\n",
       "76    76  boston marathon bomber one suspect dead second...        4\n",
       "77    77  one 3 kill boston explos grad student china st...        3\n",
       "78    78  cnn us fbi releas new detail boston marathon b...        0\n",
       "79    79  huffpostworld boston explos news least 3 dead ...        0\n",
       "80    80  boston bomb suspect caught surveil video could...        1\n",
       "81    81  heart broken peopl boston unreal pray peac res...        3\n",
       "82    82  break faa issu temporari flight restrict area ...        3\n",
       "83    83         googl person finder boston marathon explos        3\n",
       "84    84  googl person finder locat miss boston marathon...        3\n",
       "85    85  tri defeat human spirit marathon wrong group t...        2\n",
       "86    86  mrjakehumphrey report marathon runner cross fi...        2\n",
       "87    87  googl person finder locat miss boston marathon...        3\n",
       "88    88  new aerial imag show boston bomb suspect boat ...        1\n",
       "89    89  report boston marathon runner cross finish lin...        3\n",
       "90    90  boston explos news least 3 dead 140 injur mara...        0\n",
       "91    91  report boston marathon runner cross finish lin...        3\n",
       "92    92  new aerial imag show boston bomb suspect boat ...        1\n",
       "93    93  marathon bomb suspect elud polic hunt shut bos...        1\n",
       "\n",
       "[94 rows x 3 columns]"
      ]
     },
     "execution_count": 80,
     "metadata": {},
     "output_type": "execute_result"
    }
   ],
   "source": [
    "frame"
   ]
  },
  {
   "cell_type": "code",
   "execution_count": 81,
   "metadata": {
    "collapsed": false,
    "deletable": true,
    "editable": true
   },
   "outputs": [],
   "source": [
    "#Finding out the most frequent words in the clusters. \n",
    "\n",
    "from collections import Counter,defaultdict\n",
    "cluster_theme = []\n",
    "for j in xrange(5):\n",
    "    words = []\n",
    "    for i in xrange(94):\n",
    "        if frame.loc[i]['cluster'] == j:\n",
    "            words += frame.loc[i]['tweets'].split()\n",
    "            \n",
    "    word_counts = Counter(words) #counts the number each time a word appears\n",
    "    cluster_theme.append(word_counts.most_common(5))"
   ]
  },
  {
   "cell_type": "code",
   "execution_count": 82,
   "metadata": {
    "collapsed": false,
    "deletable": true,
    "editable": true
   },
   "outputs": [
    {
     "name": "stdout",
     "output_type": "stream",
     "text": [
      "Cluster_Nos   No. of tweets in the cluster\n"
     ]
    },
    {
     "data": {
      "text/plain": [
       "1    27\n",
       "3    22\n",
       "0    21\n",
       "4    13\n",
       "2    11\n",
       "Name: cluster, dtype: int64"
      ]
     },
     "execution_count": 82,
     "metadata": {},
     "output_type": "execute_result"
    }
   ],
   "source": [
    "#We will draw conclusions from this later on.\n",
    "print 'Cluster_Nos   No. of tweets in the cluster'\n",
    "frame['cluster'].value_counts()"
   ]
  },
  {
   "cell_type": "code",
   "execution_count": 83,
   "metadata": {
    "collapsed": true,
    "deletable": true,
    "editable": true
   },
   "outputs": [],
   "source": [
    "'''Multidimensional scaling (MDS) is a means of visualizing\n",
    "the level of similarity of individual cases of a dataset.\n",
    "An MDS algo will try to place each object in N-dimensional space (here N=2) \n",
    "such that the between-object distances are preserved as well as possible. \n",
    "Each object is then assigned coordinates in each of the N dimensions.'''\n",
    "from sklearn.manifold import MDS\n",
    "\n",
    "MDS()\n",
    "\n",
    "mds = MDS(n_components=2, dissimilarity=\"precomputed\", random_state=1)\n",
    "#Arguments:\n",
    "# n_components=2: as we're plotting points in a two-dimensional plane.\n",
    "# \"precomputed\": because we provide a distance matrix \n",
    "#in which we have already tweet-vectors' distance.\n",
    "# random_state=1: we will also specify `random_state` so the \n",
    "#plot is reproducible, same seeds used for centers.\n",
    "\n",
    "# Argument is [n_samples, n_samples] i.e. [94,94] if dissimilarity=’precomputed’.\n",
    "#Result is [n_samples, n_componets] i.e. [94,2].\n",
    "pos = mds.fit_transform(dist)\n",
    "\n",
    "xs, ys = pos[:, 0], pos[:, 1]"
   ]
  },
  {
   "cell_type": "code",
   "execution_count": 84,
   "metadata": {
    "collapsed": false,
    "deletable": true,
    "editable": true
   },
   "outputs": [
    {
     "data": {
      "text/plain": [
       "(94, 2)"
      ]
     },
     "execution_count": 84,
     "metadata": {},
     "output_type": "execute_result"
    }
   ],
   "source": [
    "#Result is [n_samples, n_componets] i.e. [94,2].\n",
    "#Coordinates of each tweet-vector in 2 dimensions\n",
    "#according to the cosine similarity of tweets.\n",
    "pos.shape"
   ]
  },
  {
   "cell_type": "code",
   "execution_count": 85,
   "metadata": {
    "collapsed": false,
    "deletable": true,
    "editable": true
   },
   "outputs": [
    {
     "data": {
      "text/plain": [
       "'Graphical Representation.'"
      ]
     },
     "execution_count": 85,
     "metadata": {},
     "output_type": "execute_result"
    }
   ],
   "source": [
    "'''Graphical Representation.'''"
   ]
  },
  {
   "cell_type": "code",
   "execution_count": 86,
   "metadata": {
    "collapsed": true,
    "deletable": true,
    "editable": true
   },
   "outputs": [],
   "source": [
    "#set up colors per clusters using a dict\n",
    "cluster_colors = {0: '#1b9e77', 1: '#d95f02', 2: '#7570b3', 3: '#e7298a', 4: '#66a61e'}\n",
    "\n",
    "#set up cluster names using a dict\n",
    "cluster_names = {0: cluster_theme[0], \n",
    "                 1: cluster_theme[1], \n",
    "                 2: cluster_theme[2], \n",
    "                 3: cluster_theme[3], \n",
    "                 4: cluster_theme[4]}"
   ]
  },
  {
   "cell_type": "code",
   "execution_count": 87,
   "metadata": {
    "collapsed": true,
    "deletable": true,
    "editable": true
   },
   "outputs": [],
   "source": [
    "%matplotlib inline\n",
    "import matplotlib.pyplot as plt"
   ]
  },
  {
   "cell_type": "code",
   "execution_count": 88,
   "metadata": {
    "collapsed": false,
    "deletable": true,
    "editable": true
   },
   "outputs": [
    {
     "name": "stdout",
     "output_type": "stream",
     "text": [
      "Cluster wise tweet-vectors of tweets in 2 dimensions:\n",
      "--------------------------------------------\n",
      "Cluster 0\n",
      "---------------------------------------------\n",
      "(0,     label  rank         x         y\n",
      "8       0     8  0.208233  0.161496\n",
      "18      0    18  0.533175  0.181472\n",
      "20      0    20  0.062362  0.374964\n",
      "22      0    22  0.062362  0.374964\n",
      "25      0    25  0.322326  0.314785\n",
      "31      0    31  0.203220  0.213080\n",
      "33      0    33  0.208233  0.161496\n",
      "38      0    38  0.533175  0.181472\n",
      "42      0    42  0.270597  0.159254\n",
      "44      0    44  0.089156  0.198813\n",
      "48      0    48  0.203220  0.213080\n",
      "49      0    49  0.203220  0.213080\n",
      "50      0    50  0.270597  0.159254\n",
      "51      0    51  0.636842  0.171046\n",
      "52      0    52  0.208233  0.161496\n",
      "57      0    57  0.270597  0.159254\n",
      "63      0    63  0.062362  0.374964\n",
      "64      0    64  0.087970  0.139723\n",
      "78      0    78  0.087970  0.139723\n",
      "79      0    79  0.062362  0.374964\n",
      "90      0    90  0.062362  0.374964)\n",
      "--------------------------------------------\n",
      "Cluster 1\n",
      "---------------------------------------------\n",
      "(1,     label  rank         x         y\n",
      "0       1     0  0.443553 -0.397256\n",
      "1       1     1  0.100172 -0.096778\n",
      "4       1     4  0.126232 -0.270299\n",
      "6       1     6  0.105046 -0.131946\n",
      "7       1     7  0.126232 -0.270299\n",
      "12      1    12  0.455620 -0.237456\n",
      "13      1    13  0.443554 -0.397255\n",
      "15      1    15  0.389957 -0.285649\n",
      "16      1    16  0.425559 -0.184431\n",
      "17      1    17  0.455620 -0.237456\n",
      "21      1    21  0.367853 -0.084178\n",
      "29      1    29  0.126232 -0.270299\n",
      "30      1    30  0.455620 -0.237456\n",
      "41      1    41  0.308988 -0.369719\n",
      "43      1    43  0.126232 -0.270299\n",
      "46      1    46  0.455620 -0.237456\n",
      "54      1    54  0.308988 -0.369719\n",
      "61      1    61  0.126232 -0.270299\n",
      "62      1    62  0.308988 -0.369719\n",
      "66      1    66  0.455620 -0.237456\n",
      "72      1    72  0.443554 -0.397255\n",
      "73      1    73  0.100172 -0.096778\n",
      "74      1    74  0.126232 -0.270299\n",
      "80      1    80  0.389957 -0.285649\n",
      "88      1    88  0.455620 -0.237456\n",
      "92      1    92  0.308988 -0.369719\n",
      "93      1    93  0.225753 -0.298329)\n",
      "--------------------------------------------\n",
      "Cluster 2\n",
      "---------------------------------------------\n",
      "(2,     label  rank         x         y\n",
      "3       2     3 -0.593911 -0.007679\n",
      "9       2     9 -0.593911 -0.007679\n",
      "19      2    19 -0.593911 -0.007679\n",
      "26      2    26 -0.593911 -0.007679\n",
      "28      2    28 -0.593911 -0.007679\n",
      "32      2    32 -0.593911 -0.007679\n",
      "34      2    34 -0.593911 -0.007678\n",
      "39      2    39 -0.593911 -0.007678\n",
      "56      2    56 -0.593911 -0.007678\n",
      "85      2    85 -0.593911 -0.007679\n",
      "86      2    86 -0.593911 -0.007679)\n",
      "--------------------------------------------\n",
      "Cluster 3\n",
      "---------------------------------------------\n",
      "(3,     label  rank         x         y\n",
      "5       3     5 -0.111508  0.622916\n",
      "11      3    11 -0.111760  0.300751\n",
      "14      3    14 -0.253582  0.349512\n",
      "24      3    24 -0.253582  0.349512\n",
      "36      3    36 -0.348676  0.096604\n",
      "53      3    53 -0.111760  0.300751\n",
      "58      3    58 -0.253582  0.349512\n",
      "59      3    59 -0.111760  0.300751\n",
      "60      3    60 -0.209273  0.340959\n",
      "65      3    65 -0.111760  0.300751\n",
      "67      3    67 -0.253582  0.349512\n",
      "69      3    69 -0.202562  0.170313\n",
      "70      3    70 -0.253582  0.349512\n",
      "75      3    75 -0.111508  0.622916\n",
      "77      3    77 -0.048293  0.586441\n",
      "81      3    81  0.332378  0.534535\n",
      "82      3    82 -0.207544  0.726940\n",
      "83      3    83 -0.253582  0.349512\n",
      "84      3    84 -0.253582  0.349512\n",
      "87      3    87 -0.209273  0.340959\n",
      "89      3    89 -0.298594  0.144417\n",
      "91      3    91 -0.298594  0.144417)\n",
      "--------------------------------------------\n",
      "Cluster 4\n",
      "---------------------------------------------\n",
      "(4,     label  rank         x         y\n",
      "2       4     2 -0.182277 -0.266540\n",
      "10      4    10 -0.182277 -0.266540\n",
      "23      4    23 -0.182277 -0.266540\n",
      "27      4    27 -0.182277 -0.266540\n",
      "35      4    35 -0.334796 -0.838019\n",
      "37      4    37 -0.197657 -0.102562\n",
      "40      4    40 -0.182277 -0.266540\n",
      "45      4    45  0.115794 -0.700745\n",
      "47      4    47 -0.037198 -0.661448\n",
      "55      4    55 -0.182277 -0.266540\n",
      "68      4    68 -0.037198 -0.661448\n",
      "71      4    71 -0.575200 -0.688971\n",
      "76      4    76 -0.182277 -0.266540)\n"
     ]
    }
   ],
   "source": [
    "#create data frame that has the result of the MDS plus the cluster numbers and the rank of tweets.\n",
    "df = pd.DataFrame(dict(x=xs, y=ys, label=clusters, rank=frame['rank'])) \n",
    "\n",
    "#group by cluster\n",
    "groups = df.groupby('label')\n",
    "\n",
    "print \"Cluster wise tweet-vectors of tweets in 2 dimensions:\"\n",
    "for index,each in enumerate(list(groups)):\n",
    "    print \"--------------------------------------------\"\n",
    "    print \"Cluster\",index\n",
    "    print \"---------------------------------------------\"\n",
    "    print each"
   ]
  },
  {
   "cell_type": "code",
   "execution_count": 89,
   "metadata": {
    "collapsed": false,
    "deletable": true,
    "editable": true
   },
   "outputs": [
    {
     "data": {
      "image/png": "[encoded data removed]",
      "text/plain": [
       "<matplotlib.figure.Figure at 0x7f91a338c0d0>"
      ]
     },
     "metadata": {},
     "output_type": "display_data"
    }
   ],
   "source": [
    "# set up plot\n",
    "fig, ax = plt.subplots(figsize=(17, 9)) # set size\n",
    "ax.margins(0.05) # Optional, just adds 5% padding to the autoscaling\n",
    "\n",
    "#iterate through groups to layer the plot\n",
    "#note that I use the cluster_name and cluster_color dicts \n",
    "#with the 'name' lookup to return the appropriate color/label\n",
    "for name, group in groups:\n",
    "    ax.plot(group.x, group.y, marker='o', linestyle='', ms=12, label=cluster_names[name], color=cluster_colors[name], mec='none')\n",
    "    ax.set_aspect('auto')\n",
    "    ax.tick_params(\\\n",
    "        axis= 'x',          # changes apply to the x-axis\n",
    "        which='both',      # both major and minor ticks are affected\n",
    "        bottom='off',      # ticks along the bottom edge are off\n",
    "        top='off',         # ticks along the top edge are off\n",
    "        labelbottom='off')\n",
    "    ax.tick_params(\\\n",
    "        axis= 'y',         # changes apply to the y-axis\n",
    "        which='both',      # both major and minor ticks are affected\n",
    "        left='off',      # ticks along the bottom edge are off\n",
    "        top='off',         # ticks along the top edge are off\n",
    "        labelleft='off')\n",
    "    \n",
    "ax.legend(numpoints=1)  #show legend with only 1 point\n",
    "\n",
    "#add label in x,y position with the label as the tweet rank \n",
    "for i in range(len(df)):\n",
    "    ax.text(df.ix[i]['x'], df.ix[i]['y'], df.ix[i]['rank'], size=16)  \n",
    "    \n",
    "plt.title('Boston Marathon Bombing\\nNote: Labels of dots indicate tweet rank.')\n",
    "\n",
    "    \n",
    "plt.show() #show the plot\n",
    "\n",
    "#plt.savefig('clusters_small_noaxes.png', dpi=200) #to save on disk."
   ]
  },
  {
   "cell_type": "code",
   "execution_count": 91,
   "metadata": {
    "collapsed": false,
    "deletable": true,
    "editable": true
   },
   "outputs": [
    {
     "name": "stdout",
     "output_type": "stream",
     "text": [
      "The Cluster Numbers and the Cluster Theme:\n",
      "Cluster 0 [(u'bomb', 31), (u'boston', 21), (u'marathon', 20), (u'fbi', 8), (u'detail', 8)]\n",
      "Cluster 1 [(u'bomb', 28), (u'suspect', 28), (u'boston', 27), (u'imag', 13), (u'show', 11)]\n",
      "Cluster 2 [(u'marathon', 11), (u'victim', 6), (u'give', 6), (u'runner', 6), (u'continu', 6)]\n",
      "Cluster 3 [(u'boston', 24), (u'explos', 19), (u'marathon', 17), (u'googl', 11), (u'finder', 9)]\n",
      "Cluster 4 [(u'suspect', 11), (u'dead', 9), (u'one', 9), (u'bomber', 9), (u'polic', 9)]\n",
      "---------------------------------------------------------\n",
      "Cluster_Nos   No. of tweets in the cluster\n",
      "1    27\n",
      "3    22\n",
      "0    21\n",
      "4    13\n",
      "2    11\n",
      "Name: cluster, dtype: int64\n",
      "----------------------------------------------------------\n",
      "Conclusions from Clusters:\n",
      "Conclusion 1: No. of tweets/total:27/94\n",
      "Cluster No. 1: Top cluster having the maximum number of tweets is regarding \n",
      "        the status of the suspects when their image surfaced.\n",
      "\n",
      "Conclusion 2: No. of tweets/total:22/94\n",
      "Cluster No. 3: is about the Google Finder service which\n",
      "let people reconnect with the victims in the aftermath the bombing.\n",
      "\n",
      "Conclusion 3: No. of tweets/total:21/94\n",
      "Cluster No. 0: is about the FBI releasing new details about the suspects.\n",
      "\n",
      "Conclusion 4: No. of tweets/total:13/94\n",
      "Cluster No. 4: is about the update about the number of dead and surviving suspects.\n",
      "\n",
      "Conclusion 5: No. of tweets/total:11/94\n",
      "Cluster No. 2: is about the people who completed the marathon before the bombings,\n",
      "        and reached the hospital to donate blood to the victims. \n",
      "        The words \"blood\" and \"hospital\" also have the frequency 6, though they don\"t appear\n",
      "        in the Cluster_Theme.\n",
      "----------------------------------------------------------\n",
      "Further Conclusions:\n",
      "Conclusion 6: Our 3 out of 5 Clusters are associated with suspects, which implies that majority of the \n",
      "        online discussion about the attack revolved around the suspects and the updates about them only.\n",
      "Conclusion 7: Google Finder was the only discussion which survived the shadow of\n",
      "        suspect-related tweets, because Cluster No. 3 is the  only cluster with comparable no. of tweets.\n",
      "        \n"
     ]
    }
   ],
   "source": [
    "#Further Conclusions:\n",
    "print \"The Cluster Numbers and the Cluster Theme:\"\n",
    "for i in xrange(5):\n",
    "    print 'Cluster',i,cluster_theme[i]\n",
    "    \n",
    "print \"---------------------------------------------------------\"\n",
    "print 'Cluster_Nos   No. of tweets in the cluster'\n",
    "print frame['cluster'].value_counts()\n",
    "\n",
    "print \"----------------------------------------------------------\"\n",
    "print \"Conclusions from Clusters:\"\n",
    "print \"Conclusion 1: No. of tweets/total:27/94\"\n",
    "print '''Cluster No. 1: Top cluster having the maximum number of tweets is regarding \n",
    "        the status of the suspects when their image surfaced.'''\n",
    "print\n",
    "print \"Conclusion 2: No. of tweets/total:22/94\"\n",
    "print '''Cluster No. 3: is about the Google Finder service which\n",
    "let people reconnect with the victims in the aftermath the bombing.'''\n",
    "\n",
    "print\n",
    "print \"Conclusion 3: No. of tweets/total:21/94\"\n",
    "print '''Cluster No. 0: is about the FBI releasing new details about the suspects.'''\n",
    "\n",
    "print\n",
    "print \"Conclusion 4: No. of tweets/total:13/94\"\n",
    "print '''Cluster No. 4: is about the update about the number of dead and surviving suspects.'''\n",
    "\n",
    "print\n",
    "print \"Conclusion 5: No. of tweets/total:11/94\"\n",
    "print '''Cluster No. 2: is about the people who completed the marathon before the bombings,\n",
    "        and reached the hospital to donate blood to the victims. \n",
    "        The words \"blood\" and \"hospital\" also have the frequency 6, though they don\"t appear\n",
    "        in the Cluster_Theme.'''\n",
    "print \"----------------------------------------------------------\"\n",
    "print \"Further Conclusions:\"\n",
    "print '''Conclusion 6: Our 3 out of 5 Clusters are associated with suspects, which implies that majority of the \n",
    "        online discussion about the attack revolved around the suspects and the updates about them only.'''\n",
    "\n",
    "print '''Conclusion 7: Google Finder was the only discussion which survived the shadow of\n",
    "        suspect-related tweets, because Cluster No. 3 is the  only cluster with comparable no. of tweets.\n",
    "        '''"
   ]
  }
 ],
 "metadata": {
  "kernelspec": {
   "display_name": "Python 2",
   "language": "python",
   "name": "python2"
  },
  "language_info": {
   "codemirror_mode": {
    "name": "ipython",
    "version": 2
   },
   "file_extension": ".py",
   "mimetype": "text/x-python",
   "name": "python",
   "nbconvert_exporter": "python",
   "pygments_lexer": "ipython2",
   "version": "2.7.12"
  }
 },
 "nbformat": 4,
 "nbformat_minor": 2
}
